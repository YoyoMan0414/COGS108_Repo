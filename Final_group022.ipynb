{
  "cells": [
    {
      "cell_type": "markdown",
      "metadata": {
        "id": "0ZWd1_7haS6r"
      },
      "source": [
        "# COGS 108 - Racial & Identity Profiling in Police Traffic Stops"
      ]
    },
    {
      "cell_type": "markdown",
      "source": [
        "Final Video Link:\n",
        "[Youtube](https://youtu.be/gfPdYHK-BWw)"
      ],
      "metadata": {
        "id": "7ARd3AnzLPdN"
      }
    },
    {
      "cell_type": "markdown",
      "source": [
        "# Permissions\n",
        "\n",
        "Specify whether you want your group project to be made publicly available. Place an X in the square brackets where appropriate.\n",
        "- [ ] Permission for project to be made publicly available"
      ],
      "metadata": {
        "id": "c7hMkVz9Lw5i"
      }
    },
    {
      "cell_type": "markdown",
      "source": [
        "# Overview\n",
        "\n"
      ],
      "metadata": {
        "id": "7NJs3-5DMJfa"
      }
    },
    {
      "cell_type": "markdown",
      "source": [
        "Our project aimed to determine if there were any racial disparities in police vehicular stops, specifically in the San Diego County. Using police vehicle stop data provided by the San Diego Police Department and demographic data provided by State of California demographic reports, we analyzed racial trends from 2014 - 2018 and considered whether gender, age, and time of day would influence these trends. We conclude that there is a difference between racial groups stopped, such that Black drivers and Native American drivers are stopped at a higher proportion compared to White, Hispanic, and Asian drivers, regardless of gender or age. However, time of day appears to influence the proportion of Native American drivers stopped where more are stopped near nighttime."
      ],
      "metadata": {
        "id": "L2eweBOufunI"
      }
    },
    {
      "cell_type": "markdown",
      "metadata": {
        "id": "nn4I5yZeaS6s"
      },
      "source": [
        "# Names\n",
        "\n",
        "- Man Jiang\n",
        "- Anya Bodhisartha\n",
        "- Jiliana Tiu\n",
        "- Jingyue Xu\n",
        "- Divya Shetty"
      ]
    },
    {
      "cell_type": "markdown",
      "metadata": {
        "id": "SW-JAlCDaS6s"
      },
      "source": [
        "<a id='research_question'></a>\n",
        "# Research Question"
      ]
    },
    {
      "cell_type": "markdown",
      "metadata": {
        "id": "apNrmi0-aS6t"
      },
      "source": [
        "#### **Racial and Identity Profiling in Traffic Stops:**\n",
        "\n",
        "- Are ethnic minorities more likely to be stopped by the police? \n",
        "- How are traffic stop decisions biased by individual physical characteristics and are there any significant racial disparities to be noticed? \n",
        "- Are there any trends in the frequency of people being stopped by the police each year?"
      ]
    },
    {
      "cell_type": "markdown",
      "source": [
        "# Background and Prior Work"
      ],
      "metadata": {
        "id": "ce_BLW1jMc2G"
      }
    },
    {
      "cell_type": "markdown",
      "source": [
        "Reports of police brutality often headline national news as law enforcement officers are exposed to be wrongfully hurting and killing people of color. Although studies have shown that systemic racism exists in the American law system [1], much of the public remains divided on this issue. Are these breaking news stories representative of systemic racism, or exceptional events overplayed by media? This raises the question if racial bias exists in the less \"high-profile\" jobs within law enforcement that are not often highlighted by news media. In this report, we focus on vehicle stops - properly performed when the police officer has reasonable suspicion that the driver has committed a crime [4].\n",
        "\n",
        "Racial inequality is deeply rooted in US history and culture. Although the nation promotes equality, racial bias is still rampant and is known to influence some decision-making within law enforcement. Our project aims to focus on vehicle stops because it is a familiar occurence for regular citizens. We believe the familiarity of vehicle stops on our daily lives contributes to a more holistic perspective of how systemic racism may affect regular citizens. A vehicle can be pulled over for several reasons, but it starts with the police officer's suspicion of the driver that initiates the vehicle stop. We wish to explore if vehicle stops are influenced by racial biases or by other factors.\n",
        "\n",
        "A 2020 nationwide analysis of racial disparities in police stops has found preliminary evidence of racial bias against Black drivers and Hispanic drivers [1]. It was found that in general, the bar for police stops – and subsequently, the searching of drivers – was lower for Black and Hispanic groups than that of white groups. Their results further demonstrate the persistence of racial bias despite legislation change, such as the legalization of recreational marijuana, and of demographics within minority communities. Our project aims to scale down this investigation to San Diego county and advance analyses to more specific factors contributing to police stop bias.\n",
        "\n",
        "As part of California AB 953, the Racial and Identity Profiling Act (RIPA) of 2015 aims to prevent racial and identity profiling through law enforcement [2]. This act requires state and local law enforcement agencies to collect and report stop details of individuals to the California Department of Justice to improve transparency and racial justice in the system. With the government-provided database [3] from 2014 to 2021 available to the public, we plan to explore how an individual’s physical characteristics, such as race and gender, affects the chance of a traffic stop, and how the decisions after stops could vary among them. Through our results, we hope to measure the prevalence of racial bias within San Diego’s traffic law enforcement system.\n",
        "\n",
        "Discussion of RIPA 2015 is relevant to our current analysis as we are exploring if police biases violate this Act's promise of racial justice. Even though RIPA has ensured the safety and justice among citizens of California, racial bias has been embedded in our system for a long time. To determine RIPA's success in improving the transparency and racial justice in California, we will study population and vehicle stop data to conclude if certain biases affect the police's decision making.\n",
        "\n",
        "-----\n",
        "\n",
        "References:\n",
        "1. Pierson, E., Simoiu, C., Overgoor, J. et al. A large-scale analysis of racial disparities in police stops across the United States. Nat Hum Behav 4, 736–745 (2020). https://doi.org/10.1038/s41562-020-0858-1\n",
        "2. “AB-953 Law Enforcement: Racial Profiling.” Bill Text - AB-953 Law Enforcement: Racial Profiling., https://leginfo.legislature.ca.gov/faces/billNavClient.xhtml?bill_id=201520160AB953.\n",
        "3. Police Vehicle Stops. (n.d.). https://data.sandiego.gov/datasets/police-vehicle-stops/\n",
        "4. “Traffic Stop.” Cornell Law School, Cornell Law School, https://www.law.cornell.edu/wex/traffic_stop. \n",
        "\n"
      ],
      "metadata": {
        "id": "T4amX7fHMhfW"
      }
    },
    {
      "cell_type": "markdown",
      "source": [
        "# Hypothesis"
      ],
      "metadata": {
        "id": "UXjwXhOGMx-K"
      }
    },
    {
      "cell_type": "markdown",
      "source": [
        "Although California’s policies have prohibited racial and identity profiling through law enforcement, we hypothesize that inherent racial and identity profiling still exists within the law enforcement system due to the persistence of personal biases. Based on our hypothesis, we predict that minority drivers are more likely to be stopped by police officers than white drivers in San Diego.\n",
        "\n",
        "Our hypothesis is also well-supported by credible sources. According to *Census.gov*, racial distribution in San Diego County consists of major races: white (75.4%), Hispanic (34.1%), Asian (12.6%), and black (5.5%). But there is a huge gap between white and other races when it comes to vehicle stops: \"Black people were stopped by San Diego police at higher rates than white people in 106 (85%) of the 125 San Diego police beats\" [4],\n",
        "although black population in San Diego County is only 5.5%. \n",
        "\n",
        "-----\n",
        "\n",
        "References:\n",
        "\n",
        "Final san diego policing - police scorecard. (n.d.). Retrieved June 5, 2022, from https://www.policescorecard.org/san-diego/police-scorecard-san-diego-report.pdf \n",
        "\n",
        "U.S. Census Bureau. (n.d.). U.S. Census Bureau quickfacts: San Diego County, California. Retrieved June 5, 2022, from https://www.census.gov/quickfacts/fact/table/sandiegocountycalifornia/PST045221 "
      ],
      "metadata": {
        "id": "aJXD1uWYM0W7"
      }
    },
    {
      "cell_type": "markdown",
      "metadata": {
        "id": "07zTmdblaS6t"
      },
      "source": [
        "# Dataset(s)"
      ]
    },
    {
      "cell_type": "markdown",
      "metadata": {
        "id": "kPl4xOP_aS6t"
      },
      "source": [
        "\n",
        "**Dataset 1 - Police Vehicle Stops**\n",
        "- Link: https://data.sandiego.gov/datasets/police-vehicle-stops/\n",
        "- Number of observations: 465266 \n",
        "- Description: This dataset contains information about police vehicular stops by the San Diego Police Department from 2014 to June of 2018. The data includes information about each individual that was stopped such as: a unique identifier for the individual, the cause of stop, the location of the stop, driver demographics (age, sex, race), date and time of stop, and subsequent actions made (arrested/searched).\n",
        "\n",
        "\n",
        "**Dataset 2 - Population Demographics**\n",
        "- Link: https://dof.ca.gov/reports/demographic-reports/american-community-survey/\n",
        "- Number of observations: 54\n",
        "- Description: This dataset contains demographics estimates for 2014-2019. The data was compiled by editing the Excel files provided for the 1-year estimates under \"ACS Summary Files\" for the years 2014-2019. As such, the dataset will only include cities where the San Diego Police Department operates. The dataset includes the county/city, estimated population, estimated racial demographics, estimated family income and per capita income, and estimated poverty rate.\n",
        "\n",
        "  "
      ]
    },
    {
      "cell_type": "markdown",
      "source": [
        "### Combining the Data to Solve Our Question\n",
        "\n",
        "We plan to use the 'Police Vehicle Stops' dataset in order to determine if ethnic minorities are more likely to be stopped by the police. As such, we'd like to analyze the proportion of ethnic minorities stopped by the San Diego Police Department in order to more accurately compare the data for ethnic minorities stopped vs. white drivers stopped.\n",
        "\n",
        "To do so, we will use the race population estimates from 'Population Demographics' in order to calculate the proportions of various races present in cities that the San Diego Police Department operates in. By doing so, we can conclude whether minority drivers are pulled over a disproportionate amount or not."
      ],
      "metadata": {
        "id": "jf0TBAXiM6H1"
      }
    },
    {
      "cell_type": "markdown",
      "source": [
        "# Setup"
      ],
      "metadata": {
        "id": "uzmo9pJ26UhA"
      }
    },
    {
      "cell_type": "code",
      "execution_count": null,
      "metadata": {
        "id": "01edd592"
      },
      "outputs": [],
      "source": [
        "import pandas as pd\n",
        "import numpy as np\n",
        "import seaborn as sns\n",
        "import matplotlib.pyplot as plt\n",
        "import datetime\n",
        "from scipy import stats"
      ]
    },
    {
      "cell_type": "markdown",
      "metadata": {
        "id": "e4ee3bf7"
      },
      "source": [
        "## Datasets: Importing the Data Files"
      ]
    },
    {
      "cell_type": "code",
      "execution_count": null,
      "metadata": {
        "scrolled": true,
        "id": "6b8f6294"
      },
      "outputs": [],
      "source": [
        "# Stops\n",
        "race_code = pd.read_csv('https://raw.githubusercontent.com/xrsAlveus/COGS108_Repo/main/Project/CheckPoint1/Data/vehicle_stops_race_codes.csv')\n",
        "df_dict = pd.read_csv('https://raw.githubusercontent.com/xrsAlveus/COGS108_Repo/main/Project/CheckPoint1/Data/vehicle_stops_dictionary.csv')\n",
        "stop_2014 = pd.read_csv('https://raw.githubusercontent.com/xrsAlveus/COGS108_Repo/main/Project/CheckPoint1/Data/vehicle_stops_2014_datasd_v1.csv')\n",
        "stop_2015 = pd.read_csv('https://raw.githubusercontent.com/xrsAlveus/COGS108_Repo/main/Project/CheckPoint1/Data/vehicle_stops_2015_datasd_v1.csv')\n",
        "stop_2016 = pd.read_csv('https://raw.githubusercontent.com/xrsAlveus/COGS108_Repo/main/Project/CheckPoint1/Data/vehicle_stops_2016_datasd_v1.csv')\n",
        "stop_2017 = pd.read_csv('https://raw.githubusercontent.com/xrsAlveus/COGS108_Repo/main/Project/CheckPoint1/Data/vehicle_stops_2017_datasd_v1.csv')\n",
        "stopAll = pd.concat([stop_2014, stop_2015, stop_2016, stop_2017])\n",
        "\n",
        "# Demographics\n",
        "demoAll = pd.read_csv('https://raw.githubusercontent.com/xrsAlveus/COGS108_Repo/main/Project/CheckPoint1/Data/SanDiegoDemographics_COGS108.csv')"
      ]
    },
    {
      "cell_type": "code",
      "source": [
        "stopAll.head()"
      ],
      "metadata": {
        "colab": {
          "base_uri": "https://localhost:8080/",
          "height": 357
        },
        "id": "81u2LeH8BI_s",
        "outputId": "6eb487a4-e1b8-46ee-a0bc-c927e8efa3f6"
      },
      "execution_count": null,
      "outputs": [
        {
          "output_type": "execute_result",
          "data": {
            "text/plain": [
              "   stop_id           stop_cause service_area subject_race subject_sex  \\\n",
              "0  1044975     Moving Violation          110            W           M   \n",
              "1  1044976     Moving Violation          320            W           M   \n",
              "2  1044977     Moving Violation          320            L           M   \n",
              "3  1044978     Moving Violation          610            W           M   \n",
              "4  1044980  Equipment Violation          930            H           M   \n",
              "\n",
              "  subject_age            date_time   date_stop time_stop sd_resident arrested  \\\n",
              "0          24  2014-01-01 01:25:00  2014-01-01      1:25           Y        N   \n",
              "1          42  2014-01-01 05:47:00  2014-01-01      5:47           Y        N   \n",
              "2          29  2014-01-01 07:46:00  2014-01-01      7:46           Y        N   \n",
              "3          23  2014-01-01 08:10:00  2014-01-01      8:10           Y        N   \n",
              "4          35  2014-01-01 08:35:00  2014-01-01      8:35           N        N   \n",
              "\n",
              "  searched obtained_consent contraband_found property_seized  \n",
              "0        N                N                N               N  \n",
              "1        N              NaN              NaN             NaN  \n",
              "2        N              NaN              NaN             NaN  \n",
              "3        N              NaN              NaN             NaN  \n",
              "4        N              NaN              NaN             NaN  "
            ],
            "text/html": [
              "\n",
              "  <div id=\"df-a8580b02-6c35-4270-b1d5-a80397f3b016\">\n",
              "    <div class=\"colab-df-container\">\n",
              "      <div>\n",
              "<style scoped>\n",
              "    .dataframe tbody tr th:only-of-type {\n",
              "        vertical-align: middle;\n",
              "    }\n",
              "\n",
              "    .dataframe tbody tr th {\n",
              "        vertical-align: top;\n",
              "    }\n",
              "\n",
              "    .dataframe thead th {\n",
              "        text-align: right;\n",
              "    }\n",
              "</style>\n",
              "<table border=\"1\" class=\"dataframe\">\n",
              "  <thead>\n",
              "    <tr style=\"text-align: right;\">\n",
              "      <th></th>\n",
              "      <th>stop_id</th>\n",
              "      <th>stop_cause</th>\n",
              "      <th>service_area</th>\n",
              "      <th>subject_race</th>\n",
              "      <th>subject_sex</th>\n",
              "      <th>subject_age</th>\n",
              "      <th>date_time</th>\n",
              "      <th>date_stop</th>\n",
              "      <th>time_stop</th>\n",
              "      <th>sd_resident</th>\n",
              "      <th>arrested</th>\n",
              "      <th>searched</th>\n",
              "      <th>obtained_consent</th>\n",
              "      <th>contraband_found</th>\n",
              "      <th>property_seized</th>\n",
              "    </tr>\n",
              "  </thead>\n",
              "  <tbody>\n",
              "    <tr>\n",
              "      <th>0</th>\n",
              "      <td>1044975</td>\n",
              "      <td>Moving Violation</td>\n",
              "      <td>110</td>\n",
              "      <td>W</td>\n",
              "      <td>M</td>\n",
              "      <td>24</td>\n",
              "      <td>2014-01-01 01:25:00</td>\n",
              "      <td>2014-01-01</td>\n",
              "      <td>1:25</td>\n",
              "      <td>Y</td>\n",
              "      <td>N</td>\n",
              "      <td>N</td>\n",
              "      <td>N</td>\n",
              "      <td>N</td>\n",
              "      <td>N</td>\n",
              "    </tr>\n",
              "    <tr>\n",
              "      <th>1</th>\n",
              "      <td>1044976</td>\n",
              "      <td>Moving Violation</td>\n",
              "      <td>320</td>\n",
              "      <td>W</td>\n",
              "      <td>M</td>\n",
              "      <td>42</td>\n",
              "      <td>2014-01-01 05:47:00</td>\n",
              "      <td>2014-01-01</td>\n",
              "      <td>5:47</td>\n",
              "      <td>Y</td>\n",
              "      <td>N</td>\n",
              "      <td>N</td>\n",
              "      <td>NaN</td>\n",
              "      <td>NaN</td>\n",
              "      <td>NaN</td>\n",
              "    </tr>\n",
              "    <tr>\n",
              "      <th>2</th>\n",
              "      <td>1044977</td>\n",
              "      <td>Moving Violation</td>\n",
              "      <td>320</td>\n",
              "      <td>L</td>\n",
              "      <td>M</td>\n",
              "      <td>29</td>\n",
              "      <td>2014-01-01 07:46:00</td>\n",
              "      <td>2014-01-01</td>\n",
              "      <td>7:46</td>\n",
              "      <td>Y</td>\n",
              "      <td>N</td>\n",
              "      <td>N</td>\n",
              "      <td>NaN</td>\n",
              "      <td>NaN</td>\n",
              "      <td>NaN</td>\n",
              "    </tr>\n",
              "    <tr>\n",
              "      <th>3</th>\n",
              "      <td>1044978</td>\n",
              "      <td>Moving Violation</td>\n",
              "      <td>610</td>\n",
              "      <td>W</td>\n",
              "      <td>M</td>\n",
              "      <td>23</td>\n",
              "      <td>2014-01-01 08:10:00</td>\n",
              "      <td>2014-01-01</td>\n",
              "      <td>8:10</td>\n",
              "      <td>Y</td>\n",
              "      <td>N</td>\n",
              "      <td>N</td>\n",
              "      <td>NaN</td>\n",
              "      <td>NaN</td>\n",
              "      <td>NaN</td>\n",
              "    </tr>\n",
              "    <tr>\n",
              "      <th>4</th>\n",
              "      <td>1044980</td>\n",
              "      <td>Equipment Violation</td>\n",
              "      <td>930</td>\n",
              "      <td>H</td>\n",
              "      <td>M</td>\n",
              "      <td>35</td>\n",
              "      <td>2014-01-01 08:35:00</td>\n",
              "      <td>2014-01-01</td>\n",
              "      <td>8:35</td>\n",
              "      <td>N</td>\n",
              "      <td>N</td>\n",
              "      <td>N</td>\n",
              "      <td>NaN</td>\n",
              "      <td>NaN</td>\n",
              "      <td>NaN</td>\n",
              "    </tr>\n",
              "  </tbody>\n",
              "</table>\n",
              "</div>\n",
              "      <button class=\"colab-df-convert\" onclick=\"convertToInteractive('df-a8580b02-6c35-4270-b1d5-a80397f3b016')\"\n",
              "              title=\"Convert this dataframe to an interactive table.\"\n",
              "              style=\"display:none;\">\n",
              "        \n",
              "  <svg xmlns=\"http://www.w3.org/2000/svg\" height=\"24px\"viewBox=\"0 0 24 24\"\n",
              "       width=\"24px\">\n",
              "    <path d=\"M0 0h24v24H0V0z\" fill=\"none\"/>\n",
              "    <path d=\"M18.56 5.44l.94 2.06.94-2.06 2.06-.94-2.06-.94-.94-2.06-.94 2.06-2.06.94zm-11 1L8.5 8.5l.94-2.06 2.06-.94-2.06-.94L8.5 2.5l-.94 2.06-2.06.94zm10 10l.94 2.06.94-2.06 2.06-.94-2.06-.94-.94-2.06-.94 2.06-2.06.94z\"/><path d=\"M17.41 7.96l-1.37-1.37c-.4-.4-.92-.59-1.43-.59-.52 0-1.04.2-1.43.59L10.3 9.45l-7.72 7.72c-.78.78-.78 2.05 0 2.83L4 21.41c.39.39.9.59 1.41.59.51 0 1.02-.2 1.41-.59l7.78-7.78 2.81-2.81c.8-.78.8-2.07 0-2.86zM5.41 20L4 18.59l7.72-7.72 1.47 1.35L5.41 20z\"/>\n",
              "  </svg>\n",
              "      </button>\n",
              "      \n",
              "  <style>\n",
              "    .colab-df-container {\n",
              "      display:flex;\n",
              "      flex-wrap:wrap;\n",
              "      gap: 12px;\n",
              "    }\n",
              "\n",
              "    .colab-df-convert {\n",
              "      background-color: #E8F0FE;\n",
              "      border: none;\n",
              "      border-radius: 50%;\n",
              "      cursor: pointer;\n",
              "      display: none;\n",
              "      fill: #1967D2;\n",
              "      height: 32px;\n",
              "      padding: 0 0 0 0;\n",
              "      width: 32px;\n",
              "    }\n",
              "\n",
              "    .colab-df-convert:hover {\n",
              "      background-color: #E2EBFA;\n",
              "      box-shadow: 0px 1px 2px rgba(60, 64, 67, 0.3), 0px 1px 3px 1px rgba(60, 64, 67, 0.15);\n",
              "      fill: #174EA6;\n",
              "    }\n",
              "\n",
              "    [theme=dark] .colab-df-convert {\n",
              "      background-color: #3B4455;\n",
              "      fill: #D2E3FC;\n",
              "    }\n",
              "\n",
              "    [theme=dark] .colab-df-convert:hover {\n",
              "      background-color: #434B5C;\n",
              "      box-shadow: 0px 1px 3px 1px rgba(0, 0, 0, 0.15);\n",
              "      filter: drop-shadow(0px 1px 2px rgba(0, 0, 0, 0.3));\n",
              "      fill: #FFFFFF;\n",
              "    }\n",
              "  </style>\n",
              "\n",
              "      <script>\n",
              "        const buttonEl =\n",
              "          document.querySelector('#df-a8580b02-6c35-4270-b1d5-a80397f3b016 button.colab-df-convert');\n",
              "        buttonEl.style.display =\n",
              "          google.colab.kernel.accessAllowed ? 'block' : 'none';\n",
              "\n",
              "        async function convertToInteractive(key) {\n",
              "          const element = document.querySelector('#df-a8580b02-6c35-4270-b1d5-a80397f3b016');\n",
              "          const dataTable =\n",
              "            await google.colab.kernel.invokeFunction('convertToInteractive',\n",
              "                                                     [key], {});\n",
              "          if (!dataTable) return;\n",
              "\n",
              "          const docLinkHtml = 'Like what you see? Visit the ' +\n",
              "            '<a target=\"_blank\" href=https://colab.research.google.com/notebooks/data_table.ipynb>data table notebook</a>'\n",
              "            + ' to learn more about interactive tables.';\n",
              "          element.innerHTML = '';\n",
              "          dataTable['output_type'] = 'display_data';\n",
              "          await google.colab.output.renderOutput(dataTable, element);\n",
              "          const docLink = document.createElement('div');\n",
              "          docLink.innerHTML = docLinkHtml;\n",
              "          element.appendChild(docLink);\n",
              "        }\n",
              "      </script>\n",
              "    </div>\n",
              "  </div>\n",
              "  "
            ]
          },
          "metadata": {},
          "execution_count": 5
        }
      ]
    },
    {
      "cell_type": "code",
      "source": [
        "demoAll.head()"
      ],
      "metadata": {
        "colab": {
          "base_uri": "https://localhost:8080/",
          "height": 404
        },
        "id": "oZMRWnK_COLV",
        "outputId": "f9f638e5-3d90-4d29-f955-a2cc381c16d4"
      },
      "execution_count": null,
      "outputs": [
        {
          "output_type": "execute_result",
          "data": {
            "text/plain": [
              "          Geography    Year   Total_Est Total_EstErr HispanicLatino_Est  \\\n",
              "0  San Diego County  2,014   3,263,431         *****         1,083,028    \n",
              "1     Carlsbad city  2,014     112,310           52             18,178    \n",
              "2  Chula Vista city  2,014     260,977           51            149,617    \n",
              "3     El Cajon city  2,014     103,075           66             32,509    \n",
              "4    Escondido city  2,014     150,252           47             78,459    \n",
              "\n",
              "  HispanicLatino_EstErr  HispanicLatino_Pct HispanicLatino_PctErr  \\\n",
              "0                 *****                  33                 *****   \n",
              "1                4,300                   16                    4    \n",
              "2                8,871                   57                    3    \n",
              "3                4,557                   32                    4    \n",
              "4                6,216                   52                    4    \n",
              "\n",
              "  WhiteAlone_Est WhiteAlone_EstErr  ... MedianFamilyIncome_Est  \\\n",
              "0     1,520,451               825   ...                76,876    \n",
              "1              N                 N  ...               121,560    \n",
              "2        53,128             5,215   ...                76,338    \n",
              "3        52,234             4,693   ...                46,826    \n",
              "4        53,574             5,201   ...                56,999    \n",
              "\n",
              "  MedianFamilyIncome_EstErr MeanFamilyIncome_Est MeanFamilyIncome_EstErr  \\\n",
              "0                    1,259               99,383                   1,668    \n",
              "1                   10,351              145,920                  10,622    \n",
              "2                    6,017               89,498                   4,973    \n",
              "3                    7,576               64,838                   6,614    \n",
              "4                    4,691               74,639                   4,408    \n",
              "\n",
              "  PercapitaIncome_Est PercapitaIncome_EstErr PovertyRate_Est  \\\n",
              "0             31,770                    500               15   \n",
              "1             49,589                  3,568                5   \n",
              "2             25,336                  1,079               13   \n",
              "3             20,827                  1,835               23   \n",
              "4             22,246                  1,391               22   \n",
              "\n",
              "  PovertyRate_EstErr Unnamed: 40 Unnamed: 41  \n",
              "0                  1         NaN         NaN  \n",
              "1                  1         NaN         NaN  \n",
              "2                  2         NaN         NaN  \n",
              "3                  4         NaN         NaN  \n",
              "4                  3         NaN         NaN  \n",
              "\n",
              "[5 rows x 42 columns]"
            ],
            "text/html": [
              "\n",
              "  <div id=\"df-8af6ea36-0d13-4c00-9b46-c416715f5fba\">\n",
              "    <div class=\"colab-df-container\">\n",
              "      <div>\n",
              "<style scoped>\n",
              "    .dataframe tbody tr th:only-of-type {\n",
              "        vertical-align: middle;\n",
              "    }\n",
              "\n",
              "    .dataframe tbody tr th {\n",
              "        vertical-align: top;\n",
              "    }\n",
              "\n",
              "    .dataframe thead th {\n",
              "        text-align: right;\n",
              "    }\n",
              "</style>\n",
              "<table border=\"1\" class=\"dataframe\">\n",
              "  <thead>\n",
              "    <tr style=\"text-align: right;\">\n",
              "      <th></th>\n",
              "      <th>Geography</th>\n",
              "      <th>Year</th>\n",
              "      <th>Total_Est</th>\n",
              "      <th>Total_EstErr</th>\n",
              "      <th>HispanicLatino_Est</th>\n",
              "      <th>HispanicLatino_EstErr</th>\n",
              "      <th>HispanicLatino_Pct</th>\n",
              "      <th>HispanicLatino_PctErr</th>\n",
              "      <th>WhiteAlone_Est</th>\n",
              "      <th>WhiteAlone_EstErr</th>\n",
              "      <th>...</th>\n",
              "      <th>MedianFamilyIncome_Est</th>\n",
              "      <th>MedianFamilyIncome_EstErr</th>\n",
              "      <th>MeanFamilyIncome_Est</th>\n",
              "      <th>MeanFamilyIncome_EstErr</th>\n",
              "      <th>PercapitaIncome_Est</th>\n",
              "      <th>PercapitaIncome_EstErr</th>\n",
              "      <th>PovertyRate_Est</th>\n",
              "      <th>PovertyRate_EstErr</th>\n",
              "      <th>Unnamed: 40</th>\n",
              "      <th>Unnamed: 41</th>\n",
              "    </tr>\n",
              "  </thead>\n",
              "  <tbody>\n",
              "    <tr>\n",
              "      <th>0</th>\n",
              "      <td>San Diego County</td>\n",
              "      <td>2,014</td>\n",
              "      <td>3,263,431</td>\n",
              "      <td>*****</td>\n",
              "      <td>1,083,028</td>\n",
              "      <td>*****</td>\n",
              "      <td>33</td>\n",
              "      <td>*****</td>\n",
              "      <td>1,520,451</td>\n",
              "      <td>825</td>\n",
              "      <td>...</td>\n",
              "      <td>76,876</td>\n",
              "      <td>1,259</td>\n",
              "      <td>99,383</td>\n",
              "      <td>1,668</td>\n",
              "      <td>31,770</td>\n",
              "      <td>500</td>\n",
              "      <td>15</td>\n",
              "      <td>1</td>\n",
              "      <td>NaN</td>\n",
              "      <td>NaN</td>\n",
              "    </tr>\n",
              "    <tr>\n",
              "      <th>1</th>\n",
              "      <td>Carlsbad city</td>\n",
              "      <td>2,014</td>\n",
              "      <td>112,310</td>\n",
              "      <td>52</td>\n",
              "      <td>18,178</td>\n",
              "      <td>4,300</td>\n",
              "      <td>16</td>\n",
              "      <td>4</td>\n",
              "      <td>N</td>\n",
              "      <td>N</td>\n",
              "      <td>...</td>\n",
              "      <td>121,560</td>\n",
              "      <td>10,351</td>\n",
              "      <td>145,920</td>\n",
              "      <td>10,622</td>\n",
              "      <td>49,589</td>\n",
              "      <td>3,568</td>\n",
              "      <td>5</td>\n",
              "      <td>1</td>\n",
              "      <td>NaN</td>\n",
              "      <td>NaN</td>\n",
              "    </tr>\n",
              "    <tr>\n",
              "      <th>2</th>\n",
              "      <td>Chula Vista city</td>\n",
              "      <td>2,014</td>\n",
              "      <td>260,977</td>\n",
              "      <td>51</td>\n",
              "      <td>149,617</td>\n",
              "      <td>8,871</td>\n",
              "      <td>57</td>\n",
              "      <td>3</td>\n",
              "      <td>53,128</td>\n",
              "      <td>5,215</td>\n",
              "      <td>...</td>\n",
              "      <td>76,338</td>\n",
              "      <td>6,017</td>\n",
              "      <td>89,498</td>\n",
              "      <td>4,973</td>\n",
              "      <td>25,336</td>\n",
              "      <td>1,079</td>\n",
              "      <td>13</td>\n",
              "      <td>2</td>\n",
              "      <td>NaN</td>\n",
              "      <td>NaN</td>\n",
              "    </tr>\n",
              "    <tr>\n",
              "      <th>3</th>\n",
              "      <td>El Cajon city</td>\n",
              "      <td>2,014</td>\n",
              "      <td>103,075</td>\n",
              "      <td>66</td>\n",
              "      <td>32,509</td>\n",
              "      <td>4,557</td>\n",
              "      <td>32</td>\n",
              "      <td>4</td>\n",
              "      <td>52,234</td>\n",
              "      <td>4,693</td>\n",
              "      <td>...</td>\n",
              "      <td>46,826</td>\n",
              "      <td>7,576</td>\n",
              "      <td>64,838</td>\n",
              "      <td>6,614</td>\n",
              "      <td>20,827</td>\n",
              "      <td>1,835</td>\n",
              "      <td>23</td>\n",
              "      <td>4</td>\n",
              "      <td>NaN</td>\n",
              "      <td>NaN</td>\n",
              "    </tr>\n",
              "    <tr>\n",
              "      <th>4</th>\n",
              "      <td>Escondido city</td>\n",
              "      <td>2,014</td>\n",
              "      <td>150,252</td>\n",
              "      <td>47</td>\n",
              "      <td>78,459</td>\n",
              "      <td>6,216</td>\n",
              "      <td>52</td>\n",
              "      <td>4</td>\n",
              "      <td>53,574</td>\n",
              "      <td>5,201</td>\n",
              "      <td>...</td>\n",
              "      <td>56,999</td>\n",
              "      <td>4,691</td>\n",
              "      <td>74,639</td>\n",
              "      <td>4,408</td>\n",
              "      <td>22,246</td>\n",
              "      <td>1,391</td>\n",
              "      <td>22</td>\n",
              "      <td>3</td>\n",
              "      <td>NaN</td>\n",
              "      <td>NaN</td>\n",
              "    </tr>\n",
              "  </tbody>\n",
              "</table>\n",
              "<p>5 rows × 42 columns</p>\n",
              "</div>\n",
              "      <button class=\"colab-df-convert\" onclick=\"convertToInteractive('df-8af6ea36-0d13-4c00-9b46-c416715f5fba')\"\n",
              "              title=\"Convert this dataframe to an interactive table.\"\n",
              "              style=\"display:none;\">\n",
              "        \n",
              "  <svg xmlns=\"http://www.w3.org/2000/svg\" height=\"24px\"viewBox=\"0 0 24 24\"\n",
              "       width=\"24px\">\n",
              "    <path d=\"M0 0h24v24H0V0z\" fill=\"none\"/>\n",
              "    <path d=\"M18.56 5.44l.94 2.06.94-2.06 2.06-.94-2.06-.94-.94-2.06-.94 2.06-2.06.94zm-11 1L8.5 8.5l.94-2.06 2.06-.94-2.06-.94L8.5 2.5l-.94 2.06-2.06.94zm10 10l.94 2.06.94-2.06 2.06-.94-2.06-.94-.94-2.06-.94 2.06-2.06.94z\"/><path d=\"M17.41 7.96l-1.37-1.37c-.4-.4-.92-.59-1.43-.59-.52 0-1.04.2-1.43.59L10.3 9.45l-7.72 7.72c-.78.78-.78 2.05 0 2.83L4 21.41c.39.39.9.59 1.41.59.51 0 1.02-.2 1.41-.59l7.78-7.78 2.81-2.81c.8-.78.8-2.07 0-2.86zM5.41 20L4 18.59l7.72-7.72 1.47 1.35L5.41 20z\"/>\n",
              "  </svg>\n",
              "      </button>\n",
              "      \n",
              "  <style>\n",
              "    .colab-df-container {\n",
              "      display:flex;\n",
              "      flex-wrap:wrap;\n",
              "      gap: 12px;\n",
              "    }\n",
              "\n",
              "    .colab-df-convert {\n",
              "      background-color: #E8F0FE;\n",
              "      border: none;\n",
              "      border-radius: 50%;\n",
              "      cursor: pointer;\n",
              "      display: none;\n",
              "      fill: #1967D2;\n",
              "      height: 32px;\n",
              "      padding: 0 0 0 0;\n",
              "      width: 32px;\n",
              "    }\n",
              "\n",
              "    .colab-df-convert:hover {\n",
              "      background-color: #E2EBFA;\n",
              "      box-shadow: 0px 1px 2px rgba(60, 64, 67, 0.3), 0px 1px 3px 1px rgba(60, 64, 67, 0.15);\n",
              "      fill: #174EA6;\n",
              "    }\n",
              "\n",
              "    [theme=dark] .colab-df-convert {\n",
              "      background-color: #3B4455;\n",
              "      fill: #D2E3FC;\n",
              "    }\n",
              "\n",
              "    [theme=dark] .colab-df-convert:hover {\n",
              "      background-color: #434B5C;\n",
              "      box-shadow: 0px 1px 3px 1px rgba(0, 0, 0, 0.15);\n",
              "      filter: drop-shadow(0px 1px 2px rgba(0, 0, 0, 0.3));\n",
              "      fill: #FFFFFF;\n",
              "    }\n",
              "  </style>\n",
              "\n",
              "      <script>\n",
              "        const buttonEl =\n",
              "          document.querySelector('#df-8af6ea36-0d13-4c00-9b46-c416715f5fba button.colab-df-convert');\n",
              "        buttonEl.style.display =\n",
              "          google.colab.kernel.accessAllowed ? 'block' : 'none';\n",
              "\n",
              "        async function convertToInteractive(key) {\n",
              "          const element = document.querySelector('#df-8af6ea36-0d13-4c00-9b46-c416715f5fba');\n",
              "          const dataTable =\n",
              "            await google.colab.kernel.invokeFunction('convertToInteractive',\n",
              "                                                     [key], {});\n",
              "          if (!dataTable) return;\n",
              "\n",
              "          const docLinkHtml = 'Like what you see? Visit the ' +\n",
              "            '<a target=\"_blank\" href=https://colab.research.google.com/notebooks/data_table.ipynb>data table notebook</a>'\n",
              "            + ' to learn more about interactive tables.';\n",
              "          element.innerHTML = '';\n",
              "          dataTable['output_type'] = 'display_data';\n",
              "          await google.colab.output.renderOutput(dataTable, element);\n",
              "          const docLink = document.createElement('div');\n",
              "          docLink.innerHTML = docLinkHtml;\n",
              "          element.appendChild(docLink);\n",
              "        }\n",
              "      </script>\n",
              "    </div>\n",
              "  </div>\n",
              "  "
            ]
          },
          "metadata": {},
          "execution_count": 6
        }
      ]
    },
    {
      "cell_type": "markdown",
      "source": [
        "# Data Cleaning"
      ],
      "metadata": {
        "id": "4ef_w6KMAe4h"
      }
    },
    {
      "cell_type": "markdown",
      "source": [
        "In the data cleaning process, we ...\n",
        "\n",
        "\n",
        "*   Extracted and renamed columns\n",
        "*   Converted values to valid types\n",
        "*   Corrected data granularity\n",
        "*   Extracted unrealistic and null values\n",
        "\n",
        "for Dataset 1 - Police Vehicle Stops and Dataset 2 - Population Demographics. \n",
        "\n",
        "These data cleaning steps simplify our data to be easily analyzed and compared. By the end of each data cleaning process, we show a graph of our cleaned datasets.\n",
        "\n",
        "\n",
        "\n",
        "\n",
        "\n",
        "\n"
      ],
      "metadata": {
        "id": "h2lqAs8ffB06"
      }
    },
    {
      "cell_type": "markdown",
      "source": [
        "## Dataset 1 - Police Vehicle Stops"
      ],
      "metadata": {
        "id": "GWy2rGFvOryU"
      }
    },
    {
      "cell_type": "markdown",
      "source": [
        "Extract columns we intend to use for analysis, and rename them for the purpose of convenience. \n",
        "\n",
        "Updated Police Vehicle Stops Columns:\n",
        "\n",
        "*   stop_id – unique identifier of a vehicle stop\n",
        "*   stop_cause – cause of stop, written by officer\n",
        "*   service_area – service area of vehicle stop\n",
        "*   race – race of driver\n",
        "*   sex – sex of driver\n",
        "*   age – age of driver\n",
        "*   date_stop – year, month, and day of vehicle stop\n",
        "*   date_time – time of day of vehicle stop\n",
        "*   arrested – Y/N if driver was arrested after vehicle stop\n",
        "*   searched – Y/N if driver was searched after vehicle stop\n",
        "\n",
        "\n",
        "\n",
        "\n"
      ],
      "metadata": {
        "id": "87VFlF9XKLPG"
      }
    },
    {
      "cell_type": "code",
      "execution_count": null,
      "metadata": {
        "scrolled": true,
        "id": "706d4293"
      },
      "outputs": [],
      "source": [
        "stopAll = stopAll.loc[:, ['stop_id', 'stop_cause', 'service_area', 'subject_race', 'subject_sex', 'subject_age', 'date_stop', 'date_time', 'arrested', 'searched']]\n",
        "stopAll = stopAll.rename(columns = {'subject_race': 'race', 'subject_sex': 'sex', 'subject_age': 'age'})"
      ]
    },
    {
      "cell_type": "markdown",
      "metadata": {
        "id": "acee47b0"
      },
      "source": [
        "### Messy or Unfaithful Data\n",
        "Does the data contain unrealistic or \"incorrect\" values?\n"
      ]
    },
    {
      "cell_type": "markdown",
      "source": [
        "####  Check Data Types\n",
        "- Convert `date_stop` and `date_time` column to DateTime objects for better data manipulation\n",
        "- Convert `age` column to int "
      ],
      "metadata": {
        "id": "9jIdGVS7PJxE"
      }
    },
    {
      "cell_type": "code",
      "execution_count": null,
      "metadata": {
        "scrolled": true,
        "id": "2251207a",
        "outputId": "13c18fa7-00ab-4a27-8d37-9315e4eee714",
        "colab": {
          "base_uri": "https://localhost:8080/"
        }
      },
      "outputs": [
        {
          "output_type": "stream",
          "name": "stdout",
          "text": [
            "<class 'pandas.core.frame.DataFrame'>\n",
            "Int64Index: 465999 entries, 0 to 103361\n",
            "Data columns (total 10 columns):\n",
            " #   Column        Non-Null Count   Dtype \n",
            "---  ------        --------------   ----- \n",
            " 0   stop_id       465999 non-null  int64 \n",
            " 1   stop_cause    465728 non-null  object\n",
            " 2   service_area  465999 non-null  object\n",
            " 3   race          465266 non-null  object\n",
            " 4   sex           465129 non-null  object\n",
            " 5   age           453538 non-null  object\n",
            " 6   date_stop     465999 non-null  object\n",
            " 7   date_time     464838 non-null  object\n",
            " 8   arrested      418727 non-null  object\n",
            " 9   searched      415885 non-null  object\n",
            "dtypes: int64(1), object(9)\n",
            "memory usage: 39.1+ MB\n"
          ]
        }
      ],
      "source": [
        "stopAll.info() "
      ]
    },
    {
      "cell_type": "code",
      "source": [
        "stopAll['date_stop'] = pd.to_datetime(stopAll['date_stop'])\n",
        "stopAll['date_time'] = pd.to_datetime(stopAll['date_time'])\n",
        "stopAll['age'] = pd.to_numeric(stopAll['age'], errors='coerce')"
      ],
      "metadata": {
        "id": "w0Hxd7VxTeoV"
      },
      "execution_count": null,
      "outputs": []
    },
    {
      "cell_type": "markdown",
      "source": [
        "For the `date_time` column, we'll need to ensure all the data can be manipulated for further analysis, so we'll drop all NaN values."
      ],
      "metadata": {
        "id": "ZWg1Vee9Ry1A"
      }
    },
    {
      "cell_type": "code",
      "source": [
        "stopAll = stopAll.loc[~stopAll['date_time'].isna(), :]\n",
        "stopAll.reset_index(drop = True)"
      ],
      "metadata": {
        "id": "QZlV4tSPSHFg",
        "colab": {
          "base_uri": "https://localhost:8080/",
          "height": 424
        },
        "outputId": "e09c3341-c6a5-4ebf-d7a2-aed60f52faa8"
      },
      "execution_count": null,
      "outputs": [
        {
          "output_type": "execute_result",
          "data": {
            "text/plain": [
              "        stop_id           stop_cause service_area race sex   age  date_stop  \\\n",
              "0       1044975     Moving Violation          110    W   M  24.0 2014-01-01   \n",
              "1       1044976     Moving Violation          320    W   M  42.0 2014-01-01   \n",
              "2       1044977     Moving Violation          320    L   M  29.0 2014-01-01   \n",
              "3       1044978     Moving Violation          610    W   M  23.0 2014-01-01   \n",
              "4       1044980  Equipment Violation          930    H   M  35.0 2014-01-01   \n",
              "...         ...                  ...          ...  ...  ..   ...        ...   \n",
              "464833  1620175     Moving Violation          110    W   M  39.0 2018-06-25   \n",
              "464834  1620177     Moving Violation          110    W   F  32.0 2018-06-25   \n",
              "464835  1620178     Moving Violation          110    W   F  21.0 2018-06-25   \n",
              "464836  1620179     Moving Violation          110    W   M  43.0 2018-06-25   \n",
              "464837  1620180     Moving Violation          110    W   F  17.0 2018-06-25   \n",
              "\n",
              "                 date_time arrested searched  \n",
              "0      2014-01-01 01:25:00        N        N  \n",
              "1      2014-01-01 05:47:00        N        N  \n",
              "2      2014-01-01 07:46:00        N        N  \n",
              "3      2014-01-01 08:10:00        N        N  \n",
              "4      2014-01-01 08:35:00        N        N  \n",
              "...                    ...      ...      ...  \n",
              "464833 2018-06-25 10:47:00        N        N  \n",
              "464834 2018-06-25 11:34:00        N        N  \n",
              "464835 2018-06-25 11:56:00        N        N  \n",
              "464836 2018-06-25 12:45:00        N        N  \n",
              "464837 2018-06-25 13:00:00        N        N  \n",
              "\n",
              "[464838 rows x 10 columns]"
            ],
            "text/html": [
              "\n",
              "  <div id=\"df-4505cbae-d5e1-400a-9863-44d8752315b2\">\n",
              "    <div class=\"colab-df-container\">\n",
              "      <div>\n",
              "<style scoped>\n",
              "    .dataframe tbody tr th:only-of-type {\n",
              "        vertical-align: middle;\n",
              "    }\n",
              "\n",
              "    .dataframe tbody tr th {\n",
              "        vertical-align: top;\n",
              "    }\n",
              "\n",
              "    .dataframe thead th {\n",
              "        text-align: right;\n",
              "    }\n",
              "</style>\n",
              "<table border=\"1\" class=\"dataframe\">\n",
              "  <thead>\n",
              "    <tr style=\"text-align: right;\">\n",
              "      <th></th>\n",
              "      <th>stop_id</th>\n",
              "      <th>stop_cause</th>\n",
              "      <th>service_area</th>\n",
              "      <th>race</th>\n",
              "      <th>sex</th>\n",
              "      <th>age</th>\n",
              "      <th>date_stop</th>\n",
              "      <th>date_time</th>\n",
              "      <th>arrested</th>\n",
              "      <th>searched</th>\n",
              "    </tr>\n",
              "  </thead>\n",
              "  <tbody>\n",
              "    <tr>\n",
              "      <th>0</th>\n",
              "      <td>1044975</td>\n",
              "      <td>Moving Violation</td>\n",
              "      <td>110</td>\n",
              "      <td>W</td>\n",
              "      <td>M</td>\n",
              "      <td>24.0</td>\n",
              "      <td>2014-01-01</td>\n",
              "      <td>2014-01-01 01:25:00</td>\n",
              "      <td>N</td>\n",
              "      <td>N</td>\n",
              "    </tr>\n",
              "    <tr>\n",
              "      <th>1</th>\n",
              "      <td>1044976</td>\n",
              "      <td>Moving Violation</td>\n",
              "      <td>320</td>\n",
              "      <td>W</td>\n",
              "      <td>M</td>\n",
              "      <td>42.0</td>\n",
              "      <td>2014-01-01</td>\n",
              "      <td>2014-01-01 05:47:00</td>\n",
              "      <td>N</td>\n",
              "      <td>N</td>\n",
              "    </tr>\n",
              "    <tr>\n",
              "      <th>2</th>\n",
              "      <td>1044977</td>\n",
              "      <td>Moving Violation</td>\n",
              "      <td>320</td>\n",
              "      <td>L</td>\n",
              "      <td>M</td>\n",
              "      <td>29.0</td>\n",
              "      <td>2014-01-01</td>\n",
              "      <td>2014-01-01 07:46:00</td>\n",
              "      <td>N</td>\n",
              "      <td>N</td>\n",
              "    </tr>\n",
              "    <tr>\n",
              "      <th>3</th>\n",
              "      <td>1044978</td>\n",
              "      <td>Moving Violation</td>\n",
              "      <td>610</td>\n",
              "      <td>W</td>\n",
              "      <td>M</td>\n",
              "      <td>23.0</td>\n",
              "      <td>2014-01-01</td>\n",
              "      <td>2014-01-01 08:10:00</td>\n",
              "      <td>N</td>\n",
              "      <td>N</td>\n",
              "    </tr>\n",
              "    <tr>\n",
              "      <th>4</th>\n",
              "      <td>1044980</td>\n",
              "      <td>Equipment Violation</td>\n",
              "      <td>930</td>\n",
              "      <td>H</td>\n",
              "      <td>M</td>\n",
              "      <td>35.0</td>\n",
              "      <td>2014-01-01</td>\n",
              "      <td>2014-01-01 08:35:00</td>\n",
              "      <td>N</td>\n",
              "      <td>N</td>\n",
              "    </tr>\n",
              "    <tr>\n",
              "      <th>...</th>\n",
              "      <td>...</td>\n",
              "      <td>...</td>\n",
              "      <td>...</td>\n",
              "      <td>...</td>\n",
              "      <td>...</td>\n",
              "      <td>...</td>\n",
              "      <td>...</td>\n",
              "      <td>...</td>\n",
              "      <td>...</td>\n",
              "      <td>...</td>\n",
              "    </tr>\n",
              "    <tr>\n",
              "      <th>464833</th>\n",
              "      <td>1620175</td>\n",
              "      <td>Moving Violation</td>\n",
              "      <td>110</td>\n",
              "      <td>W</td>\n",
              "      <td>M</td>\n",
              "      <td>39.0</td>\n",
              "      <td>2018-06-25</td>\n",
              "      <td>2018-06-25 10:47:00</td>\n",
              "      <td>N</td>\n",
              "      <td>N</td>\n",
              "    </tr>\n",
              "    <tr>\n",
              "      <th>464834</th>\n",
              "      <td>1620177</td>\n",
              "      <td>Moving Violation</td>\n",
              "      <td>110</td>\n",
              "      <td>W</td>\n",
              "      <td>F</td>\n",
              "      <td>32.0</td>\n",
              "      <td>2018-06-25</td>\n",
              "      <td>2018-06-25 11:34:00</td>\n",
              "      <td>N</td>\n",
              "      <td>N</td>\n",
              "    </tr>\n",
              "    <tr>\n",
              "      <th>464835</th>\n",
              "      <td>1620178</td>\n",
              "      <td>Moving Violation</td>\n",
              "      <td>110</td>\n",
              "      <td>W</td>\n",
              "      <td>F</td>\n",
              "      <td>21.0</td>\n",
              "      <td>2018-06-25</td>\n",
              "      <td>2018-06-25 11:56:00</td>\n",
              "      <td>N</td>\n",
              "      <td>N</td>\n",
              "    </tr>\n",
              "    <tr>\n",
              "      <th>464836</th>\n",
              "      <td>1620179</td>\n",
              "      <td>Moving Violation</td>\n",
              "      <td>110</td>\n",
              "      <td>W</td>\n",
              "      <td>M</td>\n",
              "      <td>43.0</td>\n",
              "      <td>2018-06-25</td>\n",
              "      <td>2018-06-25 12:45:00</td>\n",
              "      <td>N</td>\n",
              "      <td>N</td>\n",
              "    </tr>\n",
              "    <tr>\n",
              "      <th>464837</th>\n",
              "      <td>1620180</td>\n",
              "      <td>Moving Violation</td>\n",
              "      <td>110</td>\n",
              "      <td>W</td>\n",
              "      <td>F</td>\n",
              "      <td>17.0</td>\n",
              "      <td>2018-06-25</td>\n",
              "      <td>2018-06-25 13:00:00</td>\n",
              "      <td>N</td>\n",
              "      <td>N</td>\n",
              "    </tr>\n",
              "  </tbody>\n",
              "</table>\n",
              "<p>464838 rows × 10 columns</p>\n",
              "</div>\n",
              "      <button class=\"colab-df-convert\" onclick=\"convertToInteractive('df-4505cbae-d5e1-400a-9863-44d8752315b2')\"\n",
              "              title=\"Convert this dataframe to an interactive table.\"\n",
              "              style=\"display:none;\">\n",
              "        \n",
              "  <svg xmlns=\"http://www.w3.org/2000/svg\" height=\"24px\"viewBox=\"0 0 24 24\"\n",
              "       width=\"24px\">\n",
              "    <path d=\"M0 0h24v24H0V0z\" fill=\"none\"/>\n",
              "    <path d=\"M18.56 5.44l.94 2.06.94-2.06 2.06-.94-2.06-.94-.94-2.06-.94 2.06-2.06.94zm-11 1L8.5 8.5l.94-2.06 2.06-.94-2.06-.94L8.5 2.5l-.94 2.06-2.06.94zm10 10l.94 2.06.94-2.06 2.06-.94-2.06-.94-.94-2.06-.94 2.06-2.06.94z\"/><path d=\"M17.41 7.96l-1.37-1.37c-.4-.4-.92-.59-1.43-.59-.52 0-1.04.2-1.43.59L10.3 9.45l-7.72 7.72c-.78.78-.78 2.05 0 2.83L4 21.41c.39.39.9.59 1.41.59.51 0 1.02-.2 1.41-.59l7.78-7.78 2.81-2.81c.8-.78.8-2.07 0-2.86zM5.41 20L4 18.59l7.72-7.72 1.47 1.35L5.41 20z\"/>\n",
              "  </svg>\n",
              "      </button>\n",
              "      \n",
              "  <style>\n",
              "    .colab-df-container {\n",
              "      display:flex;\n",
              "      flex-wrap:wrap;\n",
              "      gap: 12px;\n",
              "    }\n",
              "\n",
              "    .colab-df-convert {\n",
              "      background-color: #E8F0FE;\n",
              "      border: none;\n",
              "      border-radius: 50%;\n",
              "      cursor: pointer;\n",
              "      display: none;\n",
              "      fill: #1967D2;\n",
              "      height: 32px;\n",
              "      padding: 0 0 0 0;\n",
              "      width: 32px;\n",
              "    }\n",
              "\n",
              "    .colab-df-convert:hover {\n",
              "      background-color: #E2EBFA;\n",
              "      box-shadow: 0px 1px 2px rgba(60, 64, 67, 0.3), 0px 1px 3px 1px rgba(60, 64, 67, 0.15);\n",
              "      fill: #174EA6;\n",
              "    }\n",
              "\n",
              "    [theme=dark] .colab-df-convert {\n",
              "      background-color: #3B4455;\n",
              "      fill: #D2E3FC;\n",
              "    }\n",
              "\n",
              "    [theme=dark] .colab-df-convert:hover {\n",
              "      background-color: #434B5C;\n",
              "      box-shadow: 0px 1px 3px 1px rgba(0, 0, 0, 0.15);\n",
              "      filter: drop-shadow(0px 1px 2px rgba(0, 0, 0, 0.3));\n",
              "      fill: #FFFFFF;\n",
              "    }\n",
              "  </style>\n",
              "\n",
              "      <script>\n",
              "        const buttonEl =\n",
              "          document.querySelector('#df-4505cbae-d5e1-400a-9863-44d8752315b2 button.colab-df-convert');\n",
              "        buttonEl.style.display =\n",
              "          google.colab.kernel.accessAllowed ? 'block' : 'none';\n",
              "\n",
              "        async function convertToInteractive(key) {\n",
              "          const element = document.querySelector('#df-4505cbae-d5e1-400a-9863-44d8752315b2');\n",
              "          const dataTable =\n",
              "            await google.colab.kernel.invokeFunction('convertToInteractive',\n",
              "                                                     [key], {});\n",
              "          if (!dataTable) return;\n",
              "\n",
              "          const docLinkHtml = 'Like what you see? Visit the ' +\n",
              "            '<a target=\"_blank\" href=https://colab.research.google.com/notebooks/data_table.ipynb>data table notebook</a>'\n",
              "            + ' to learn more about interactive tables.';\n",
              "          element.innerHTML = '';\n",
              "          dataTable['output_type'] = 'display_data';\n",
              "          await google.colab.output.renderOutput(dataTable, element);\n",
              "          const docLink = document.createElement('div');\n",
              "          docLink.innerHTML = docLinkHtml;\n",
              "          element.appendChild(docLink);\n",
              "        }\n",
              "      </script>\n",
              "    </div>\n",
              "  </div>\n",
              "  "
            ]
          },
          "metadata": {},
          "execution_count": 10
        }
      ]
    },
    {
      "cell_type": "markdown",
      "metadata": {
        "id": "bcde7a8a"
      },
      "source": [
        "#### Unrealistic observations? Missing Values? \n",
        "- Investigate columns of `race`, `sex`, and `age` \n",
        "    \n"
      ]
    },
    {
      "cell_type": "code",
      "source": [
        "stopAll.race.unique()"
      ],
      "metadata": {
        "id": "AMkTJX5IvhkC",
        "colab": {
          "base_uri": "https://localhost:8080/"
        },
        "outputId": "0c8d6a01-f8cc-4ba3-e955-608084b992f8"
      },
      "execution_count": null,
      "outputs": [
        {
          "output_type": "execute_result",
          "data": {
            "text/plain": [
              "array(['W', 'L', 'H', 'V', 'B', 'A', 'O', 'C', 'F', 'Z', 'I', nan, 'P',\n",
              "       'J', 'X', 'K', 'U', 'G', 'S', 'D'], dtype=object)"
            ]
          },
          "metadata": {},
          "execution_count": 11
        }
      ]
    },
    {
      "cell_type": "markdown",
      "metadata": {
        "id": "3f65325f"
      },
      "source": [
        "The values in the `race` column are valid, with the exception of `X` and NaN values. For the purpose of our study, we dropped the observations with `X` or NaN values as shown below. With the size of our dataset, dropping these values shouldn't greatly affect the results of our analysis."
      ]
    },
    {
      "cell_type": "code",
      "execution_count": null,
      "metadata": {
        "scrolled": true,
        "id": "1af860ea",
        "outputId": "98d3beb5-8691-4440-9f59-e54121ab9354",
        "colab": {
          "base_uri": "https://localhost:8080/",
          "height": 424
        }
      },
      "outputs": [
        {
          "output_type": "execute_result",
          "data": {
            "text/plain": [
              "        stop_id           stop_cause service_area race sex   age  date_stop  \\\n",
              "0       1044975     Moving Violation          110    W   M  24.0 2014-01-01   \n",
              "1       1044976     Moving Violation          320    W   M  42.0 2014-01-01   \n",
              "2       1044977     Moving Violation          320    L   M  29.0 2014-01-01   \n",
              "3       1044978     Moving Violation          610    W   M  23.0 2014-01-01   \n",
              "4       1044980  Equipment Violation          930    H   M  35.0 2014-01-01   \n",
              "...         ...                  ...          ...  ...  ..   ...        ...   \n",
              "463476  1620175     Moving Violation          110    W   M  39.0 2018-06-25   \n",
              "463477  1620177     Moving Violation          110    W   F  32.0 2018-06-25   \n",
              "463478  1620178     Moving Violation          110    W   F  21.0 2018-06-25   \n",
              "463479  1620179     Moving Violation          110    W   M  43.0 2018-06-25   \n",
              "463480  1620180     Moving Violation          110    W   F  17.0 2018-06-25   \n",
              "\n",
              "                 date_time arrested searched  \n",
              "0      2014-01-01 01:25:00        N        N  \n",
              "1      2014-01-01 05:47:00        N        N  \n",
              "2      2014-01-01 07:46:00        N        N  \n",
              "3      2014-01-01 08:10:00        N        N  \n",
              "4      2014-01-01 08:35:00        N        N  \n",
              "...                    ...      ...      ...  \n",
              "463476 2018-06-25 10:47:00        N        N  \n",
              "463477 2018-06-25 11:34:00        N        N  \n",
              "463478 2018-06-25 11:56:00        N        N  \n",
              "463479 2018-06-25 12:45:00        N        N  \n",
              "463480 2018-06-25 13:00:00        N        N  \n",
              "\n",
              "[463481 rows x 10 columns]"
            ],
            "text/html": [
              "\n",
              "  <div id=\"df-3dfdd5b9-e863-4b11-9bd7-7f84c94c8403\">\n",
              "    <div class=\"colab-df-container\">\n",
              "      <div>\n",
              "<style scoped>\n",
              "    .dataframe tbody tr th:only-of-type {\n",
              "        vertical-align: middle;\n",
              "    }\n",
              "\n",
              "    .dataframe tbody tr th {\n",
              "        vertical-align: top;\n",
              "    }\n",
              "\n",
              "    .dataframe thead th {\n",
              "        text-align: right;\n",
              "    }\n",
              "</style>\n",
              "<table border=\"1\" class=\"dataframe\">\n",
              "  <thead>\n",
              "    <tr style=\"text-align: right;\">\n",
              "      <th></th>\n",
              "      <th>stop_id</th>\n",
              "      <th>stop_cause</th>\n",
              "      <th>service_area</th>\n",
              "      <th>race</th>\n",
              "      <th>sex</th>\n",
              "      <th>age</th>\n",
              "      <th>date_stop</th>\n",
              "      <th>date_time</th>\n",
              "      <th>arrested</th>\n",
              "      <th>searched</th>\n",
              "    </tr>\n",
              "  </thead>\n",
              "  <tbody>\n",
              "    <tr>\n",
              "      <th>0</th>\n",
              "      <td>1044975</td>\n",
              "      <td>Moving Violation</td>\n",
              "      <td>110</td>\n",
              "      <td>W</td>\n",
              "      <td>M</td>\n",
              "      <td>24.0</td>\n",
              "      <td>2014-01-01</td>\n",
              "      <td>2014-01-01 01:25:00</td>\n",
              "      <td>N</td>\n",
              "      <td>N</td>\n",
              "    </tr>\n",
              "    <tr>\n",
              "      <th>1</th>\n",
              "      <td>1044976</td>\n",
              "      <td>Moving Violation</td>\n",
              "      <td>320</td>\n",
              "      <td>W</td>\n",
              "      <td>M</td>\n",
              "      <td>42.0</td>\n",
              "      <td>2014-01-01</td>\n",
              "      <td>2014-01-01 05:47:00</td>\n",
              "      <td>N</td>\n",
              "      <td>N</td>\n",
              "    </tr>\n",
              "    <tr>\n",
              "      <th>2</th>\n",
              "      <td>1044977</td>\n",
              "      <td>Moving Violation</td>\n",
              "      <td>320</td>\n",
              "      <td>L</td>\n",
              "      <td>M</td>\n",
              "      <td>29.0</td>\n",
              "      <td>2014-01-01</td>\n",
              "      <td>2014-01-01 07:46:00</td>\n",
              "      <td>N</td>\n",
              "      <td>N</td>\n",
              "    </tr>\n",
              "    <tr>\n",
              "      <th>3</th>\n",
              "      <td>1044978</td>\n",
              "      <td>Moving Violation</td>\n",
              "      <td>610</td>\n",
              "      <td>W</td>\n",
              "      <td>M</td>\n",
              "      <td>23.0</td>\n",
              "      <td>2014-01-01</td>\n",
              "      <td>2014-01-01 08:10:00</td>\n",
              "      <td>N</td>\n",
              "      <td>N</td>\n",
              "    </tr>\n",
              "    <tr>\n",
              "      <th>4</th>\n",
              "      <td>1044980</td>\n",
              "      <td>Equipment Violation</td>\n",
              "      <td>930</td>\n",
              "      <td>H</td>\n",
              "      <td>M</td>\n",
              "      <td>35.0</td>\n",
              "      <td>2014-01-01</td>\n",
              "      <td>2014-01-01 08:35:00</td>\n",
              "      <td>N</td>\n",
              "      <td>N</td>\n",
              "    </tr>\n",
              "    <tr>\n",
              "      <th>...</th>\n",
              "      <td>...</td>\n",
              "      <td>...</td>\n",
              "      <td>...</td>\n",
              "      <td>...</td>\n",
              "      <td>...</td>\n",
              "      <td>...</td>\n",
              "      <td>...</td>\n",
              "      <td>...</td>\n",
              "      <td>...</td>\n",
              "      <td>...</td>\n",
              "    </tr>\n",
              "    <tr>\n",
              "      <th>463476</th>\n",
              "      <td>1620175</td>\n",
              "      <td>Moving Violation</td>\n",
              "      <td>110</td>\n",
              "      <td>W</td>\n",
              "      <td>M</td>\n",
              "      <td>39.0</td>\n",
              "      <td>2018-06-25</td>\n",
              "      <td>2018-06-25 10:47:00</td>\n",
              "      <td>N</td>\n",
              "      <td>N</td>\n",
              "    </tr>\n",
              "    <tr>\n",
              "      <th>463477</th>\n",
              "      <td>1620177</td>\n",
              "      <td>Moving Violation</td>\n",
              "      <td>110</td>\n",
              "      <td>W</td>\n",
              "      <td>F</td>\n",
              "      <td>32.0</td>\n",
              "      <td>2018-06-25</td>\n",
              "      <td>2018-06-25 11:34:00</td>\n",
              "      <td>N</td>\n",
              "      <td>N</td>\n",
              "    </tr>\n",
              "    <tr>\n",
              "      <th>463478</th>\n",
              "      <td>1620178</td>\n",
              "      <td>Moving Violation</td>\n",
              "      <td>110</td>\n",
              "      <td>W</td>\n",
              "      <td>F</td>\n",
              "      <td>21.0</td>\n",
              "      <td>2018-06-25</td>\n",
              "      <td>2018-06-25 11:56:00</td>\n",
              "      <td>N</td>\n",
              "      <td>N</td>\n",
              "    </tr>\n",
              "    <tr>\n",
              "      <th>463479</th>\n",
              "      <td>1620179</td>\n",
              "      <td>Moving Violation</td>\n",
              "      <td>110</td>\n",
              "      <td>W</td>\n",
              "      <td>M</td>\n",
              "      <td>43.0</td>\n",
              "      <td>2018-06-25</td>\n",
              "      <td>2018-06-25 12:45:00</td>\n",
              "      <td>N</td>\n",
              "      <td>N</td>\n",
              "    </tr>\n",
              "    <tr>\n",
              "      <th>463480</th>\n",
              "      <td>1620180</td>\n",
              "      <td>Moving Violation</td>\n",
              "      <td>110</td>\n",
              "      <td>W</td>\n",
              "      <td>F</td>\n",
              "      <td>17.0</td>\n",
              "      <td>2018-06-25</td>\n",
              "      <td>2018-06-25 13:00:00</td>\n",
              "      <td>N</td>\n",
              "      <td>N</td>\n",
              "    </tr>\n",
              "  </tbody>\n",
              "</table>\n",
              "<p>463481 rows × 10 columns</p>\n",
              "</div>\n",
              "      <button class=\"colab-df-convert\" onclick=\"convertToInteractive('df-3dfdd5b9-e863-4b11-9bd7-7f84c94c8403')\"\n",
              "              title=\"Convert this dataframe to an interactive table.\"\n",
              "              style=\"display:none;\">\n",
              "        \n",
              "  <svg xmlns=\"http://www.w3.org/2000/svg\" height=\"24px\"viewBox=\"0 0 24 24\"\n",
              "       width=\"24px\">\n",
              "    <path d=\"M0 0h24v24H0V0z\" fill=\"none\"/>\n",
              "    <path d=\"M18.56 5.44l.94 2.06.94-2.06 2.06-.94-2.06-.94-.94-2.06-.94 2.06-2.06.94zm-11 1L8.5 8.5l.94-2.06 2.06-.94-2.06-.94L8.5 2.5l-.94 2.06-2.06.94zm10 10l.94 2.06.94-2.06 2.06-.94-2.06-.94-.94-2.06-.94 2.06-2.06.94z\"/><path d=\"M17.41 7.96l-1.37-1.37c-.4-.4-.92-.59-1.43-.59-.52 0-1.04.2-1.43.59L10.3 9.45l-7.72 7.72c-.78.78-.78 2.05 0 2.83L4 21.41c.39.39.9.59 1.41.59.51 0 1.02-.2 1.41-.59l7.78-7.78 2.81-2.81c.8-.78.8-2.07 0-2.86zM5.41 20L4 18.59l7.72-7.72 1.47 1.35L5.41 20z\"/>\n",
              "  </svg>\n",
              "      </button>\n",
              "      \n",
              "  <style>\n",
              "    .colab-df-container {\n",
              "      display:flex;\n",
              "      flex-wrap:wrap;\n",
              "      gap: 12px;\n",
              "    }\n",
              "\n",
              "    .colab-df-convert {\n",
              "      background-color: #E8F0FE;\n",
              "      border: none;\n",
              "      border-radius: 50%;\n",
              "      cursor: pointer;\n",
              "      display: none;\n",
              "      fill: #1967D2;\n",
              "      height: 32px;\n",
              "      padding: 0 0 0 0;\n",
              "      width: 32px;\n",
              "    }\n",
              "\n",
              "    .colab-df-convert:hover {\n",
              "      background-color: #E2EBFA;\n",
              "      box-shadow: 0px 1px 2px rgba(60, 64, 67, 0.3), 0px 1px 3px 1px rgba(60, 64, 67, 0.15);\n",
              "      fill: #174EA6;\n",
              "    }\n",
              "\n",
              "    [theme=dark] .colab-df-convert {\n",
              "      background-color: #3B4455;\n",
              "      fill: #D2E3FC;\n",
              "    }\n",
              "\n",
              "    [theme=dark] .colab-df-convert:hover {\n",
              "      background-color: #434B5C;\n",
              "      box-shadow: 0px 1px 3px 1px rgba(0, 0, 0, 0.15);\n",
              "      filter: drop-shadow(0px 1px 2px rgba(0, 0, 0, 0.3));\n",
              "      fill: #FFFFFF;\n",
              "    }\n",
              "  </style>\n",
              "\n",
              "      <script>\n",
              "        const buttonEl =\n",
              "          document.querySelector('#df-3dfdd5b9-e863-4b11-9bd7-7f84c94c8403 button.colab-df-convert');\n",
              "        buttonEl.style.display =\n",
              "          google.colab.kernel.accessAllowed ? 'block' : 'none';\n",
              "\n",
              "        async function convertToInteractive(key) {\n",
              "          const element = document.querySelector('#df-3dfdd5b9-e863-4b11-9bd7-7f84c94c8403');\n",
              "          const dataTable =\n",
              "            await google.colab.kernel.invokeFunction('convertToInteractive',\n",
              "                                                     [key], {});\n",
              "          if (!dataTable) return;\n",
              "\n",
              "          const docLinkHtml = 'Like what you see? Visit the ' +\n",
              "            '<a target=\"_blank\" href=https://colab.research.google.com/notebooks/data_table.ipynb>data table notebook</a>'\n",
              "            + ' to learn more about interactive tables.';\n",
              "          element.innerHTML = '';\n",
              "          dataTable['output_type'] = 'display_data';\n",
              "          await google.colab.output.renderOutput(dataTable, element);\n",
              "          const docLink = document.createElement('div');\n",
              "          docLink.innerHTML = docLinkHtml;\n",
              "          element.appendChild(docLink);\n",
              "        }\n",
              "      </script>\n",
              "    </div>\n",
              "  </div>\n",
              "  "
            ]
          },
          "metadata": {},
          "execution_count": 12
        }
      ],
      "source": [
        "stopAll = stopAll.replace({'race': {'X': np.NaN}})\n",
        "stopAll = stopAll.loc[~stopAll['race'].isna(), :]\n",
        "stopAll.reset_index(drop = True)"
      ]
    },
    {
      "cell_type": "markdown",
      "metadata": {
        "id": "84d653f9"
      },
      "source": [
        "The values in the `sex` column contain a value we don't know:\n",
        "\n",
        "***What is `X` in `array(['M', 'F', nan, 'X'], dtype=object)`?***"
      ]
    },
    {
      "cell_type": "code",
      "execution_count": null,
      "metadata": {
        "id": "6b5629e1",
        "outputId": "167dbaff-286b-4d7b-898b-64fa17d572f8",
        "colab": {
          "base_uri": "https://localhost:8080/"
        }
      },
      "outputs": [
        {
          "output_type": "execute_result",
          "data": {
            "text/plain": [
              "array(['M', 'F', nan, 'X'], dtype=object)"
            ]
          },
          "metadata": {},
          "execution_count": 13
        }
      ],
      "source": [
        "stopAll.sex.unique()"
      ]
    },
    {
      "cell_type": "markdown",
      "metadata": {
        "id": "b37607a0"
      },
      "source": [
        "From the dictionary of our datasets, `X` is not expected:"
      ]
    },
    {
      "cell_type": "code",
      "execution_count": null,
      "metadata": {
        "id": "3c0789aa",
        "outputId": "0259dc8e-2fa7-4294-a279-f7d6a0a5f6fe",
        "colab": {
          "base_uri": "https://localhost:8080/"
        }
      },
      "outputs": [
        {
          "output_type": "execute_result",
          "data": {
            "text/plain": [
              "Description        sex code\n",
              "Possible Values        M, F\n",
              "Name: suject_sex, dtype: object"
            ]
          },
          "metadata": {},
          "execution_count": 14
        }
      ],
      "source": [
        "df_dict.set_index('Field').loc['suject_sex']"
      ]
    },
    {
      "cell_type": "markdown",
      "metadata": {
        "id": "e1d5de95"
      },
      "source": [
        "For now, we will convert `X` to NaN for data consistency. We will drop the NaN observations since we want to explore how gender is related to police's decisions of vehicle stops."
      ]
    },
    {
      "cell_type": "code",
      "execution_count": null,
      "metadata": {
        "id": "fc08c714",
        "colab": {
          "base_uri": "https://localhost:8080/",
          "height": 424
        },
        "outputId": "361844bb-027c-49b5-85b5-9c4043ad2518"
      },
      "outputs": [
        {
          "output_type": "execute_result",
          "data": {
            "text/plain": [
              "        stop_id           stop_cause service_area race sex   age  date_stop  \\\n",
              "0       1044975     Moving Violation          110    W   M  24.0 2014-01-01   \n",
              "1       1044976     Moving Violation          320    W   M  42.0 2014-01-01   \n",
              "2       1044977     Moving Violation          320    L   M  29.0 2014-01-01   \n",
              "3       1044978     Moving Violation          610    W   M  23.0 2014-01-01   \n",
              "4       1044980  Equipment Violation          930    H   M  35.0 2014-01-01   \n",
              "...         ...                  ...          ...  ...  ..   ...        ...   \n",
              "463090  1620175     Moving Violation          110    W   M  39.0 2018-06-25   \n",
              "463091  1620177     Moving Violation          110    W   F  32.0 2018-06-25   \n",
              "463092  1620178     Moving Violation          110    W   F  21.0 2018-06-25   \n",
              "463093  1620179     Moving Violation          110    W   M  43.0 2018-06-25   \n",
              "463094  1620180     Moving Violation          110    W   F  17.0 2018-06-25   \n",
              "\n",
              "                 date_time arrested searched  \n",
              "0      2014-01-01 01:25:00        N        N  \n",
              "1      2014-01-01 05:47:00        N        N  \n",
              "2      2014-01-01 07:46:00        N        N  \n",
              "3      2014-01-01 08:10:00        N        N  \n",
              "4      2014-01-01 08:35:00        N        N  \n",
              "...                    ...      ...      ...  \n",
              "463090 2018-06-25 10:47:00        N        N  \n",
              "463091 2018-06-25 11:34:00        N        N  \n",
              "463092 2018-06-25 11:56:00        N        N  \n",
              "463093 2018-06-25 12:45:00        N        N  \n",
              "463094 2018-06-25 13:00:00        N        N  \n",
              "\n",
              "[463095 rows x 10 columns]"
            ],
            "text/html": [
              "\n",
              "  <div id=\"df-5320929d-795f-43f8-95a0-3b1c315df0c0\">\n",
              "    <div class=\"colab-df-container\">\n",
              "      <div>\n",
              "<style scoped>\n",
              "    .dataframe tbody tr th:only-of-type {\n",
              "        vertical-align: middle;\n",
              "    }\n",
              "\n",
              "    .dataframe tbody tr th {\n",
              "        vertical-align: top;\n",
              "    }\n",
              "\n",
              "    .dataframe thead th {\n",
              "        text-align: right;\n",
              "    }\n",
              "</style>\n",
              "<table border=\"1\" class=\"dataframe\">\n",
              "  <thead>\n",
              "    <tr style=\"text-align: right;\">\n",
              "      <th></th>\n",
              "      <th>stop_id</th>\n",
              "      <th>stop_cause</th>\n",
              "      <th>service_area</th>\n",
              "      <th>race</th>\n",
              "      <th>sex</th>\n",
              "      <th>age</th>\n",
              "      <th>date_stop</th>\n",
              "      <th>date_time</th>\n",
              "      <th>arrested</th>\n",
              "      <th>searched</th>\n",
              "    </tr>\n",
              "  </thead>\n",
              "  <tbody>\n",
              "    <tr>\n",
              "      <th>0</th>\n",
              "      <td>1044975</td>\n",
              "      <td>Moving Violation</td>\n",
              "      <td>110</td>\n",
              "      <td>W</td>\n",
              "      <td>M</td>\n",
              "      <td>24.0</td>\n",
              "      <td>2014-01-01</td>\n",
              "      <td>2014-01-01 01:25:00</td>\n",
              "      <td>N</td>\n",
              "      <td>N</td>\n",
              "    </tr>\n",
              "    <tr>\n",
              "      <th>1</th>\n",
              "      <td>1044976</td>\n",
              "      <td>Moving Violation</td>\n",
              "      <td>320</td>\n",
              "      <td>W</td>\n",
              "      <td>M</td>\n",
              "      <td>42.0</td>\n",
              "      <td>2014-01-01</td>\n",
              "      <td>2014-01-01 05:47:00</td>\n",
              "      <td>N</td>\n",
              "      <td>N</td>\n",
              "    </tr>\n",
              "    <tr>\n",
              "      <th>2</th>\n",
              "      <td>1044977</td>\n",
              "      <td>Moving Violation</td>\n",
              "      <td>320</td>\n",
              "      <td>L</td>\n",
              "      <td>M</td>\n",
              "      <td>29.0</td>\n",
              "      <td>2014-01-01</td>\n",
              "      <td>2014-01-01 07:46:00</td>\n",
              "      <td>N</td>\n",
              "      <td>N</td>\n",
              "    </tr>\n",
              "    <tr>\n",
              "      <th>3</th>\n",
              "      <td>1044978</td>\n",
              "      <td>Moving Violation</td>\n",
              "      <td>610</td>\n",
              "      <td>W</td>\n",
              "      <td>M</td>\n",
              "      <td>23.0</td>\n",
              "      <td>2014-01-01</td>\n",
              "      <td>2014-01-01 08:10:00</td>\n",
              "      <td>N</td>\n",
              "      <td>N</td>\n",
              "    </tr>\n",
              "    <tr>\n",
              "      <th>4</th>\n",
              "      <td>1044980</td>\n",
              "      <td>Equipment Violation</td>\n",
              "      <td>930</td>\n",
              "      <td>H</td>\n",
              "      <td>M</td>\n",
              "      <td>35.0</td>\n",
              "      <td>2014-01-01</td>\n",
              "      <td>2014-01-01 08:35:00</td>\n",
              "      <td>N</td>\n",
              "      <td>N</td>\n",
              "    </tr>\n",
              "    <tr>\n",
              "      <th>...</th>\n",
              "      <td>...</td>\n",
              "      <td>...</td>\n",
              "      <td>...</td>\n",
              "      <td>...</td>\n",
              "      <td>...</td>\n",
              "      <td>...</td>\n",
              "      <td>...</td>\n",
              "      <td>...</td>\n",
              "      <td>...</td>\n",
              "      <td>...</td>\n",
              "    </tr>\n",
              "    <tr>\n",
              "      <th>463090</th>\n",
              "      <td>1620175</td>\n",
              "      <td>Moving Violation</td>\n",
              "      <td>110</td>\n",
              "      <td>W</td>\n",
              "      <td>M</td>\n",
              "      <td>39.0</td>\n",
              "      <td>2018-06-25</td>\n",
              "      <td>2018-06-25 10:47:00</td>\n",
              "      <td>N</td>\n",
              "      <td>N</td>\n",
              "    </tr>\n",
              "    <tr>\n",
              "      <th>463091</th>\n",
              "      <td>1620177</td>\n",
              "      <td>Moving Violation</td>\n",
              "      <td>110</td>\n",
              "      <td>W</td>\n",
              "      <td>F</td>\n",
              "      <td>32.0</td>\n",
              "      <td>2018-06-25</td>\n",
              "      <td>2018-06-25 11:34:00</td>\n",
              "      <td>N</td>\n",
              "      <td>N</td>\n",
              "    </tr>\n",
              "    <tr>\n",
              "      <th>463092</th>\n",
              "      <td>1620178</td>\n",
              "      <td>Moving Violation</td>\n",
              "      <td>110</td>\n",
              "      <td>W</td>\n",
              "      <td>F</td>\n",
              "      <td>21.0</td>\n",
              "      <td>2018-06-25</td>\n",
              "      <td>2018-06-25 11:56:00</td>\n",
              "      <td>N</td>\n",
              "      <td>N</td>\n",
              "    </tr>\n",
              "    <tr>\n",
              "      <th>463093</th>\n",
              "      <td>1620179</td>\n",
              "      <td>Moving Violation</td>\n",
              "      <td>110</td>\n",
              "      <td>W</td>\n",
              "      <td>M</td>\n",
              "      <td>43.0</td>\n",
              "      <td>2018-06-25</td>\n",
              "      <td>2018-06-25 12:45:00</td>\n",
              "      <td>N</td>\n",
              "      <td>N</td>\n",
              "    </tr>\n",
              "    <tr>\n",
              "      <th>463094</th>\n",
              "      <td>1620180</td>\n",
              "      <td>Moving Violation</td>\n",
              "      <td>110</td>\n",
              "      <td>W</td>\n",
              "      <td>F</td>\n",
              "      <td>17.0</td>\n",
              "      <td>2018-06-25</td>\n",
              "      <td>2018-06-25 13:00:00</td>\n",
              "      <td>N</td>\n",
              "      <td>N</td>\n",
              "    </tr>\n",
              "  </tbody>\n",
              "</table>\n",
              "<p>463095 rows × 10 columns</p>\n",
              "</div>\n",
              "      <button class=\"colab-df-convert\" onclick=\"convertToInteractive('df-5320929d-795f-43f8-95a0-3b1c315df0c0')\"\n",
              "              title=\"Convert this dataframe to an interactive table.\"\n",
              "              style=\"display:none;\">\n",
              "        \n",
              "  <svg xmlns=\"http://www.w3.org/2000/svg\" height=\"24px\"viewBox=\"0 0 24 24\"\n",
              "       width=\"24px\">\n",
              "    <path d=\"M0 0h24v24H0V0z\" fill=\"none\"/>\n",
              "    <path d=\"M18.56 5.44l.94 2.06.94-2.06 2.06-.94-2.06-.94-.94-2.06-.94 2.06-2.06.94zm-11 1L8.5 8.5l.94-2.06 2.06-.94-2.06-.94L8.5 2.5l-.94 2.06-2.06.94zm10 10l.94 2.06.94-2.06 2.06-.94-2.06-.94-.94-2.06-.94 2.06-2.06.94z\"/><path d=\"M17.41 7.96l-1.37-1.37c-.4-.4-.92-.59-1.43-.59-.52 0-1.04.2-1.43.59L10.3 9.45l-7.72 7.72c-.78.78-.78 2.05 0 2.83L4 21.41c.39.39.9.59 1.41.59.51 0 1.02-.2 1.41-.59l7.78-7.78 2.81-2.81c.8-.78.8-2.07 0-2.86zM5.41 20L4 18.59l7.72-7.72 1.47 1.35L5.41 20z\"/>\n",
              "  </svg>\n",
              "      </button>\n",
              "      \n",
              "  <style>\n",
              "    .colab-df-container {\n",
              "      display:flex;\n",
              "      flex-wrap:wrap;\n",
              "      gap: 12px;\n",
              "    }\n",
              "\n",
              "    .colab-df-convert {\n",
              "      background-color: #E8F0FE;\n",
              "      border: none;\n",
              "      border-radius: 50%;\n",
              "      cursor: pointer;\n",
              "      display: none;\n",
              "      fill: #1967D2;\n",
              "      height: 32px;\n",
              "      padding: 0 0 0 0;\n",
              "      width: 32px;\n",
              "    }\n",
              "\n",
              "    .colab-df-convert:hover {\n",
              "      background-color: #E2EBFA;\n",
              "      box-shadow: 0px 1px 2px rgba(60, 64, 67, 0.3), 0px 1px 3px 1px rgba(60, 64, 67, 0.15);\n",
              "      fill: #174EA6;\n",
              "    }\n",
              "\n",
              "    [theme=dark] .colab-df-convert {\n",
              "      background-color: #3B4455;\n",
              "      fill: #D2E3FC;\n",
              "    }\n",
              "\n",
              "    [theme=dark] .colab-df-convert:hover {\n",
              "      background-color: #434B5C;\n",
              "      box-shadow: 0px 1px 3px 1px rgba(0, 0, 0, 0.15);\n",
              "      filter: drop-shadow(0px 1px 2px rgba(0, 0, 0, 0.3));\n",
              "      fill: #FFFFFF;\n",
              "    }\n",
              "  </style>\n",
              "\n",
              "      <script>\n",
              "        const buttonEl =\n",
              "          document.querySelector('#df-5320929d-795f-43f8-95a0-3b1c315df0c0 button.colab-df-convert');\n",
              "        buttonEl.style.display =\n",
              "          google.colab.kernel.accessAllowed ? 'block' : 'none';\n",
              "\n",
              "        async function convertToInteractive(key) {\n",
              "          const element = document.querySelector('#df-5320929d-795f-43f8-95a0-3b1c315df0c0');\n",
              "          const dataTable =\n",
              "            await google.colab.kernel.invokeFunction('convertToInteractive',\n",
              "                                                     [key], {});\n",
              "          if (!dataTable) return;\n",
              "\n",
              "          const docLinkHtml = 'Like what you see? Visit the ' +\n",
              "            '<a target=\"_blank\" href=https://colab.research.google.com/notebooks/data_table.ipynb>data table notebook</a>'\n",
              "            + ' to learn more about interactive tables.';\n",
              "          element.innerHTML = '';\n",
              "          dataTable['output_type'] = 'display_data';\n",
              "          await google.colab.output.renderOutput(dataTable, element);\n",
              "          const docLink = document.createElement('div');\n",
              "          docLink.innerHTML = docLinkHtml;\n",
              "          element.appendChild(docLink);\n",
              "        }\n",
              "      </script>\n",
              "    </div>\n",
              "  </div>\n",
              "  "
            ]
          },
          "metadata": {},
          "execution_count": 15
        }
      ],
      "source": [
        "stopAll = stopAll.replace({'sex': {'X': np.NaN}})\n",
        "stopAll = stopAll.loc[~stopAll['sex'].isna(), :]\n",
        "stopAll.reset_index(drop = True)"
      ]
    },
    {
      "cell_type": "markdown",
      "metadata": {
        "id": "0711e857"
      },
      "source": [
        "The values in the `age` column have unusual values: too small or too large that are out of the range of our common sense: 0, 2, 5, 185, 230, for example. There are also invalid parsing that aren't numeric: '5_', '4_', 'N', which are set as NaN in the previous step when checking data types."
      ]
    },
    {
      "cell_type": "code",
      "execution_count": null,
      "metadata": {
        "id": "2d3eef3d",
        "colab": {
          "base_uri": "https://localhost:8080/"
        },
        "outputId": "fbd8d703-e990-47d5-8586-0f919c1a684a"
      },
      "outputs": [
        {
          "output_type": "execute_result",
          "data": {
            "text/plain": [
              "array([2.400e+01, 4.200e+01, 2.900e+01, 2.300e+01, 3.500e+01, 3.000e+01,\n",
              "       1.900e+01, 3.200e+01, 3.600e+01, 2.700e+01, 1.600e+01, 5.000e+01,\n",
              "       4.700e+01, 2.500e+01, 5.300e+01, 3.100e+01, 2.100e+01, 7.500e+01,\n",
              "       4.100e+01, 3.700e+01, 1.800e+01, 4.900e+01, 8.200e+01, 4.000e+01,\n",
              "       1.700e+01, 3.300e+01, 2.200e+01, 4.300e+01, 4.800e+01, 4.400e+01,\n",
              "             nan, 6.200e+01, 3.800e+01, 5.700e+01, 4.600e+01, 5.800e+01,\n",
              "       3.900e+01, 6.000e+01, 5.600e+01, 7.300e+01, 3.400e+01, 7.400e+01,\n",
              "       2.600e+01, 6.300e+01, 5.400e+01, 5.500e+01, 6.800e+01, 2.800e+01,\n",
              "       6.500e+01, 2.000e+01, 4.500e+01, 5.200e+01, 0.000e+00, 6.400e+01,\n",
              "       7.000e+01, 6.600e+01, 7.200e+01, 6.100e+01, 5.900e+01, 6.900e+01,\n",
              "       7.100e+01, 5.100e+01, 8.800e+01, 6.700e+01, 8.400e+01, 7.900e+01,\n",
              "       7.700e+01, 5.000e+00, 8.100e+01, 8.300e+01, 9.700e+01, 8.900e+01,\n",
              "       7.800e+01, 7.600e+01, 9.000e+01, 8.700e+01, 8.500e+01, 8.000e+01,\n",
              "       2.300e+02, 8.600e+01, 9.300e+01, 1.500e+01, 2.000e+00, 2.110e+02,\n",
              "       9.400e+01, 8.000e+00, 2.340e+02, 1.850e+02, 1.300e+01, 1.200e+01,\n",
              "       9.200e+01, 9.000e+00, 1.530e+02, 7.000e+00, 9.500e+01, 1.400e+01,\n",
              "       9.100e+01, 6.000e+00, 4.000e+00, 1.000e+01, 2.210e+02, 1.000e+00,\n",
              "       2.550e+02, 2.240e+02, 3.000e+00, 9.600e+01, 2.040e+02, 2.230e+02,\n",
              "       2.280e+02, 2.220e+02, 9.900e+01, 2.130e+02, 1.020e+03, 3.450e+02,\n",
              "       1.250e+02, 3.700e+00, 2.430e+02, 3.990e+02, 1.100e+01, 4.560e+02,\n",
              "       2.005e+03, 2.330e+02, 7.010e+02, 3.870e+02, 1.800e+02, 1.730e+02,\n",
              "       9.800e+01, 1.000e+02, 1.190e+02, 1.630e+02, 1.140e+02, 2.120e+02,\n",
              "       2.200e+02, 1.450e+02, 1.200e+02, 1.110e+02, 2.350e+02, 2.260e+02,\n",
              "       2.030e+02, 1.430e+02])"
            ]
          },
          "metadata": {},
          "execution_count": 16
        }
      ],
      "source": [
        "stopAll.age.unique() "
      ]
    },
    {
      "cell_type": "markdown",
      "metadata": {
        "id": "70d694bf"
      },
      "source": [
        "However, ages can still feasibly have a wide range all over the place. Are these due to manual errors? Since we are currently not dealing with ages for our vehicle stop analysis, we'll leave it like this, but we'll keep in mind how the ages could influence the validity of our observations."
      ]
    },
    {
      "cell_type": "code",
      "execution_count": null,
      "metadata": {
        "id": "534becb8",
        "outputId": "88b6fa0a-d1d8-4762-99db-88add7f4b7ee",
        "colab": {
          "base_uri": "https://localhost:8080/"
        }
      },
      "outputs": [
        {
          "output_type": "execute_result",
          "data": {
            "text/plain": [
              "count    448489.000000\n",
              "mean         37.107837\n",
              "std          14.780774\n",
              "min           0.000000\n",
              "25%          25.000000\n",
              "50%          34.000000\n",
              "75%          47.000000\n",
              "max        2005.000000\n",
              "Name: age, dtype: float64"
            ]
          },
          "metadata": {},
          "execution_count": 17
        }
      ],
      "source": [
        "stopAll['age'].describe()"
      ]
    },
    {
      "cell_type": "markdown",
      "metadata": {
        "id": "d110e4c3"
      },
      "source": [
        "### Data Granularity\n",
        "As we observed previously, the race column has many correponding letters"
      ]
    },
    {
      "cell_type": "code",
      "execution_count": null,
      "metadata": {
        "scrolled": true,
        "id": "a9fd01f7",
        "outputId": "945f35c3-390d-408e-f345-b397b5a79334",
        "colab": {
          "base_uri": "https://localhost:8080/"
        }
      },
      "outputs": [
        {
          "output_type": "execute_result",
          "data": {
            "text/plain": [
              "array(['W', 'L', 'H', 'V', 'B', 'A', 'O', 'C', 'F', 'Z', 'I', 'P', 'J',\n",
              "       'K', 'U', 'G', 'S', 'D'], dtype=object)"
            ]
          },
          "metadata": {},
          "execution_count": 18
        }
      ],
      "source": [
        "stopAll.race.unique()"
      ]
    },
    {
      "cell_type": "code",
      "execution_count": null,
      "metadata": {
        "scrolled": true,
        "id": "37b89166",
        "outputId": "a4943a10-8e23-484d-8ab9-2e163e8d025c",
        "colab": {
          "base_uri": "https://localhost:8080/",
          "height": 614
        }
      },
      "outputs": [
        {
          "output_type": "execute_result",
          "data": {
            "text/plain": [
              "   Race Code       Description\n",
              "0          A       OTHER ASIAN\n",
              "1          B             BLACK\n",
              "2          C           CHINESE\n",
              "3          D         CAMBODIAN\n",
              "4          F          FILIPINO\n",
              "5          G         GUAMANIAN\n",
              "6          H          HISPANIC\n",
              "7          I            INDIAN\n",
              "8          J          JAPANESE\n",
              "9          K            KOREAN\n",
              "10         L           LAOTIAN\n",
              "11         O             OTHER\n",
              "12         P  PACIFIC ISLANDER\n",
              "13         S            SAMOAN\n",
              "14         U          HAWAIIAN\n",
              "15         V        VIETNAMESE\n",
              "16         W             WHITE\n",
              "17         Z      ASIAN INDIAN"
            ],
            "text/html": [
              "\n",
              "  <div id=\"df-c022240e-88a8-4bb4-9de6-6732d661e025\">\n",
              "    <div class=\"colab-df-container\">\n",
              "      <div>\n",
              "<style scoped>\n",
              "    .dataframe tbody tr th:only-of-type {\n",
              "        vertical-align: middle;\n",
              "    }\n",
              "\n",
              "    .dataframe tbody tr th {\n",
              "        vertical-align: top;\n",
              "    }\n",
              "\n",
              "    .dataframe thead th {\n",
              "        text-align: right;\n",
              "    }\n",
              "</style>\n",
              "<table border=\"1\" class=\"dataframe\">\n",
              "  <thead>\n",
              "    <tr style=\"text-align: right;\">\n",
              "      <th></th>\n",
              "      <th>Race Code</th>\n",
              "      <th>Description</th>\n",
              "    </tr>\n",
              "  </thead>\n",
              "  <tbody>\n",
              "    <tr>\n",
              "      <th>0</th>\n",
              "      <td>A</td>\n",
              "      <td>OTHER ASIAN</td>\n",
              "    </tr>\n",
              "    <tr>\n",
              "      <th>1</th>\n",
              "      <td>B</td>\n",
              "      <td>BLACK</td>\n",
              "    </tr>\n",
              "    <tr>\n",
              "      <th>2</th>\n",
              "      <td>C</td>\n",
              "      <td>CHINESE</td>\n",
              "    </tr>\n",
              "    <tr>\n",
              "      <th>3</th>\n",
              "      <td>D</td>\n",
              "      <td>CAMBODIAN</td>\n",
              "    </tr>\n",
              "    <tr>\n",
              "      <th>4</th>\n",
              "      <td>F</td>\n",
              "      <td>FILIPINO</td>\n",
              "    </tr>\n",
              "    <tr>\n",
              "      <th>5</th>\n",
              "      <td>G</td>\n",
              "      <td>GUAMANIAN</td>\n",
              "    </tr>\n",
              "    <tr>\n",
              "      <th>6</th>\n",
              "      <td>H</td>\n",
              "      <td>HISPANIC</td>\n",
              "    </tr>\n",
              "    <tr>\n",
              "      <th>7</th>\n",
              "      <td>I</td>\n",
              "      <td>INDIAN</td>\n",
              "    </tr>\n",
              "    <tr>\n",
              "      <th>8</th>\n",
              "      <td>J</td>\n",
              "      <td>JAPANESE</td>\n",
              "    </tr>\n",
              "    <tr>\n",
              "      <th>9</th>\n",
              "      <td>K</td>\n",
              "      <td>KOREAN</td>\n",
              "    </tr>\n",
              "    <tr>\n",
              "      <th>10</th>\n",
              "      <td>L</td>\n",
              "      <td>LAOTIAN</td>\n",
              "    </tr>\n",
              "    <tr>\n",
              "      <th>11</th>\n",
              "      <td>O</td>\n",
              "      <td>OTHER</td>\n",
              "    </tr>\n",
              "    <tr>\n",
              "      <th>12</th>\n",
              "      <td>P</td>\n",
              "      <td>PACIFIC ISLANDER</td>\n",
              "    </tr>\n",
              "    <tr>\n",
              "      <th>13</th>\n",
              "      <td>S</td>\n",
              "      <td>SAMOAN</td>\n",
              "    </tr>\n",
              "    <tr>\n",
              "      <th>14</th>\n",
              "      <td>U</td>\n",
              "      <td>HAWAIIAN</td>\n",
              "    </tr>\n",
              "    <tr>\n",
              "      <th>15</th>\n",
              "      <td>V</td>\n",
              "      <td>VIETNAMESE</td>\n",
              "    </tr>\n",
              "    <tr>\n",
              "      <th>16</th>\n",
              "      <td>W</td>\n",
              "      <td>WHITE</td>\n",
              "    </tr>\n",
              "    <tr>\n",
              "      <th>17</th>\n",
              "      <td>Z</td>\n",
              "      <td>ASIAN INDIAN</td>\n",
              "    </tr>\n",
              "  </tbody>\n",
              "</table>\n",
              "</div>\n",
              "      <button class=\"colab-df-convert\" onclick=\"convertToInteractive('df-c022240e-88a8-4bb4-9de6-6732d661e025')\"\n",
              "              title=\"Convert this dataframe to an interactive table.\"\n",
              "              style=\"display:none;\">\n",
              "        \n",
              "  <svg xmlns=\"http://www.w3.org/2000/svg\" height=\"24px\"viewBox=\"0 0 24 24\"\n",
              "       width=\"24px\">\n",
              "    <path d=\"M0 0h24v24H0V0z\" fill=\"none\"/>\n",
              "    <path d=\"M18.56 5.44l.94 2.06.94-2.06 2.06-.94-2.06-.94-.94-2.06-.94 2.06-2.06.94zm-11 1L8.5 8.5l.94-2.06 2.06-.94-2.06-.94L8.5 2.5l-.94 2.06-2.06.94zm10 10l.94 2.06.94-2.06 2.06-.94-2.06-.94-.94-2.06-.94 2.06-2.06.94z\"/><path d=\"M17.41 7.96l-1.37-1.37c-.4-.4-.92-.59-1.43-.59-.52 0-1.04.2-1.43.59L10.3 9.45l-7.72 7.72c-.78.78-.78 2.05 0 2.83L4 21.41c.39.39.9.59 1.41.59.51 0 1.02-.2 1.41-.59l7.78-7.78 2.81-2.81c.8-.78.8-2.07 0-2.86zM5.41 20L4 18.59l7.72-7.72 1.47 1.35L5.41 20z\"/>\n",
              "  </svg>\n",
              "      </button>\n",
              "      \n",
              "  <style>\n",
              "    .colab-df-container {\n",
              "      display:flex;\n",
              "      flex-wrap:wrap;\n",
              "      gap: 12px;\n",
              "    }\n",
              "\n",
              "    .colab-df-convert {\n",
              "      background-color: #E8F0FE;\n",
              "      border: none;\n",
              "      border-radius: 50%;\n",
              "      cursor: pointer;\n",
              "      display: none;\n",
              "      fill: #1967D2;\n",
              "      height: 32px;\n",
              "      padding: 0 0 0 0;\n",
              "      width: 32px;\n",
              "    }\n",
              "\n",
              "    .colab-df-convert:hover {\n",
              "      background-color: #E2EBFA;\n",
              "      box-shadow: 0px 1px 2px rgba(60, 64, 67, 0.3), 0px 1px 3px 1px rgba(60, 64, 67, 0.15);\n",
              "      fill: #174EA6;\n",
              "    }\n",
              "\n",
              "    [theme=dark] .colab-df-convert {\n",
              "      background-color: #3B4455;\n",
              "      fill: #D2E3FC;\n",
              "    }\n",
              "\n",
              "    [theme=dark] .colab-df-convert:hover {\n",
              "      background-color: #434B5C;\n",
              "      box-shadow: 0px 1px 3px 1px rgba(0, 0, 0, 0.15);\n",
              "      filter: drop-shadow(0px 1px 2px rgba(0, 0, 0, 0.3));\n",
              "      fill: #FFFFFF;\n",
              "    }\n",
              "  </style>\n",
              "\n",
              "      <script>\n",
              "        const buttonEl =\n",
              "          document.querySelector('#df-c022240e-88a8-4bb4-9de6-6732d661e025 button.colab-df-convert');\n",
              "        buttonEl.style.display =\n",
              "          google.colab.kernel.accessAllowed ? 'block' : 'none';\n",
              "\n",
              "        async function convertToInteractive(key) {\n",
              "          const element = document.querySelector('#df-c022240e-88a8-4bb4-9de6-6732d661e025');\n",
              "          const dataTable =\n",
              "            await google.colab.kernel.invokeFunction('convertToInteractive',\n",
              "                                                     [key], {});\n",
              "          if (!dataTable) return;\n",
              "\n",
              "          const docLinkHtml = 'Like what you see? Visit the ' +\n",
              "            '<a target=\"_blank\" href=https://colab.research.google.com/notebooks/data_table.ipynb>data table notebook</a>'\n",
              "            + ' to learn more about interactive tables.';\n",
              "          element.innerHTML = '';\n",
              "          dataTable['output_type'] = 'display_data';\n",
              "          await google.colab.output.renderOutput(dataTable, element);\n",
              "          const docLink = document.createElement('div');\n",
              "          docLink.innerHTML = docLinkHtml;\n",
              "          element.appendChild(docLink);\n",
              "        }\n",
              "      </script>\n",
              "    </div>\n",
              "  </div>\n",
              "  "
            ]
          },
          "metadata": {},
          "execution_count": 19
        }
      ],
      "source": [
        "# Race Code Dict\n",
        "race_code"
      ]
    },
    {
      "cell_type": "markdown",
      "metadata": {
        "id": "63b9ae2f"
      },
      "source": [
        "The level of granularity of the races in our data right now seems inconsistent. \n",
        "For instance, 'WHITE' and 'BLACK' are much more broad than 'FILIPINO', 'JAPANESE', and 'GUAMANIAN'.\n",
        "Therefore, we decided to adjust the granularity by manually defining each race code as followed:"
      ]
    },
    {
      "cell_type": "code",
      "execution_count": null,
      "metadata": {
        "id": "73b4e88a"
      },
      "outputs": [],
      "source": [
        "race_dict = {'A':'Asian',\n",
        "             'B':'Black',\n",
        "             'C':'Asian',\n",
        "             'D':'Asian',\n",
        "             'F':'Asian',\n",
        "             'G':'Asian',\n",
        "             'H':'Hispanic',\n",
        "             'I':'Native American',\n",
        "             'J':'Asian',\n",
        "             'K':'Asian',\n",
        "             'L':'Asian',\n",
        "             'O':'Other',\n",
        "             'P':'Asian',\n",
        "             'S':'Asian',\n",
        "             'U':'Hawaiian',\n",
        "             'V':'Asian',\n",
        "             'W':'White',\n",
        "             'Z':'Asian'\n",
        "            }"
      ]
    },
    {
      "cell_type": "code",
      "execution_count": null,
      "metadata": {
        "scrolled": false,
        "id": "d55c4ab9",
        "outputId": "4d6f9210-ff71-42a3-8c24-c089fbcf1dc1",
        "colab": {
          "base_uri": "https://localhost:8080/",
          "height": 614
        }
      },
      "outputs": [
        {
          "output_type": "execute_result",
          "data": {
            "text/plain": [
              "   Race Code       Description    Race_Category\n",
              "0          A       OTHER ASIAN            Asian\n",
              "1          B             BLACK            Black\n",
              "2          C           CHINESE            Asian\n",
              "3          D         CAMBODIAN            Asian\n",
              "4          F          FILIPINO            Asian\n",
              "5          G         GUAMANIAN            Asian\n",
              "6          H          HISPANIC         Hispanic\n",
              "7          I            INDIAN  Native American\n",
              "8          J          JAPANESE            Asian\n",
              "9          K            KOREAN            Asian\n",
              "10         L           LAOTIAN            Asian\n",
              "11         O             OTHER            Other\n",
              "12         P  PACIFIC ISLANDER            Asian\n",
              "13         S            SAMOAN            Asian\n",
              "14         U          HAWAIIAN         Hawaiian\n",
              "15         V        VIETNAMESE            Asian\n",
              "16         W             WHITE            White\n",
              "17         Z      ASIAN INDIAN            Asian"
            ],
            "text/html": [
              "\n",
              "  <div id=\"df-2cb920ed-ae65-42e3-9821-1d4c28eda2b4\">\n",
              "    <div class=\"colab-df-container\">\n",
              "      <div>\n",
              "<style scoped>\n",
              "    .dataframe tbody tr th:only-of-type {\n",
              "        vertical-align: middle;\n",
              "    }\n",
              "\n",
              "    .dataframe tbody tr th {\n",
              "        vertical-align: top;\n",
              "    }\n",
              "\n",
              "    .dataframe thead th {\n",
              "        text-align: right;\n",
              "    }\n",
              "</style>\n",
              "<table border=\"1\" class=\"dataframe\">\n",
              "  <thead>\n",
              "    <tr style=\"text-align: right;\">\n",
              "      <th></th>\n",
              "      <th>Race Code</th>\n",
              "      <th>Description</th>\n",
              "      <th>Race_Category</th>\n",
              "    </tr>\n",
              "  </thead>\n",
              "  <tbody>\n",
              "    <tr>\n",
              "      <th>0</th>\n",
              "      <td>A</td>\n",
              "      <td>OTHER ASIAN</td>\n",
              "      <td>Asian</td>\n",
              "    </tr>\n",
              "    <tr>\n",
              "      <th>1</th>\n",
              "      <td>B</td>\n",
              "      <td>BLACK</td>\n",
              "      <td>Black</td>\n",
              "    </tr>\n",
              "    <tr>\n",
              "      <th>2</th>\n",
              "      <td>C</td>\n",
              "      <td>CHINESE</td>\n",
              "      <td>Asian</td>\n",
              "    </tr>\n",
              "    <tr>\n",
              "      <th>3</th>\n",
              "      <td>D</td>\n",
              "      <td>CAMBODIAN</td>\n",
              "      <td>Asian</td>\n",
              "    </tr>\n",
              "    <tr>\n",
              "      <th>4</th>\n",
              "      <td>F</td>\n",
              "      <td>FILIPINO</td>\n",
              "      <td>Asian</td>\n",
              "    </tr>\n",
              "    <tr>\n",
              "      <th>5</th>\n",
              "      <td>G</td>\n",
              "      <td>GUAMANIAN</td>\n",
              "      <td>Asian</td>\n",
              "    </tr>\n",
              "    <tr>\n",
              "      <th>6</th>\n",
              "      <td>H</td>\n",
              "      <td>HISPANIC</td>\n",
              "      <td>Hispanic</td>\n",
              "    </tr>\n",
              "    <tr>\n",
              "      <th>7</th>\n",
              "      <td>I</td>\n",
              "      <td>INDIAN</td>\n",
              "      <td>Native American</td>\n",
              "    </tr>\n",
              "    <tr>\n",
              "      <th>8</th>\n",
              "      <td>J</td>\n",
              "      <td>JAPANESE</td>\n",
              "      <td>Asian</td>\n",
              "    </tr>\n",
              "    <tr>\n",
              "      <th>9</th>\n",
              "      <td>K</td>\n",
              "      <td>KOREAN</td>\n",
              "      <td>Asian</td>\n",
              "    </tr>\n",
              "    <tr>\n",
              "      <th>10</th>\n",
              "      <td>L</td>\n",
              "      <td>LAOTIAN</td>\n",
              "      <td>Asian</td>\n",
              "    </tr>\n",
              "    <tr>\n",
              "      <th>11</th>\n",
              "      <td>O</td>\n",
              "      <td>OTHER</td>\n",
              "      <td>Other</td>\n",
              "    </tr>\n",
              "    <tr>\n",
              "      <th>12</th>\n",
              "      <td>P</td>\n",
              "      <td>PACIFIC ISLANDER</td>\n",
              "      <td>Asian</td>\n",
              "    </tr>\n",
              "    <tr>\n",
              "      <th>13</th>\n",
              "      <td>S</td>\n",
              "      <td>SAMOAN</td>\n",
              "      <td>Asian</td>\n",
              "    </tr>\n",
              "    <tr>\n",
              "      <th>14</th>\n",
              "      <td>U</td>\n",
              "      <td>HAWAIIAN</td>\n",
              "      <td>Hawaiian</td>\n",
              "    </tr>\n",
              "    <tr>\n",
              "      <th>15</th>\n",
              "      <td>V</td>\n",
              "      <td>VIETNAMESE</td>\n",
              "      <td>Asian</td>\n",
              "    </tr>\n",
              "    <tr>\n",
              "      <th>16</th>\n",
              "      <td>W</td>\n",
              "      <td>WHITE</td>\n",
              "      <td>White</td>\n",
              "    </tr>\n",
              "    <tr>\n",
              "      <th>17</th>\n",
              "      <td>Z</td>\n",
              "      <td>ASIAN INDIAN</td>\n",
              "      <td>Asian</td>\n",
              "    </tr>\n",
              "  </tbody>\n",
              "</table>\n",
              "</div>\n",
              "      <button class=\"colab-df-convert\" onclick=\"convertToInteractive('df-2cb920ed-ae65-42e3-9821-1d4c28eda2b4')\"\n",
              "              title=\"Convert this dataframe to an interactive table.\"\n",
              "              style=\"display:none;\">\n",
              "        \n",
              "  <svg xmlns=\"http://www.w3.org/2000/svg\" height=\"24px\"viewBox=\"0 0 24 24\"\n",
              "       width=\"24px\">\n",
              "    <path d=\"M0 0h24v24H0V0z\" fill=\"none\"/>\n",
              "    <path d=\"M18.56 5.44l.94 2.06.94-2.06 2.06-.94-2.06-.94-.94-2.06-.94 2.06-2.06.94zm-11 1L8.5 8.5l.94-2.06 2.06-.94-2.06-.94L8.5 2.5l-.94 2.06-2.06.94zm10 10l.94 2.06.94-2.06 2.06-.94-2.06-.94-.94-2.06-.94 2.06-2.06.94z\"/><path d=\"M17.41 7.96l-1.37-1.37c-.4-.4-.92-.59-1.43-.59-.52 0-1.04.2-1.43.59L10.3 9.45l-7.72 7.72c-.78.78-.78 2.05 0 2.83L4 21.41c.39.39.9.59 1.41.59.51 0 1.02-.2 1.41-.59l7.78-7.78 2.81-2.81c.8-.78.8-2.07 0-2.86zM5.41 20L4 18.59l7.72-7.72 1.47 1.35L5.41 20z\"/>\n",
              "  </svg>\n",
              "      </button>\n",
              "      \n",
              "  <style>\n",
              "    .colab-df-container {\n",
              "      display:flex;\n",
              "      flex-wrap:wrap;\n",
              "      gap: 12px;\n",
              "    }\n",
              "\n",
              "    .colab-df-convert {\n",
              "      background-color: #E8F0FE;\n",
              "      border: none;\n",
              "      border-radius: 50%;\n",
              "      cursor: pointer;\n",
              "      display: none;\n",
              "      fill: #1967D2;\n",
              "      height: 32px;\n",
              "      padding: 0 0 0 0;\n",
              "      width: 32px;\n",
              "    }\n",
              "\n",
              "    .colab-df-convert:hover {\n",
              "      background-color: #E2EBFA;\n",
              "      box-shadow: 0px 1px 2px rgba(60, 64, 67, 0.3), 0px 1px 3px 1px rgba(60, 64, 67, 0.15);\n",
              "      fill: #174EA6;\n",
              "    }\n",
              "\n",
              "    [theme=dark] .colab-df-convert {\n",
              "      background-color: #3B4455;\n",
              "      fill: #D2E3FC;\n",
              "    }\n",
              "\n",
              "    [theme=dark] .colab-df-convert:hover {\n",
              "      background-color: #434B5C;\n",
              "      box-shadow: 0px 1px 3px 1px rgba(0, 0, 0, 0.15);\n",
              "      filter: drop-shadow(0px 1px 2px rgba(0, 0, 0, 0.3));\n",
              "      fill: #FFFFFF;\n",
              "    }\n",
              "  </style>\n",
              "\n",
              "      <script>\n",
              "        const buttonEl =\n",
              "          document.querySelector('#df-2cb920ed-ae65-42e3-9821-1d4c28eda2b4 button.colab-df-convert');\n",
              "        buttonEl.style.display =\n",
              "          google.colab.kernel.accessAllowed ? 'block' : 'none';\n",
              "\n",
              "        async function convertToInteractive(key) {\n",
              "          const element = document.querySelector('#df-2cb920ed-ae65-42e3-9821-1d4c28eda2b4');\n",
              "          const dataTable =\n",
              "            await google.colab.kernel.invokeFunction('convertToInteractive',\n",
              "                                                     [key], {});\n",
              "          if (!dataTable) return;\n",
              "\n",
              "          const docLinkHtml = 'Like what you see? Visit the ' +\n",
              "            '<a target=\"_blank\" href=https://colab.research.google.com/notebooks/data_table.ipynb>data table notebook</a>'\n",
              "            + ' to learn more about interactive tables.';\n",
              "          element.innerHTML = '';\n",
              "          dataTable['output_type'] = 'display_data';\n",
              "          await google.colab.output.renderOutput(dataTable, element);\n",
              "          const docLink = document.createElement('div');\n",
              "          docLink.innerHTML = docLinkHtml;\n",
              "          element.appendChild(docLink);\n",
              "        }\n",
              "      </script>\n",
              "    </div>\n",
              "  </div>\n",
              "  "
            ]
          },
          "metadata": {},
          "execution_count": 21
        }
      ],
      "source": [
        "race_code['Race_Category'] = race_code['Race Code'].replace(race_dict)\n",
        "race_code"
      ]
    },
    {
      "cell_type": "markdown",
      "metadata": {
        "id": "cc326f63"
      },
      "source": [
        "Join `stopAll` with the race code"
      ]
    },
    {
      "cell_type": "code",
      "execution_count": null,
      "metadata": {
        "id": "2258eda0"
      },
      "outputs": [],
      "source": [
        "stopAll = pd.merge(stopAll, race_code, left_on = 'race', right_on = 'Race Code', how = 'left')\n",
        "stopAll = stopAll.rename(columns = {'Race Code':'race_code'})"
      ]
    },
    {
      "cell_type": "code",
      "execution_count": null,
      "metadata": {
        "scrolled": true,
        "id": "8914f9b1",
        "outputId": "d4f081ff-5b56-4005-ccb8-553136a5ba16",
        "colab": {
          "base_uri": "https://localhost:8080/",
          "height": 661
        }
      },
      "outputs": [
        {
          "output_type": "execute_result",
          "data": {
            "text/plain": [
              "        stop_id           stop_cause service_area race sex   age  date_stop  \\\n",
              "0       1044975     Moving Violation          110    W   M  24.0 2014-01-01   \n",
              "1       1044976     Moving Violation          320    W   M  42.0 2014-01-01   \n",
              "2       1044977     Moving Violation          320    L   M  29.0 2014-01-01   \n",
              "3       1044978     Moving Violation          610    W   M  23.0 2014-01-01   \n",
              "4       1044980  Equipment Violation          930    H   M  35.0 2014-01-01   \n",
              "...         ...                  ...          ...  ...  ..   ...        ...   \n",
              "463090  1620175     Moving Violation          110    W   M  39.0 2018-06-25   \n",
              "463091  1620177     Moving Violation          110    W   F  32.0 2018-06-25   \n",
              "463092  1620178     Moving Violation          110    W   F  21.0 2018-06-25   \n",
              "463093  1620179     Moving Violation          110    W   M  43.0 2018-06-25   \n",
              "463094  1620180     Moving Violation          110    W   F  17.0 2018-06-25   \n",
              "\n",
              "                 date_time arrested searched race_code Description  \\\n",
              "0      2014-01-01 01:25:00        N        N         W       WHITE   \n",
              "1      2014-01-01 05:47:00        N        N         W       WHITE   \n",
              "2      2014-01-01 07:46:00        N        N         L     LAOTIAN   \n",
              "3      2014-01-01 08:10:00        N        N         W       WHITE   \n",
              "4      2014-01-01 08:35:00        N        N         H    HISPANIC   \n",
              "...                    ...      ...      ...       ...         ...   \n",
              "463090 2018-06-25 10:47:00        N        N         W       WHITE   \n",
              "463091 2018-06-25 11:34:00        N        N         W       WHITE   \n",
              "463092 2018-06-25 11:56:00        N        N         W       WHITE   \n",
              "463093 2018-06-25 12:45:00        N        N         W       WHITE   \n",
              "463094 2018-06-25 13:00:00        N        N         W       WHITE   \n",
              "\n",
              "       Race_Category  \n",
              "0              White  \n",
              "1              White  \n",
              "2              Asian  \n",
              "3              White  \n",
              "4           Hispanic  \n",
              "...              ...  \n",
              "463090         White  \n",
              "463091         White  \n",
              "463092         White  \n",
              "463093         White  \n",
              "463094         White  \n",
              "\n",
              "[463095 rows x 13 columns]"
            ],
            "text/html": [
              "\n",
              "  <div id=\"df-3d78bbb1-e7ba-427f-8ddf-d53a63496c6c\">\n",
              "    <div class=\"colab-df-container\">\n",
              "      <div>\n",
              "<style scoped>\n",
              "    .dataframe tbody tr th:only-of-type {\n",
              "        vertical-align: middle;\n",
              "    }\n",
              "\n",
              "    .dataframe tbody tr th {\n",
              "        vertical-align: top;\n",
              "    }\n",
              "\n",
              "    .dataframe thead th {\n",
              "        text-align: right;\n",
              "    }\n",
              "</style>\n",
              "<table border=\"1\" class=\"dataframe\">\n",
              "  <thead>\n",
              "    <tr style=\"text-align: right;\">\n",
              "      <th></th>\n",
              "      <th>stop_id</th>\n",
              "      <th>stop_cause</th>\n",
              "      <th>service_area</th>\n",
              "      <th>race</th>\n",
              "      <th>sex</th>\n",
              "      <th>age</th>\n",
              "      <th>date_stop</th>\n",
              "      <th>date_time</th>\n",
              "      <th>arrested</th>\n",
              "      <th>searched</th>\n",
              "      <th>race_code</th>\n",
              "      <th>Description</th>\n",
              "      <th>Race_Category</th>\n",
              "    </tr>\n",
              "  </thead>\n",
              "  <tbody>\n",
              "    <tr>\n",
              "      <th>0</th>\n",
              "      <td>1044975</td>\n",
              "      <td>Moving Violation</td>\n",
              "      <td>110</td>\n",
              "      <td>W</td>\n",
              "      <td>M</td>\n",
              "      <td>24.0</td>\n",
              "      <td>2014-01-01</td>\n",
              "      <td>2014-01-01 01:25:00</td>\n",
              "      <td>N</td>\n",
              "      <td>N</td>\n",
              "      <td>W</td>\n",
              "      <td>WHITE</td>\n",
              "      <td>White</td>\n",
              "    </tr>\n",
              "    <tr>\n",
              "      <th>1</th>\n",
              "      <td>1044976</td>\n",
              "      <td>Moving Violation</td>\n",
              "      <td>320</td>\n",
              "      <td>W</td>\n",
              "      <td>M</td>\n",
              "      <td>42.0</td>\n",
              "      <td>2014-01-01</td>\n",
              "      <td>2014-01-01 05:47:00</td>\n",
              "      <td>N</td>\n",
              "      <td>N</td>\n",
              "      <td>W</td>\n",
              "      <td>WHITE</td>\n",
              "      <td>White</td>\n",
              "    </tr>\n",
              "    <tr>\n",
              "      <th>2</th>\n",
              "      <td>1044977</td>\n",
              "      <td>Moving Violation</td>\n",
              "      <td>320</td>\n",
              "      <td>L</td>\n",
              "      <td>M</td>\n",
              "      <td>29.0</td>\n",
              "      <td>2014-01-01</td>\n",
              "      <td>2014-01-01 07:46:00</td>\n",
              "      <td>N</td>\n",
              "      <td>N</td>\n",
              "      <td>L</td>\n",
              "      <td>LAOTIAN</td>\n",
              "      <td>Asian</td>\n",
              "    </tr>\n",
              "    <tr>\n",
              "      <th>3</th>\n",
              "      <td>1044978</td>\n",
              "      <td>Moving Violation</td>\n",
              "      <td>610</td>\n",
              "      <td>W</td>\n",
              "      <td>M</td>\n",
              "      <td>23.0</td>\n",
              "      <td>2014-01-01</td>\n",
              "      <td>2014-01-01 08:10:00</td>\n",
              "      <td>N</td>\n",
              "      <td>N</td>\n",
              "      <td>W</td>\n",
              "      <td>WHITE</td>\n",
              "      <td>White</td>\n",
              "    </tr>\n",
              "    <tr>\n",
              "      <th>4</th>\n",
              "      <td>1044980</td>\n",
              "      <td>Equipment Violation</td>\n",
              "      <td>930</td>\n",
              "      <td>H</td>\n",
              "      <td>M</td>\n",
              "      <td>35.0</td>\n",
              "      <td>2014-01-01</td>\n",
              "      <td>2014-01-01 08:35:00</td>\n",
              "      <td>N</td>\n",
              "      <td>N</td>\n",
              "      <td>H</td>\n",
              "      <td>HISPANIC</td>\n",
              "      <td>Hispanic</td>\n",
              "    </tr>\n",
              "    <tr>\n",
              "      <th>...</th>\n",
              "      <td>...</td>\n",
              "      <td>...</td>\n",
              "      <td>...</td>\n",
              "      <td>...</td>\n",
              "      <td>...</td>\n",
              "      <td>...</td>\n",
              "      <td>...</td>\n",
              "      <td>...</td>\n",
              "      <td>...</td>\n",
              "      <td>...</td>\n",
              "      <td>...</td>\n",
              "      <td>...</td>\n",
              "      <td>...</td>\n",
              "    </tr>\n",
              "    <tr>\n",
              "      <th>463090</th>\n",
              "      <td>1620175</td>\n",
              "      <td>Moving Violation</td>\n",
              "      <td>110</td>\n",
              "      <td>W</td>\n",
              "      <td>M</td>\n",
              "      <td>39.0</td>\n",
              "      <td>2018-06-25</td>\n",
              "      <td>2018-06-25 10:47:00</td>\n",
              "      <td>N</td>\n",
              "      <td>N</td>\n",
              "      <td>W</td>\n",
              "      <td>WHITE</td>\n",
              "      <td>White</td>\n",
              "    </tr>\n",
              "    <tr>\n",
              "      <th>463091</th>\n",
              "      <td>1620177</td>\n",
              "      <td>Moving Violation</td>\n",
              "      <td>110</td>\n",
              "      <td>W</td>\n",
              "      <td>F</td>\n",
              "      <td>32.0</td>\n",
              "      <td>2018-06-25</td>\n",
              "      <td>2018-06-25 11:34:00</td>\n",
              "      <td>N</td>\n",
              "      <td>N</td>\n",
              "      <td>W</td>\n",
              "      <td>WHITE</td>\n",
              "      <td>White</td>\n",
              "    </tr>\n",
              "    <tr>\n",
              "      <th>463092</th>\n",
              "      <td>1620178</td>\n",
              "      <td>Moving Violation</td>\n",
              "      <td>110</td>\n",
              "      <td>W</td>\n",
              "      <td>F</td>\n",
              "      <td>21.0</td>\n",
              "      <td>2018-06-25</td>\n",
              "      <td>2018-06-25 11:56:00</td>\n",
              "      <td>N</td>\n",
              "      <td>N</td>\n",
              "      <td>W</td>\n",
              "      <td>WHITE</td>\n",
              "      <td>White</td>\n",
              "    </tr>\n",
              "    <tr>\n",
              "      <th>463093</th>\n",
              "      <td>1620179</td>\n",
              "      <td>Moving Violation</td>\n",
              "      <td>110</td>\n",
              "      <td>W</td>\n",
              "      <td>M</td>\n",
              "      <td>43.0</td>\n",
              "      <td>2018-06-25</td>\n",
              "      <td>2018-06-25 12:45:00</td>\n",
              "      <td>N</td>\n",
              "      <td>N</td>\n",
              "      <td>W</td>\n",
              "      <td>WHITE</td>\n",
              "      <td>White</td>\n",
              "    </tr>\n",
              "    <tr>\n",
              "      <th>463094</th>\n",
              "      <td>1620180</td>\n",
              "      <td>Moving Violation</td>\n",
              "      <td>110</td>\n",
              "      <td>W</td>\n",
              "      <td>F</td>\n",
              "      <td>17.0</td>\n",
              "      <td>2018-06-25</td>\n",
              "      <td>2018-06-25 13:00:00</td>\n",
              "      <td>N</td>\n",
              "      <td>N</td>\n",
              "      <td>W</td>\n",
              "      <td>WHITE</td>\n",
              "      <td>White</td>\n",
              "    </tr>\n",
              "  </tbody>\n",
              "</table>\n",
              "<p>463095 rows × 13 columns</p>\n",
              "</div>\n",
              "      <button class=\"colab-df-convert\" onclick=\"convertToInteractive('df-3d78bbb1-e7ba-427f-8ddf-d53a63496c6c')\"\n",
              "              title=\"Convert this dataframe to an interactive table.\"\n",
              "              style=\"display:none;\">\n",
              "        \n",
              "  <svg xmlns=\"http://www.w3.org/2000/svg\" height=\"24px\"viewBox=\"0 0 24 24\"\n",
              "       width=\"24px\">\n",
              "    <path d=\"M0 0h24v24H0V0z\" fill=\"none\"/>\n",
              "    <path d=\"M18.56 5.44l.94 2.06.94-2.06 2.06-.94-2.06-.94-.94-2.06-.94 2.06-2.06.94zm-11 1L8.5 8.5l.94-2.06 2.06-.94-2.06-.94L8.5 2.5l-.94 2.06-2.06.94zm10 10l.94 2.06.94-2.06 2.06-.94-2.06-.94-.94-2.06-.94 2.06-2.06.94z\"/><path d=\"M17.41 7.96l-1.37-1.37c-.4-.4-.92-.59-1.43-.59-.52 0-1.04.2-1.43.59L10.3 9.45l-7.72 7.72c-.78.78-.78 2.05 0 2.83L4 21.41c.39.39.9.59 1.41.59.51 0 1.02-.2 1.41-.59l7.78-7.78 2.81-2.81c.8-.78.8-2.07 0-2.86zM5.41 20L4 18.59l7.72-7.72 1.47 1.35L5.41 20z\"/>\n",
              "  </svg>\n",
              "      </button>\n",
              "      \n",
              "  <style>\n",
              "    .colab-df-container {\n",
              "      display:flex;\n",
              "      flex-wrap:wrap;\n",
              "      gap: 12px;\n",
              "    }\n",
              "\n",
              "    .colab-df-convert {\n",
              "      background-color: #E8F0FE;\n",
              "      border: none;\n",
              "      border-radius: 50%;\n",
              "      cursor: pointer;\n",
              "      display: none;\n",
              "      fill: #1967D2;\n",
              "      height: 32px;\n",
              "      padding: 0 0 0 0;\n",
              "      width: 32px;\n",
              "    }\n",
              "\n",
              "    .colab-df-convert:hover {\n",
              "      background-color: #E2EBFA;\n",
              "      box-shadow: 0px 1px 2px rgba(60, 64, 67, 0.3), 0px 1px 3px 1px rgba(60, 64, 67, 0.15);\n",
              "      fill: #174EA6;\n",
              "    }\n",
              "\n",
              "    [theme=dark] .colab-df-convert {\n",
              "      background-color: #3B4455;\n",
              "      fill: #D2E3FC;\n",
              "    }\n",
              "\n",
              "    [theme=dark] .colab-df-convert:hover {\n",
              "      background-color: #434B5C;\n",
              "      box-shadow: 0px 1px 3px 1px rgba(0, 0, 0, 0.15);\n",
              "      filter: drop-shadow(0px 1px 2px rgba(0, 0, 0, 0.3));\n",
              "      fill: #FFFFFF;\n",
              "    }\n",
              "  </style>\n",
              "\n",
              "      <script>\n",
              "        const buttonEl =\n",
              "          document.querySelector('#df-3d78bbb1-e7ba-427f-8ddf-d53a63496c6c button.colab-df-convert');\n",
              "        buttonEl.style.display =\n",
              "          google.colab.kernel.accessAllowed ? 'block' : 'none';\n",
              "\n",
              "        async function convertToInteractive(key) {\n",
              "          const element = document.querySelector('#df-3d78bbb1-e7ba-427f-8ddf-d53a63496c6c');\n",
              "          const dataTable =\n",
              "            await google.colab.kernel.invokeFunction('convertToInteractive',\n",
              "                                                     [key], {});\n",
              "          if (!dataTable) return;\n",
              "\n",
              "          const docLinkHtml = 'Like what you see? Visit the ' +\n",
              "            '<a target=\"_blank\" href=https://colab.research.google.com/notebooks/data_table.ipynb>data table notebook</a>'\n",
              "            + ' to learn more about interactive tables.';\n",
              "          element.innerHTML = '';\n",
              "          dataTable['output_type'] = 'display_data';\n",
              "          await google.colab.output.renderOutput(dataTable, element);\n",
              "          const docLink = document.createElement('div');\n",
              "          docLink.innerHTML = docLinkHtml;\n",
              "          element.appendChild(docLink);\n",
              "        }\n",
              "      </script>\n",
              "    </div>\n",
              "  </div>\n",
              "  "
            ]
          },
          "metadata": {},
          "execution_count": 23
        }
      ],
      "source": [
        "stopAll"
      ]
    },
    {
      "cell_type": "markdown",
      "metadata": {
        "id": "6a93b376"
      },
      "source": [
        "Now, we want to see what the distribution of race demographics is like in our dataset"
      ]
    },
    {
      "cell_type": "code",
      "execution_count": null,
      "metadata": {
        "id": "66237a2a",
        "outputId": "4dd2b48d-dda0-4b65-ca42-7bc3e477e6ff",
        "colab": {
          "base_uri": "https://localhost:8080/"
        }
      },
      "outputs": [
        {
          "output_type": "execute_result",
          "data": {
            "text/plain": [
              "White              0.423462\n",
              "Hispanic           0.305272\n",
              "Black              0.111381\n",
              "Asian              0.078705\n",
              "Other              0.076129\n",
              "Native American    0.004908\n",
              "Hawaiian           0.000143\n",
              "Name: Race_Category, dtype: float64"
            ]
          },
          "metadata": {},
          "execution_count": 24
        }
      ],
      "source": [
        "dist = stopAll['Race_Category'].value_counts(normalize = True)\n",
        "dist"
      ]
    },
    {
      "cell_type": "code",
      "execution_count": null,
      "metadata": {
        "id": "7fb103de",
        "outputId": "1a2fa799-4ad0-419a-c7ad-7b8c2f0ad8d1",
        "colab": {
          "base_uri": "https://localhost:8080/",
          "height": 284
        }
      },
      "outputs": [
        {
          "output_type": "display_data",
          "data": {
            "text/plain": [
              "<Figure size 432x288 with 1 Axes>"
            ],
            "image/png": "[encoded data removed]"
          },
          "metadata": {}
        }
      ],
      "source": [
        "#Visualize the distribution\n",
        "sns.set_theme(style=\"whitegrid\")\n",
        "title = \"Racial Distribution in Police Stops Data\"\n",
        "sns.barplot(x = dist.values, y = dist.index, palette=\"Blues_d\").set(title=title);"
      ]
    },
    {
      "cell_type": "markdown",
      "source": [
        "How does this compare to the population demographic profiles at San Diego County?"
      ],
      "metadata": {
        "id": "LspqmR6tQm0F"
      }
    },
    {
      "cell_type": "markdown",
      "source": [
        "## Dataset 2 - Population Demographics"
      ],
      "metadata": {
        "id": "Bmtx7C-KXZgS"
      }
    },
    {
      "cell_type": "markdown",
      "source": [
        "Drop columns that aren't needed for our analysis."
      ],
      "metadata": {
        "id": "3iI77OA1Ps4h"
      }
    },
    {
      "cell_type": "code",
      "source": [
        "demoAll = demoAll.drop(['Unnamed: 40', 'Unnamed: 41'], axis = 'columns')"
      ],
      "metadata": {
        "id": "KjXzrvjuPsYx"
      },
      "execution_count": null,
      "outputs": []
    },
    {
      "cell_type": "markdown",
      "source": [
        "#### Check Data Types\n",
        "- All observations (except for 'Geography') are population estimates, so they need to be converted to ints\n",
        "- 'HispanicLatino_Pct', 'PovertyRate_Est', and 'PovertyRate_EstErr' are already ints"
      ],
      "metadata": {
        "id": "Zd6Bq4dmj0Rf"
      }
    },
    {
      "cell_type": "code",
      "source": [
        "demoAll.dtypes"
      ],
      "metadata": {
        "colab": {
          "base_uri": "https://localhost:8080/"
        },
        "id": "E80-36yAB8zm",
        "outputId": "7836b37f-2959-40a5-8a31-1ad3346cfd68"
      },
      "execution_count": null,
      "outputs": [
        {
          "output_type": "execute_result",
          "data": {
            "text/plain": [
              "Geography                       object\n",
              "Year                            object\n",
              "Total_Est                       object\n",
              "Total_EstErr                    object\n",
              "HispanicLatino_Est              object\n",
              "HispanicLatino_EstErr           object\n",
              "HispanicLatino_Pct               int64\n",
              "HispanicLatino_PctErr           object\n",
              "WhiteAlone_Est                  object\n",
              "WhiteAlone_EstErr               object\n",
              "WhiteAlone_Pct                  object\n",
              "WhiteAlone_PctErr               object\n",
              "BlackAlone_Est                  object\n",
              "BlackAlone_EstErr               object\n",
              "BlackAlone_Pct                  object\n",
              "BlackAlone_PctErr               object\n",
              "IndianAlaskaAlone_Est           object\n",
              "IndianAlaskaAlone_EstErr        object\n",
              "IndianAlaskaAlone_Pct           object\n",
              "IndianAlaskaAlone_PctErr        object\n",
              "AsianAlone_Est                  object\n",
              "AsianAlone_EstErr               object\n",
              "AsianAlone_Pct                  object\n",
              "AsianAlone_PctErr               object\n",
              "HawaiianPacificAlone_Est        object\n",
              "HawaiianPacific_EstErr          object\n",
              "HawaiianPacific_Pct             object\n",
              "HawaiianPacific_PctErr          object\n",
              "MedianHouseholdIncome_Est       object\n",
              "MedianHouseholdIncome_EstErr    object\n",
              "MeanHouseholdIncome_Est         object\n",
              "MeanHouseholdIncome_EstErr      object\n",
              "MedianFamilyIncome_Est          object\n",
              "MedianFamilyIncome_EstErr       object\n",
              "MeanFamilyIncome_Est            object\n",
              "MeanFamilyIncome_EstErr         object\n",
              "PercapitaIncome_Est             object\n",
              "PercapitaIncome_EstErr          object\n",
              "PovertyRate_Est                  int64\n",
              "PovertyRate_EstErr               int64\n",
              "dtype: object"
            ]
          },
          "metadata": {},
          "execution_count": 27
        }
      ]
    },
    {
      "cell_type": "markdown",
      "source": [
        "In order to convert the values to ints, we need to strip any leading or trailing spaces and remove the commas."
      ],
      "metadata": {
        "id": "3jT5C0ZyCEVw"
      }
    },
    {
      "cell_type": "code",
      "source": [
        "columns = demoAll.columns.drop(['Geography', 'HispanicLatino_Pct', 'PovertyRate_Est', 'PovertyRate_EstErr'])\n",
        "demoAll[columns] = demoAll[columns].apply(lambda x: x.str.strip())\n",
        "demoAll[columns] = demoAll[columns].apply(lambda x: x.str.replace(',', ''))\n",
        "demoAll[columns] = demoAll[columns].apply(pd.to_numeric, errors='coerce')\n",
        "\n",
        "demoAll.head()"
      ],
      "metadata": {
        "id": "y0F-JIZvFFnU",
        "colab": {
          "base_uri": "https://localhost:8080/",
          "height": 386
        },
        "outputId": "1a88072b-c668-4cee-82ff-d9e618b5d589"
      },
      "execution_count": null,
      "outputs": [
        {
          "output_type": "execute_result",
          "data": {
            "text/plain": [
              "          Geography  Year  Total_Est  Total_EstErr  HispanicLatino_Est  \\\n",
              "0  San Diego County  2014    3263431           NaN             1083028   \n",
              "1     Carlsbad city  2014     112310          52.0               18178   \n",
              "2  Chula Vista city  2014     260977          51.0              149617   \n",
              "3     El Cajon city  2014     103075          66.0               32509   \n",
              "4    Escondido city  2014     150252          47.0               78459   \n",
              "\n",
              "   HispanicLatino_EstErr  HispanicLatino_Pct  HispanicLatino_PctErr  \\\n",
              "0                    NaN                  33                    NaN   \n",
              "1                 4300.0                  16                    4.0   \n",
              "2                 8871.0                  57                    3.0   \n",
              "3                 4557.0                  32                    4.0   \n",
              "4                 6216.0                  52                    4.0   \n",
              "\n",
              "   WhiteAlone_Est  WhiteAlone_EstErr  ...  MeanHouseholdIncome_Est  \\\n",
              "0       1520451.0              825.0  ...                    89137   \n",
              "1             NaN                NaN  ...                   126692   \n",
              "2         53128.0             5215.0  ...                    80644   \n",
              "3         52234.0             4693.0  ...                    63069   \n",
              "4         53574.0             5201.0  ...                    69212   \n",
              "\n",
              "   MeanHouseholdIncome_EstErr  MedianFamilyIncome_Est  \\\n",
              "0                        1431                   76876   \n",
              "1                        8984                  121560   \n",
              "2                        4067                   76338   \n",
              "3                        5391                   46826   \n",
              "4                        4444                   56999   \n",
              "\n",
              "   MedianFamilyIncome_EstErr  MeanFamilyIncome_Est  MeanFamilyIncome_EstErr  \\\n",
              "0                       1259                 99383                     1668   \n",
              "1                      10351                145920                    10622   \n",
              "2                       6017                 89498                     4973   \n",
              "3                       7576                 64838                     6614   \n",
              "4                       4691                 74639                     4408   \n",
              "\n",
              "   PercapitaIncome_Est  PercapitaIncome_EstErr  PovertyRate_Est  \\\n",
              "0                31770                     500               15   \n",
              "1                49589                    3568                5   \n",
              "2                25336                    1079               13   \n",
              "3                20827                    1835               23   \n",
              "4                22246                    1391               22   \n",
              "\n",
              "   PovertyRate_EstErr  \n",
              "0                   1  \n",
              "1                   1  \n",
              "2                   2  \n",
              "3                   4  \n",
              "4                   3  \n",
              "\n",
              "[5 rows x 40 columns]"
            ],
            "text/html": [
              "\n",
              "  <div id=\"df-e1584648-abea-467f-a385-e728195375ef\">\n",
              "    <div class=\"colab-df-container\">\n",
              "      <div>\n",
              "<style scoped>\n",
              "    .dataframe tbody tr th:only-of-type {\n",
              "        vertical-align: middle;\n",
              "    }\n",
              "\n",
              "    .dataframe tbody tr th {\n",
              "        vertical-align: top;\n",
              "    }\n",
              "\n",
              "    .dataframe thead th {\n",
              "        text-align: right;\n",
              "    }\n",
              "</style>\n",
              "<table border=\"1\" class=\"dataframe\">\n",
              "  <thead>\n",
              "    <tr style=\"text-align: right;\">\n",
              "      <th></th>\n",
              "      <th>Geography</th>\n",
              "      <th>Year</th>\n",
              "      <th>Total_Est</th>\n",
              "      <th>Total_EstErr</th>\n",
              "      <th>HispanicLatino_Est</th>\n",
              "      <th>HispanicLatino_EstErr</th>\n",
              "      <th>HispanicLatino_Pct</th>\n",
              "      <th>HispanicLatino_PctErr</th>\n",
              "      <th>WhiteAlone_Est</th>\n",
              "      <th>WhiteAlone_EstErr</th>\n",
              "      <th>...</th>\n",
              "      <th>MeanHouseholdIncome_Est</th>\n",
              "      <th>MeanHouseholdIncome_EstErr</th>\n",
              "      <th>MedianFamilyIncome_Est</th>\n",
              "      <th>MedianFamilyIncome_EstErr</th>\n",
              "      <th>MeanFamilyIncome_Est</th>\n",
              "      <th>MeanFamilyIncome_EstErr</th>\n",
              "      <th>PercapitaIncome_Est</th>\n",
              "      <th>PercapitaIncome_EstErr</th>\n",
              "      <th>PovertyRate_Est</th>\n",
              "      <th>PovertyRate_EstErr</th>\n",
              "    </tr>\n",
              "  </thead>\n",
              "  <tbody>\n",
              "    <tr>\n",
              "      <th>0</th>\n",
              "      <td>San Diego County</td>\n",
              "      <td>2014</td>\n",
              "      <td>3263431</td>\n",
              "      <td>NaN</td>\n",
              "      <td>1083028</td>\n",
              "      <td>NaN</td>\n",
              "      <td>33</td>\n",
              "      <td>NaN</td>\n",
              "      <td>1520451.0</td>\n",
              "      <td>825.0</td>\n",
              "      <td>...</td>\n",
              "      <td>89137</td>\n",
              "      <td>1431</td>\n",
              "      <td>76876</td>\n",
              "      <td>1259</td>\n",
              "      <td>99383</td>\n",
              "      <td>1668</td>\n",
              "      <td>31770</td>\n",
              "      <td>500</td>\n",
              "      <td>15</td>\n",
              "      <td>1</td>\n",
              "    </tr>\n",
              "    <tr>\n",
              "      <th>1</th>\n",
              "      <td>Carlsbad city</td>\n",
              "      <td>2014</td>\n",
              "      <td>112310</td>\n",
              "      <td>52.0</td>\n",
              "      <td>18178</td>\n",
              "      <td>4300.0</td>\n",
              "      <td>16</td>\n",
              "      <td>4.0</td>\n",
              "      <td>NaN</td>\n",
              "      <td>NaN</td>\n",
              "      <td>...</td>\n",
              "      <td>126692</td>\n",
              "      <td>8984</td>\n",
              "      <td>121560</td>\n",
              "      <td>10351</td>\n",
              "      <td>145920</td>\n",
              "      <td>10622</td>\n",
              "      <td>49589</td>\n",
              "      <td>3568</td>\n",
              "      <td>5</td>\n",
              "      <td>1</td>\n",
              "    </tr>\n",
              "    <tr>\n",
              "      <th>2</th>\n",
              "      <td>Chula Vista city</td>\n",
              "      <td>2014</td>\n",
              "      <td>260977</td>\n",
              "      <td>51.0</td>\n",
              "      <td>149617</td>\n",
              "      <td>8871.0</td>\n",
              "      <td>57</td>\n",
              "      <td>3.0</td>\n",
              "      <td>53128.0</td>\n",
              "      <td>5215.0</td>\n",
              "      <td>...</td>\n",
              "      <td>80644</td>\n",
              "      <td>4067</td>\n",
              "      <td>76338</td>\n",
              "      <td>6017</td>\n",
              "      <td>89498</td>\n",
              "      <td>4973</td>\n",
              "      <td>25336</td>\n",
              "      <td>1079</td>\n",
              "      <td>13</td>\n",
              "      <td>2</td>\n",
              "    </tr>\n",
              "    <tr>\n",
              "      <th>3</th>\n",
              "      <td>El Cajon city</td>\n",
              "      <td>2014</td>\n",
              "      <td>103075</td>\n",
              "      <td>66.0</td>\n",
              "      <td>32509</td>\n",
              "      <td>4557.0</td>\n",
              "      <td>32</td>\n",
              "      <td>4.0</td>\n",
              "      <td>52234.0</td>\n",
              "      <td>4693.0</td>\n",
              "      <td>...</td>\n",
              "      <td>63069</td>\n",
              "      <td>5391</td>\n",
              "      <td>46826</td>\n",
              "      <td>7576</td>\n",
              "      <td>64838</td>\n",
              "      <td>6614</td>\n",
              "      <td>20827</td>\n",
              "      <td>1835</td>\n",
              "      <td>23</td>\n",
              "      <td>4</td>\n",
              "    </tr>\n",
              "    <tr>\n",
              "      <th>4</th>\n",
              "      <td>Escondido city</td>\n",
              "      <td>2014</td>\n",
              "      <td>150252</td>\n",
              "      <td>47.0</td>\n",
              "      <td>78459</td>\n",
              "      <td>6216.0</td>\n",
              "      <td>52</td>\n",
              "      <td>4.0</td>\n",
              "      <td>53574.0</td>\n",
              "      <td>5201.0</td>\n",
              "      <td>...</td>\n",
              "      <td>69212</td>\n",
              "      <td>4444</td>\n",
              "      <td>56999</td>\n",
              "      <td>4691</td>\n",
              "      <td>74639</td>\n",
              "      <td>4408</td>\n",
              "      <td>22246</td>\n",
              "      <td>1391</td>\n",
              "      <td>22</td>\n",
              "      <td>3</td>\n",
              "    </tr>\n",
              "  </tbody>\n",
              "</table>\n",
              "<p>5 rows × 40 columns</p>\n",
              "</div>\n",
              "      <button class=\"colab-df-convert\" onclick=\"convertToInteractive('df-e1584648-abea-467f-a385-e728195375ef')\"\n",
              "              title=\"Convert this dataframe to an interactive table.\"\n",
              "              style=\"display:none;\">\n",
              "        \n",
              "  <svg xmlns=\"http://www.w3.org/2000/svg\" height=\"24px\"viewBox=\"0 0 24 24\"\n",
              "       width=\"24px\">\n",
              "    <path d=\"M0 0h24v24H0V0z\" fill=\"none\"/>\n",
              "    <path d=\"M18.56 5.44l.94 2.06.94-2.06 2.06-.94-2.06-.94-.94-2.06-.94 2.06-2.06.94zm-11 1L8.5 8.5l.94-2.06 2.06-.94-2.06-.94L8.5 2.5l-.94 2.06-2.06.94zm10 10l.94 2.06.94-2.06 2.06-.94-2.06-.94-.94-2.06-.94 2.06-2.06.94z\"/><path d=\"M17.41 7.96l-1.37-1.37c-.4-.4-.92-.59-1.43-.59-.52 0-1.04.2-1.43.59L10.3 9.45l-7.72 7.72c-.78.78-.78 2.05 0 2.83L4 21.41c.39.39.9.59 1.41.59.51 0 1.02-.2 1.41-.59l7.78-7.78 2.81-2.81c.8-.78.8-2.07 0-2.86zM5.41 20L4 18.59l7.72-7.72 1.47 1.35L5.41 20z\"/>\n",
              "  </svg>\n",
              "      </button>\n",
              "      \n",
              "  <style>\n",
              "    .colab-df-container {\n",
              "      display:flex;\n",
              "      flex-wrap:wrap;\n",
              "      gap: 12px;\n",
              "    }\n",
              "\n",
              "    .colab-df-convert {\n",
              "      background-color: #E8F0FE;\n",
              "      border: none;\n",
              "      border-radius: 50%;\n",
              "      cursor: pointer;\n",
              "      display: none;\n",
              "      fill: #1967D2;\n",
              "      height: 32px;\n",
              "      padding: 0 0 0 0;\n",
              "      width: 32px;\n",
              "    }\n",
              "\n",
              "    .colab-df-convert:hover {\n",
              "      background-color: #E2EBFA;\n",
              "      box-shadow: 0px 1px 2px rgba(60, 64, 67, 0.3), 0px 1px 3px 1px rgba(60, 64, 67, 0.15);\n",
              "      fill: #174EA6;\n",
              "    }\n",
              "\n",
              "    [theme=dark] .colab-df-convert {\n",
              "      background-color: #3B4455;\n",
              "      fill: #D2E3FC;\n",
              "    }\n",
              "\n",
              "    [theme=dark] .colab-df-convert:hover {\n",
              "      background-color: #434B5C;\n",
              "      box-shadow: 0px 1px 3px 1px rgba(0, 0, 0, 0.15);\n",
              "      filter: drop-shadow(0px 1px 2px rgba(0, 0, 0, 0.3));\n",
              "      fill: #FFFFFF;\n",
              "    }\n",
              "  </style>\n",
              "\n",
              "      <script>\n",
              "        const buttonEl =\n",
              "          document.querySelector('#df-e1584648-abea-467f-a385-e728195375ef button.colab-df-convert');\n",
              "        buttonEl.style.display =\n",
              "          google.colab.kernel.accessAllowed ? 'block' : 'none';\n",
              "\n",
              "        async function convertToInteractive(key) {\n",
              "          const element = document.querySelector('#df-e1584648-abea-467f-a385-e728195375ef');\n",
              "          const dataTable =\n",
              "            await google.colab.kernel.invokeFunction('convertToInteractive',\n",
              "                                                     [key], {});\n",
              "          if (!dataTable) return;\n",
              "\n",
              "          const docLinkHtml = 'Like what you see? Visit the ' +\n",
              "            '<a target=\"_blank\" href=https://colab.research.google.com/notebooks/data_table.ipynb>data table notebook</a>'\n",
              "            + ' to learn more about interactive tables.';\n",
              "          element.innerHTML = '';\n",
              "          dataTable['output_type'] = 'display_data';\n",
              "          await google.colab.output.renderOutput(dataTable, element);\n",
              "          const docLink = document.createElement('div');\n",
              "          docLink.innerHTML = docLinkHtml;\n",
              "          element.appendChild(docLink);\n",
              "        }\n",
              "      </script>\n",
              "    </div>\n",
              "  </div>\n",
              "  "
            ]
          },
          "metadata": {},
          "execution_count": 28
        }
      ]
    },
    {
      "cell_type": "markdown",
      "source": [
        "### Missing Values? "
      ],
      "metadata": {
        "id": "V0ngst8akAYu"
      }
    },
    {
      "cell_type": "markdown",
      "source": [
        "- Determine if there are any NaN values and the implications it may have on our analysis"
      ],
      "metadata": {
        "id": "Jk_3t9XXCZ9J"
      }
    },
    {
      "cell_type": "code",
      "source": [
        "demoAll.isna().any()"
      ],
      "metadata": {
        "id": "Dafzx2t6j_co",
        "colab": {
          "base_uri": "https://localhost:8080/"
        },
        "outputId": "0b115fbe-5c9c-4187-e252-3f5b3bd6e4c1"
      },
      "execution_count": null,
      "outputs": [
        {
          "output_type": "execute_result",
          "data": {
            "text/plain": [
              "Geography                       False\n",
              "Year                            False\n",
              "Total_Est                       False\n",
              "Total_EstErr                     True\n",
              "HispanicLatino_Est              False\n",
              "HispanicLatino_EstErr            True\n",
              "HispanicLatino_Pct              False\n",
              "HispanicLatino_PctErr            True\n",
              "WhiteAlone_Est                   True\n",
              "WhiteAlone_EstErr                True\n",
              "WhiteAlone_Pct                   True\n",
              "WhiteAlone_PctErr                True\n",
              "BlackAlone_Est                   True\n",
              "BlackAlone_EstErr                True\n",
              "BlackAlone_Pct                   True\n",
              "BlackAlone_PctErr                True\n",
              "IndianAlaskaAlone_Est            True\n",
              "IndianAlaskaAlone_EstErr         True\n",
              "IndianAlaskaAlone_Pct            True\n",
              "IndianAlaskaAlone_PctErr         True\n",
              "AsianAlone_Est                   True\n",
              "AsianAlone_EstErr                True\n",
              "AsianAlone_Pct                   True\n",
              "AsianAlone_PctErr                True\n",
              "HawaiianPacificAlone_Est         True\n",
              "HawaiianPacific_EstErr           True\n",
              "HawaiianPacific_Pct              True\n",
              "HawaiianPacific_PctErr           True\n",
              "MedianHouseholdIncome_Est       False\n",
              "MedianHouseholdIncome_EstErr    False\n",
              "MeanHouseholdIncome_Est         False\n",
              "MeanHouseholdIncome_EstErr      False\n",
              "MedianFamilyIncome_Est          False\n",
              "MedianFamilyIncome_EstErr       False\n",
              "MeanFamilyIncome_Est            False\n",
              "MeanFamilyIncome_EstErr         False\n",
              "PercapitaIncome_Est             False\n",
              "PercapitaIncome_EstErr          False\n",
              "PovertyRate_Est                 False\n",
              "PovertyRate_EstErr              False\n",
              "dtype: bool"
            ]
          },
          "metadata": {},
          "execution_count": 29
        }
      ]
    },
    {
      "cell_type": "markdown",
      "source": [
        "Even though there are NaN values in the dataset, we won't remove any rows (cities) or columns (demographic) since all the values will be useful in our analysis. As such, our analysis will be limited to the demographics that have information available for that year, so we need to consider how it may affect our interpretation of results."
      ],
      "metadata": {
        "id": "nWn-JRr_Cdvq"
      }
    },
    {
      "cell_type": "markdown",
      "source": [
        "# Analysis"
      ],
      "metadata": {
        "id": "4KUf0l7tcLfS"
      }
    },
    {
      "cell_type": "markdown",
      "source": [
        "## Exploratory Data Analysis (EDA)"
      ],
      "metadata": {
        "id": "Pc0pQsrEHbYM"
      }
    },
    {
      "cell_type": "markdown",
      "source": [
        "EDA was carried out with explanations of what our investigations resulted in, including:\n",
        "\n",
        "*   Bar plots to visualize distribution of data\n",
        "*   Line plots to determine trends in police vehicle stops over time broken down by race\n",
        "*   Bar plots to observe and compare trends with regards to gender and age to race\n",
        "\n",
        "\n",
        "\n",
        "\n"
      ],
      "metadata": {
        "id": "E0FCPr0kWz7N"
      }
    },
    {
      "cell_type": "markdown",
      "source": [
        "Datasets:\n",
        "- Police stop data: `stopAll`\n",
        "- Demographics data: `demoAll`\n",
        "\n",
        "Let's visualize them again to refresh our memories"
      ],
      "metadata": {
        "id": "JXVKl8X6jnWF"
      }
    },
    {
      "cell_type": "code",
      "source": [
        "stopAll.head()"
      ],
      "metadata": {
        "colab": {
          "base_uri": "https://localhost:8080/",
          "height": 357
        },
        "id": "Ag2MuMK2j0-d",
        "outputId": "eb0ff3f9-9a9b-438d-d555-7a5865b473e9"
      },
      "execution_count": null,
      "outputs": [
        {
          "output_type": "execute_result",
          "data": {
            "text/plain": [
              "   stop_id           stop_cause service_area race sex   age  date_stop  \\\n",
              "0  1044975     Moving Violation          110    W   M  24.0 2014-01-01   \n",
              "1  1044976     Moving Violation          320    W   M  42.0 2014-01-01   \n",
              "2  1044977     Moving Violation          320    L   M  29.0 2014-01-01   \n",
              "3  1044978     Moving Violation          610    W   M  23.0 2014-01-01   \n",
              "4  1044980  Equipment Violation          930    H   M  35.0 2014-01-01   \n",
              "\n",
              "            date_time arrested searched race_code Description Race_Category  \n",
              "0 2014-01-01 01:25:00        N        N         W       WHITE         White  \n",
              "1 2014-01-01 05:47:00        N        N         W       WHITE         White  \n",
              "2 2014-01-01 07:46:00        N        N         L     LAOTIAN         Asian  \n",
              "3 2014-01-01 08:10:00        N        N         W       WHITE         White  \n",
              "4 2014-01-01 08:35:00        N        N         H    HISPANIC      Hispanic  "
            ],
            "text/html": [
              "\n",
              "  <div id=\"df-014d7528-b3ab-4a83-9949-a8c4537842ae\">\n",
              "    <div class=\"colab-df-container\">\n",
              "      <div>\n",
              "<style scoped>\n",
              "    .dataframe tbody tr th:only-of-type {\n",
              "        vertical-align: middle;\n",
              "    }\n",
              "\n",
              "    .dataframe tbody tr th {\n",
              "        vertical-align: top;\n",
              "    }\n",
              "\n",
              "    .dataframe thead th {\n",
              "        text-align: right;\n",
              "    }\n",
              "</style>\n",
              "<table border=\"1\" class=\"dataframe\">\n",
              "  <thead>\n",
              "    <tr style=\"text-align: right;\">\n",
              "      <th></th>\n",
              "      <th>stop_id</th>\n",
              "      <th>stop_cause</th>\n",
              "      <th>service_area</th>\n",
              "      <th>race</th>\n",
              "      <th>sex</th>\n",
              "      <th>age</th>\n",
              "      <th>date_stop</th>\n",
              "      <th>date_time</th>\n",
              "      <th>arrested</th>\n",
              "      <th>searched</th>\n",
              "      <th>race_code</th>\n",
              "      <th>Description</th>\n",
              "      <th>Race_Category</th>\n",
              "    </tr>\n",
              "  </thead>\n",
              "  <tbody>\n",
              "    <tr>\n",
              "      <th>0</th>\n",
              "      <td>1044975</td>\n",
              "      <td>Moving Violation</td>\n",
              "      <td>110</td>\n",
              "      <td>W</td>\n",
              "      <td>M</td>\n",
              "      <td>24.0</td>\n",
              "      <td>2014-01-01</td>\n",
              "      <td>2014-01-01 01:25:00</td>\n",
              "      <td>N</td>\n",
              "      <td>N</td>\n",
              "      <td>W</td>\n",
              "      <td>WHITE</td>\n",
              "      <td>White</td>\n",
              "    </tr>\n",
              "    <tr>\n",
              "      <th>1</th>\n",
              "      <td>1044976</td>\n",
              "      <td>Moving Violation</td>\n",
              "      <td>320</td>\n",
              "      <td>W</td>\n",
              "      <td>M</td>\n",
              "      <td>42.0</td>\n",
              "      <td>2014-01-01</td>\n",
              "      <td>2014-01-01 05:47:00</td>\n",
              "      <td>N</td>\n",
              "      <td>N</td>\n",
              "      <td>W</td>\n",
              "      <td>WHITE</td>\n",
              "      <td>White</td>\n",
              "    </tr>\n",
              "    <tr>\n",
              "      <th>2</th>\n",
              "      <td>1044977</td>\n",
              "      <td>Moving Violation</td>\n",
              "      <td>320</td>\n",
              "      <td>L</td>\n",
              "      <td>M</td>\n",
              "      <td>29.0</td>\n",
              "      <td>2014-01-01</td>\n",
              "      <td>2014-01-01 07:46:00</td>\n",
              "      <td>N</td>\n",
              "      <td>N</td>\n",
              "      <td>L</td>\n",
              "      <td>LAOTIAN</td>\n",
              "      <td>Asian</td>\n",
              "    </tr>\n",
              "    <tr>\n",
              "      <th>3</th>\n",
              "      <td>1044978</td>\n",
              "      <td>Moving Violation</td>\n",
              "      <td>610</td>\n",
              "      <td>W</td>\n",
              "      <td>M</td>\n",
              "      <td>23.0</td>\n",
              "      <td>2014-01-01</td>\n",
              "      <td>2014-01-01 08:10:00</td>\n",
              "      <td>N</td>\n",
              "      <td>N</td>\n",
              "      <td>W</td>\n",
              "      <td>WHITE</td>\n",
              "      <td>White</td>\n",
              "    </tr>\n",
              "    <tr>\n",
              "      <th>4</th>\n",
              "      <td>1044980</td>\n",
              "      <td>Equipment Violation</td>\n",
              "      <td>930</td>\n",
              "      <td>H</td>\n",
              "      <td>M</td>\n",
              "      <td>35.0</td>\n",
              "      <td>2014-01-01</td>\n",
              "      <td>2014-01-01 08:35:00</td>\n",
              "      <td>N</td>\n",
              "      <td>N</td>\n",
              "      <td>H</td>\n",
              "      <td>HISPANIC</td>\n",
              "      <td>Hispanic</td>\n",
              "    </tr>\n",
              "  </tbody>\n",
              "</table>\n",
              "</div>\n",
              "      <button class=\"colab-df-convert\" onclick=\"convertToInteractive('df-014d7528-b3ab-4a83-9949-a8c4537842ae')\"\n",
              "              title=\"Convert this dataframe to an interactive table.\"\n",
              "              style=\"display:none;\">\n",
              "        \n",
              "  <svg xmlns=\"http://www.w3.org/2000/svg\" height=\"24px\"viewBox=\"0 0 24 24\"\n",
              "       width=\"24px\">\n",
              "    <path d=\"M0 0h24v24H0V0z\" fill=\"none\"/>\n",
              "    <path d=\"M18.56 5.44l.94 2.06.94-2.06 2.06-.94-2.06-.94-.94-2.06-.94 2.06-2.06.94zm-11 1L8.5 8.5l.94-2.06 2.06-.94-2.06-.94L8.5 2.5l-.94 2.06-2.06.94zm10 10l.94 2.06.94-2.06 2.06-.94-2.06-.94-.94-2.06-.94 2.06-2.06.94z\"/><path d=\"M17.41 7.96l-1.37-1.37c-.4-.4-.92-.59-1.43-.59-.52 0-1.04.2-1.43.59L10.3 9.45l-7.72 7.72c-.78.78-.78 2.05 0 2.83L4 21.41c.39.39.9.59 1.41.59.51 0 1.02-.2 1.41-.59l7.78-7.78 2.81-2.81c.8-.78.8-2.07 0-2.86zM5.41 20L4 18.59l7.72-7.72 1.47 1.35L5.41 20z\"/>\n",
              "  </svg>\n",
              "      </button>\n",
              "      \n",
              "  <style>\n",
              "    .colab-df-container {\n",
              "      display:flex;\n",
              "      flex-wrap:wrap;\n",
              "      gap: 12px;\n",
              "    }\n",
              "\n",
              "    .colab-df-convert {\n",
              "      background-color: #E8F0FE;\n",
              "      border: none;\n",
              "      border-radius: 50%;\n",
              "      cursor: pointer;\n",
              "      display: none;\n",
              "      fill: #1967D2;\n",
              "      height: 32px;\n",
              "      padding: 0 0 0 0;\n",
              "      width: 32px;\n",
              "    }\n",
              "\n",
              "    .colab-df-convert:hover {\n",
              "      background-color: #E2EBFA;\n",
              "      box-shadow: 0px 1px 2px rgba(60, 64, 67, 0.3), 0px 1px 3px 1px rgba(60, 64, 67, 0.15);\n",
              "      fill: #174EA6;\n",
              "    }\n",
              "\n",
              "    [theme=dark] .colab-df-convert {\n",
              "      background-color: #3B4455;\n",
              "      fill: #D2E3FC;\n",
              "    }\n",
              "\n",
              "    [theme=dark] .colab-df-convert:hover {\n",
              "      background-color: #434B5C;\n",
              "      box-shadow: 0px 1px 3px 1px rgba(0, 0, 0, 0.15);\n",
              "      filter: drop-shadow(0px 1px 2px rgba(0, 0, 0, 0.3));\n",
              "      fill: #FFFFFF;\n",
              "    }\n",
              "  </style>\n",
              "\n",
              "      <script>\n",
              "        const buttonEl =\n",
              "          document.querySelector('#df-014d7528-b3ab-4a83-9949-a8c4537842ae button.colab-df-convert');\n",
              "        buttonEl.style.display =\n",
              "          google.colab.kernel.accessAllowed ? 'block' : 'none';\n",
              "\n",
              "        async function convertToInteractive(key) {\n",
              "          const element = document.querySelector('#df-014d7528-b3ab-4a83-9949-a8c4537842ae');\n",
              "          const dataTable =\n",
              "            await google.colab.kernel.invokeFunction('convertToInteractive',\n",
              "                                                     [key], {});\n",
              "          if (!dataTable) return;\n",
              "\n",
              "          const docLinkHtml = 'Like what you see? Visit the ' +\n",
              "            '<a target=\"_blank\" href=https://colab.research.google.com/notebooks/data_table.ipynb>data table notebook</a>'\n",
              "            + ' to learn more about interactive tables.';\n",
              "          element.innerHTML = '';\n",
              "          dataTable['output_type'] = 'display_data';\n",
              "          await google.colab.output.renderOutput(dataTable, element);\n",
              "          const docLink = document.createElement('div');\n",
              "          docLink.innerHTML = docLinkHtml;\n",
              "          element.appendChild(docLink);\n",
              "        }\n",
              "      </script>\n",
              "    </div>\n",
              "  </div>\n",
              "  "
            ]
          },
          "metadata": {},
          "execution_count": 30
        }
      ]
    },
    {
      "cell_type": "code",
      "source": [
        "demoAll.head()"
      ],
      "metadata": {
        "colab": {
          "base_uri": "https://localhost:8080/",
          "height": 386
        },
        "id": "5Zq8_pltj8JU",
        "outputId": "fe8bfa52-4b0f-492e-a57a-3bbf8e082a93"
      },
      "execution_count": null,
      "outputs": [
        {
          "output_type": "execute_result",
          "data": {
            "text/plain": [
              "          Geography  Year  Total_Est  Total_EstErr  HispanicLatino_Est  \\\n",
              "0  San Diego County  2014    3263431           NaN             1083028   \n",
              "1     Carlsbad city  2014     112310          52.0               18178   \n",
              "2  Chula Vista city  2014     260977          51.0              149617   \n",
              "3     El Cajon city  2014     103075          66.0               32509   \n",
              "4    Escondido city  2014     150252          47.0               78459   \n",
              "\n",
              "   HispanicLatino_EstErr  HispanicLatino_Pct  HispanicLatino_PctErr  \\\n",
              "0                    NaN                  33                    NaN   \n",
              "1                 4300.0                  16                    4.0   \n",
              "2                 8871.0                  57                    3.0   \n",
              "3                 4557.0                  32                    4.0   \n",
              "4                 6216.0                  52                    4.0   \n",
              "\n",
              "   WhiteAlone_Est  WhiteAlone_EstErr  ...  MeanHouseholdIncome_Est  \\\n",
              "0       1520451.0              825.0  ...                    89137   \n",
              "1             NaN                NaN  ...                   126692   \n",
              "2         53128.0             5215.0  ...                    80644   \n",
              "3         52234.0             4693.0  ...                    63069   \n",
              "4         53574.0             5201.0  ...                    69212   \n",
              "\n",
              "   MeanHouseholdIncome_EstErr  MedianFamilyIncome_Est  \\\n",
              "0                        1431                   76876   \n",
              "1                        8984                  121560   \n",
              "2                        4067                   76338   \n",
              "3                        5391                   46826   \n",
              "4                        4444                   56999   \n",
              "\n",
              "   MedianFamilyIncome_EstErr  MeanFamilyIncome_Est  MeanFamilyIncome_EstErr  \\\n",
              "0                       1259                 99383                     1668   \n",
              "1                      10351                145920                    10622   \n",
              "2                       6017                 89498                     4973   \n",
              "3                       7576                 64838                     6614   \n",
              "4                       4691                 74639                     4408   \n",
              "\n",
              "   PercapitaIncome_Est  PercapitaIncome_EstErr  PovertyRate_Est  \\\n",
              "0                31770                     500               15   \n",
              "1                49589                    3568                5   \n",
              "2                25336                    1079               13   \n",
              "3                20827                    1835               23   \n",
              "4                22246                    1391               22   \n",
              "\n",
              "   PovertyRate_EstErr  \n",
              "0                   1  \n",
              "1                   1  \n",
              "2                   2  \n",
              "3                   4  \n",
              "4                   3  \n",
              "\n",
              "[5 rows x 40 columns]"
            ],
            "text/html": [
              "\n",
              "  <div id=\"df-9afa4b25-e8e1-473c-9689-c48e23231c54\">\n",
              "    <div class=\"colab-df-container\">\n",
              "      <div>\n",
              "<style scoped>\n",
              "    .dataframe tbody tr th:only-of-type {\n",
              "        vertical-align: middle;\n",
              "    }\n",
              "\n",
              "    .dataframe tbody tr th {\n",
              "        vertical-align: top;\n",
              "    }\n",
              "\n",
              "    .dataframe thead th {\n",
              "        text-align: right;\n",
              "    }\n",
              "</style>\n",
              "<table border=\"1\" class=\"dataframe\">\n",
              "  <thead>\n",
              "    <tr style=\"text-align: right;\">\n",
              "      <th></th>\n",
              "      <th>Geography</th>\n",
              "      <th>Year</th>\n",
              "      <th>Total_Est</th>\n",
              "      <th>Total_EstErr</th>\n",
              "      <th>HispanicLatino_Est</th>\n",
              "      <th>HispanicLatino_EstErr</th>\n",
              "      <th>HispanicLatino_Pct</th>\n",
              "      <th>HispanicLatino_PctErr</th>\n",
              "      <th>WhiteAlone_Est</th>\n",
              "      <th>WhiteAlone_EstErr</th>\n",
              "      <th>...</th>\n",
              "      <th>MeanHouseholdIncome_Est</th>\n",
              "      <th>MeanHouseholdIncome_EstErr</th>\n",
              "      <th>MedianFamilyIncome_Est</th>\n",
              "      <th>MedianFamilyIncome_EstErr</th>\n",
              "      <th>MeanFamilyIncome_Est</th>\n",
              "      <th>MeanFamilyIncome_EstErr</th>\n",
              "      <th>PercapitaIncome_Est</th>\n",
              "      <th>PercapitaIncome_EstErr</th>\n",
              "      <th>PovertyRate_Est</th>\n",
              "      <th>PovertyRate_EstErr</th>\n",
              "    </tr>\n",
              "  </thead>\n",
              "  <tbody>\n",
              "    <tr>\n",
              "      <th>0</th>\n",
              "      <td>San Diego County</td>\n",
              "      <td>2014</td>\n",
              "      <td>3263431</td>\n",
              "      <td>NaN</td>\n",
              "      <td>1083028</td>\n",
              "      <td>NaN</td>\n",
              "      <td>33</td>\n",
              "      <td>NaN</td>\n",
              "      <td>1520451.0</td>\n",
              "      <td>825.0</td>\n",
              "      <td>...</td>\n",
              "      <td>89137</td>\n",
              "      <td>1431</td>\n",
              "      <td>76876</td>\n",
              "      <td>1259</td>\n",
              "      <td>99383</td>\n",
              "      <td>1668</td>\n",
              "      <td>31770</td>\n",
              "      <td>500</td>\n",
              "      <td>15</td>\n",
              "      <td>1</td>\n",
              "    </tr>\n",
              "    <tr>\n",
              "      <th>1</th>\n",
              "      <td>Carlsbad city</td>\n",
              "      <td>2014</td>\n",
              "      <td>112310</td>\n",
              "      <td>52.0</td>\n",
              "      <td>18178</td>\n",
              "      <td>4300.0</td>\n",
              "      <td>16</td>\n",
              "      <td>4.0</td>\n",
              "      <td>NaN</td>\n",
              "      <td>NaN</td>\n",
              "      <td>...</td>\n",
              "      <td>126692</td>\n",
              "      <td>8984</td>\n",
              "      <td>121560</td>\n",
              "      <td>10351</td>\n",
              "      <td>145920</td>\n",
              "      <td>10622</td>\n",
              "      <td>49589</td>\n",
              "      <td>3568</td>\n",
              "      <td>5</td>\n",
              "      <td>1</td>\n",
              "    </tr>\n",
              "    <tr>\n",
              "      <th>2</th>\n",
              "      <td>Chula Vista city</td>\n",
              "      <td>2014</td>\n",
              "      <td>260977</td>\n",
              "      <td>51.0</td>\n",
              "      <td>149617</td>\n",
              "      <td>8871.0</td>\n",
              "      <td>57</td>\n",
              "      <td>3.0</td>\n",
              "      <td>53128.0</td>\n",
              "      <td>5215.0</td>\n",
              "      <td>...</td>\n",
              "      <td>80644</td>\n",
              "      <td>4067</td>\n",
              "      <td>76338</td>\n",
              "      <td>6017</td>\n",
              "      <td>89498</td>\n",
              "      <td>4973</td>\n",
              "      <td>25336</td>\n",
              "      <td>1079</td>\n",
              "      <td>13</td>\n",
              "      <td>2</td>\n",
              "    </tr>\n",
              "    <tr>\n",
              "      <th>3</th>\n",
              "      <td>El Cajon city</td>\n",
              "      <td>2014</td>\n",
              "      <td>103075</td>\n",
              "      <td>66.0</td>\n",
              "      <td>32509</td>\n",
              "      <td>4557.0</td>\n",
              "      <td>32</td>\n",
              "      <td>4.0</td>\n",
              "      <td>52234.0</td>\n",
              "      <td>4693.0</td>\n",
              "      <td>...</td>\n",
              "      <td>63069</td>\n",
              "      <td>5391</td>\n",
              "      <td>46826</td>\n",
              "      <td>7576</td>\n",
              "      <td>64838</td>\n",
              "      <td>6614</td>\n",
              "      <td>20827</td>\n",
              "      <td>1835</td>\n",
              "      <td>23</td>\n",
              "      <td>4</td>\n",
              "    </tr>\n",
              "    <tr>\n",
              "      <th>4</th>\n",
              "      <td>Escondido city</td>\n",
              "      <td>2014</td>\n",
              "      <td>150252</td>\n",
              "      <td>47.0</td>\n",
              "      <td>78459</td>\n",
              "      <td>6216.0</td>\n",
              "      <td>52</td>\n",
              "      <td>4.0</td>\n",
              "      <td>53574.0</td>\n",
              "      <td>5201.0</td>\n",
              "      <td>...</td>\n",
              "      <td>69212</td>\n",
              "      <td>4444</td>\n",
              "      <td>56999</td>\n",
              "      <td>4691</td>\n",
              "      <td>74639</td>\n",
              "      <td>4408</td>\n",
              "      <td>22246</td>\n",
              "      <td>1391</td>\n",
              "      <td>22</td>\n",
              "      <td>3</td>\n",
              "    </tr>\n",
              "  </tbody>\n",
              "</table>\n",
              "<p>5 rows × 40 columns</p>\n",
              "</div>\n",
              "      <button class=\"colab-df-convert\" onclick=\"convertToInteractive('df-9afa4b25-e8e1-473c-9689-c48e23231c54')\"\n",
              "              title=\"Convert this dataframe to an interactive table.\"\n",
              "              style=\"display:none;\">\n",
              "        \n",
              "  <svg xmlns=\"http://www.w3.org/2000/svg\" height=\"24px\"viewBox=\"0 0 24 24\"\n",
              "       width=\"24px\">\n",
              "    <path d=\"M0 0h24v24H0V0z\" fill=\"none\"/>\n",
              "    <path d=\"M18.56 5.44l.94 2.06.94-2.06 2.06-.94-2.06-.94-.94-2.06-.94 2.06-2.06.94zm-11 1L8.5 8.5l.94-2.06 2.06-.94-2.06-.94L8.5 2.5l-.94 2.06-2.06.94zm10 10l.94 2.06.94-2.06 2.06-.94-2.06-.94-.94-2.06-.94 2.06-2.06.94z\"/><path d=\"M17.41 7.96l-1.37-1.37c-.4-.4-.92-.59-1.43-.59-.52 0-1.04.2-1.43.59L10.3 9.45l-7.72 7.72c-.78.78-.78 2.05 0 2.83L4 21.41c.39.39.9.59 1.41.59.51 0 1.02-.2 1.41-.59l7.78-7.78 2.81-2.81c.8-.78.8-2.07 0-2.86zM5.41 20L4 18.59l7.72-7.72 1.47 1.35L5.41 20z\"/>\n",
              "  </svg>\n",
              "      </button>\n",
              "      \n",
              "  <style>\n",
              "    .colab-df-container {\n",
              "      display:flex;\n",
              "      flex-wrap:wrap;\n",
              "      gap: 12px;\n",
              "    }\n",
              "\n",
              "    .colab-df-convert {\n",
              "      background-color: #E8F0FE;\n",
              "      border: none;\n",
              "      border-radius: 50%;\n",
              "      cursor: pointer;\n",
              "      display: none;\n",
              "      fill: #1967D2;\n",
              "      height: 32px;\n",
              "      padding: 0 0 0 0;\n",
              "      width: 32px;\n",
              "    }\n",
              "\n",
              "    .colab-df-convert:hover {\n",
              "      background-color: #E2EBFA;\n",
              "      box-shadow: 0px 1px 2px rgba(60, 64, 67, 0.3), 0px 1px 3px 1px rgba(60, 64, 67, 0.15);\n",
              "      fill: #174EA6;\n",
              "    }\n",
              "\n",
              "    [theme=dark] .colab-df-convert {\n",
              "      background-color: #3B4455;\n",
              "      fill: #D2E3FC;\n",
              "    }\n",
              "\n",
              "    [theme=dark] .colab-df-convert:hover {\n",
              "      background-color: #434B5C;\n",
              "      box-shadow: 0px 1px 3px 1px rgba(0, 0, 0, 0.15);\n",
              "      filter: drop-shadow(0px 1px 2px rgba(0, 0, 0, 0.3));\n",
              "      fill: #FFFFFF;\n",
              "    }\n",
              "  </style>\n",
              "\n",
              "      <script>\n",
              "        const buttonEl =\n",
              "          document.querySelector('#df-9afa4b25-e8e1-473c-9689-c48e23231c54 button.colab-df-convert');\n",
              "        buttonEl.style.display =\n",
              "          google.colab.kernel.accessAllowed ? 'block' : 'none';\n",
              "\n",
              "        async function convertToInteractive(key) {\n",
              "          const element = document.querySelector('#df-9afa4b25-e8e1-473c-9689-c48e23231c54');\n",
              "          const dataTable =\n",
              "            await google.colab.kernel.invokeFunction('convertToInteractive',\n",
              "                                                     [key], {});\n",
              "          if (!dataTable) return;\n",
              "\n",
              "          const docLinkHtml = 'Like what you see? Visit the ' +\n",
              "            '<a target=\"_blank\" href=https://colab.research.google.com/notebooks/data_table.ipynb>data table notebook</a>'\n",
              "            + ' to learn more about interactive tables.';\n",
              "          element.innerHTML = '';\n",
              "          dataTable['output_type'] = 'display_data';\n",
              "          await google.colab.output.renderOutput(dataTable, element);\n",
              "          const docLink = document.createElement('div');\n",
              "          docLink.innerHTML = docLinkHtml;\n",
              "          element.appendChild(docLink);\n",
              "        }\n",
              "      </script>\n",
              "    </div>\n",
              "  </div>\n",
              "  "
            ]
          },
          "metadata": {},
          "execution_count": 31
        }
      ]
    },
    {
      "cell_type": "markdown",
      "source": [
        "### Vehicle Stops Summary\n",
        "\n"
      ],
      "metadata": {
        "id": "S--XB7l019oS"
      }
    },
    {
      "cell_type": "markdown",
      "source": [
        "**Numerical Data:** First, we'll take a look at the summary statistics for our data in order to better understand the numerical data we have. \n",
        "\n",
        "This includes `stop_id` and `age`."
      ],
      "metadata": {
        "id": "uDqOSsf1WzR8"
      }
    },
    {
      "cell_type": "code",
      "source": [
        "# @markdown Describe `stopAll`\n",
        "stopAll.describe()"
      ],
      "metadata": {
        "colab": {
          "base_uri": "https://localhost:8080/",
          "height": 300
        },
        "id": "1sgSnfuYky6h",
        "outputId": "421294af-5584-4cb9-89a9-5675c9cd0919"
      },
      "execution_count": null,
      "outputs": [
        {
          "output_type": "execute_result",
          "data": {
            "text/plain": [
              "            stop_id            age\n",
              "count  4.630950e+05  448489.000000\n",
              "mean   1.300272e+06      37.107837\n",
              "std    1.620906e+05      14.780774\n",
              "min    1.927050e+05       0.000000\n",
              "25%    1.162394e+06      25.000000\n",
              "50%    1.282029e+06      34.000000\n",
              "75%    1.431956e+06      47.000000\n",
              "max    1.620206e+06    2005.000000"
            ],
            "text/html": [
              "\n",
              "  <div id=\"df-54a3701e-be99-4d70-b12d-609bf45b8988\">\n",
              "    <div class=\"colab-df-container\">\n",
              "      <div>\n",
              "<style scoped>\n",
              "    .dataframe tbody tr th:only-of-type {\n",
              "        vertical-align: middle;\n",
              "    }\n",
              "\n",
              "    .dataframe tbody tr th {\n",
              "        vertical-align: top;\n",
              "    }\n",
              "\n",
              "    .dataframe thead th {\n",
              "        text-align: right;\n",
              "    }\n",
              "</style>\n",
              "<table border=\"1\" class=\"dataframe\">\n",
              "  <thead>\n",
              "    <tr style=\"text-align: right;\">\n",
              "      <th></th>\n",
              "      <th>stop_id</th>\n",
              "      <th>age</th>\n",
              "    </tr>\n",
              "  </thead>\n",
              "  <tbody>\n",
              "    <tr>\n",
              "      <th>count</th>\n",
              "      <td>4.630950e+05</td>\n",
              "      <td>448489.000000</td>\n",
              "    </tr>\n",
              "    <tr>\n",
              "      <th>mean</th>\n",
              "      <td>1.300272e+06</td>\n",
              "      <td>37.107837</td>\n",
              "    </tr>\n",
              "    <tr>\n",
              "      <th>std</th>\n",
              "      <td>1.620906e+05</td>\n",
              "      <td>14.780774</td>\n",
              "    </tr>\n",
              "    <tr>\n",
              "      <th>min</th>\n",
              "      <td>1.927050e+05</td>\n",
              "      <td>0.000000</td>\n",
              "    </tr>\n",
              "    <tr>\n",
              "      <th>25%</th>\n",
              "      <td>1.162394e+06</td>\n",
              "      <td>25.000000</td>\n",
              "    </tr>\n",
              "    <tr>\n",
              "      <th>50%</th>\n",
              "      <td>1.282029e+06</td>\n",
              "      <td>34.000000</td>\n",
              "    </tr>\n",
              "    <tr>\n",
              "      <th>75%</th>\n",
              "      <td>1.431956e+06</td>\n",
              "      <td>47.000000</td>\n",
              "    </tr>\n",
              "    <tr>\n",
              "      <th>max</th>\n",
              "      <td>1.620206e+06</td>\n",
              "      <td>2005.000000</td>\n",
              "    </tr>\n",
              "  </tbody>\n",
              "</table>\n",
              "</div>\n",
              "      <button class=\"colab-df-convert\" onclick=\"convertToInteractive('df-54a3701e-be99-4d70-b12d-609bf45b8988')\"\n",
              "              title=\"Convert this dataframe to an interactive table.\"\n",
              "              style=\"display:none;\">\n",
              "        \n",
              "  <svg xmlns=\"http://www.w3.org/2000/svg\" height=\"24px\"viewBox=\"0 0 24 24\"\n",
              "       width=\"24px\">\n",
              "    <path d=\"M0 0h24v24H0V0z\" fill=\"none\"/>\n",
              "    <path d=\"M18.56 5.44l.94 2.06.94-2.06 2.06-.94-2.06-.94-.94-2.06-.94 2.06-2.06.94zm-11 1L8.5 8.5l.94-2.06 2.06-.94-2.06-.94L8.5 2.5l-.94 2.06-2.06.94zm10 10l.94 2.06.94-2.06 2.06-.94-2.06-.94-.94-2.06-.94 2.06-2.06.94z\"/><path d=\"M17.41 7.96l-1.37-1.37c-.4-.4-.92-.59-1.43-.59-.52 0-1.04.2-1.43.59L10.3 9.45l-7.72 7.72c-.78.78-.78 2.05 0 2.83L4 21.41c.39.39.9.59 1.41.59.51 0 1.02-.2 1.41-.59l7.78-7.78 2.81-2.81c.8-.78.8-2.07 0-2.86zM5.41 20L4 18.59l7.72-7.72 1.47 1.35L5.41 20z\"/>\n",
              "  </svg>\n",
              "      </button>\n",
              "      \n",
              "  <style>\n",
              "    .colab-df-container {\n",
              "      display:flex;\n",
              "      flex-wrap:wrap;\n",
              "      gap: 12px;\n",
              "    }\n",
              "\n",
              "    .colab-df-convert {\n",
              "      background-color: #E8F0FE;\n",
              "      border: none;\n",
              "      border-radius: 50%;\n",
              "      cursor: pointer;\n",
              "      display: none;\n",
              "      fill: #1967D2;\n",
              "      height: 32px;\n",
              "      padding: 0 0 0 0;\n",
              "      width: 32px;\n",
              "    }\n",
              "\n",
              "    .colab-df-convert:hover {\n",
              "      background-color: #E2EBFA;\n",
              "      box-shadow: 0px 1px 2px rgba(60, 64, 67, 0.3), 0px 1px 3px 1px rgba(60, 64, 67, 0.15);\n",
              "      fill: #174EA6;\n",
              "    }\n",
              "\n",
              "    [theme=dark] .colab-df-convert {\n",
              "      background-color: #3B4455;\n",
              "      fill: #D2E3FC;\n",
              "    }\n",
              "\n",
              "    [theme=dark] .colab-df-convert:hover {\n",
              "      background-color: #434B5C;\n",
              "      box-shadow: 0px 1px 3px 1px rgba(0, 0, 0, 0.15);\n",
              "      filter: drop-shadow(0px 1px 2px rgba(0, 0, 0, 0.3));\n",
              "      fill: #FFFFFF;\n",
              "    }\n",
              "  </style>\n",
              "\n",
              "      <script>\n",
              "        const buttonEl =\n",
              "          document.querySelector('#df-54a3701e-be99-4d70-b12d-609bf45b8988 button.colab-df-convert');\n",
              "        buttonEl.style.display =\n",
              "          google.colab.kernel.accessAllowed ? 'block' : 'none';\n",
              "\n",
              "        async function convertToInteractive(key) {\n",
              "          const element = document.querySelector('#df-54a3701e-be99-4d70-b12d-609bf45b8988');\n",
              "          const dataTable =\n",
              "            await google.colab.kernel.invokeFunction('convertToInteractive',\n",
              "                                                     [key], {});\n",
              "          if (!dataTable) return;\n",
              "\n",
              "          const docLinkHtml = 'Like what you see? Visit the ' +\n",
              "            '<a target=\"_blank\" href=https://colab.research.google.com/notebooks/data_table.ipynb>data table notebook</a>'\n",
              "            + ' to learn more about interactive tables.';\n",
              "          element.innerHTML = '';\n",
              "          dataTable['output_type'] = 'display_data';\n",
              "          await google.colab.output.renderOutput(dataTable, element);\n",
              "          const docLink = document.createElement('div');\n",
              "          docLink.innerHTML = docLinkHtml;\n",
              "          element.appendChild(docLink);\n",
              "        }\n",
              "      </script>\n",
              "    </div>\n",
              "  </div>\n",
              "  "
            ]
          },
          "metadata": {},
          "execution_count": 32
        }
      ]
    },
    {
      "cell_type": "markdown",
      "source": [
        "From the above description, we learn that the average age of drivers stopped is approximately 37 years old. This information may be important to consider when analyzing the racial break down of police vehicle stops. The racial identity of drivers in certain age groups can may influence our analysis. As such, we will keep this information in mind."
      ],
      "metadata": {
        "id": "9grRQ-WRXdqZ"
      }
    },
    {
      "cell_type": "markdown",
      "source": [
        "**Categorical Data:** Next, we'll describe the categorical variables in `stopAll`.\n",
        "\n",
        "This includes `sex`, `age`, `arrested`, `searched`, and `Race_Category`."
      ],
      "metadata": {
        "id": "YrQjbLLQbwzT"
      }
    },
    {
      "cell_type": "code",
      "source": [
        "plt.figure()\n",
        "sns.countplot(x=stopAll['sex'])\n",
        "plt.title('Distribution of sex')\n",
        "\n",
        "plt.figure()\n",
        "sns.histplot(list(stopAll['age']), binwidth=5)\n",
        "plt.xlim(0,100)\n",
        "plt.title('Distribution of age')\n",
        "\n",
        "plt.figure()\n",
        "sns.countplot(x=stopAll['arrested'])\n",
        "plt.title('Distribution of arrest')\n",
        "\n",
        "plt.figure()\n",
        "sns.countplot(x=stopAll['searched'])\n",
        "plt.title('Distribution of police search')\n",
        "\n",
        "plt.figure(figsize=(10,5))\n",
        "sns.countplot(x=stopAll['Race_Category'])\n",
        "plt.title('Distribution of race');"
      ],
      "metadata": {
        "colab": {
          "base_uri": "https://localhost:8080/",
          "height": 1000
        },
        "id": "1qDWQisvvxFp",
        "outputId": "85350e69-0c1f-44b9-8a3e-7129e79df7b0"
      },
      "execution_count": null,
      "outputs": [
        {
          "output_type": "display_data",
          "data": {
            "text/plain": [
              "<Figure size 432x288 with 1 Axes>"
            ],
            "image/png": "[encoded data removed]"
          },
          "metadata": {}
        },
        {
          "output_type": "display_data",
          "data": {
            "text/plain": [
              "<Figure size 432x288 with 1 Axes>"
            ],
            "image/png": "[encoded data removed]"
          },
          "metadata": {}
        },
        {
          "output_type": "display_data",
          "data": {
            "text/plain": [
              "<Figure size 432x288 with 1 Axes>"
            ],
            "image/png": "[encoded data removed]"
          },
          "metadata": {}
        },
        {
          "output_type": "display_data",
          "data": {
            "text/plain": [
              "<Figure size 432x288 with 1 Axes>"
            ],
            "image/png": "[encoded data removed]"
          },
          "metadata": {}
        },
        {
          "output_type": "display_data",
          "data": {
            "text/plain": [
              "<Figure size 720x360 with 1 Axes>"
            ],
            "image/png": "[encoded data removed]"
          },
          "metadata": {}
        }
      ]
    },
    {
      "cell_type": "markdown",
      "source": [
        "Above, we can see the general distribution of the categorical variables of the police vehicle stops dataset. In general, with regards to gender, there appears to be twice as many males getting stopped compared to females. For age, the distribution is slightly skewed to the right, with most drivers being in their 30's. Most drivers stopped are *not* searched nor arrested. \n",
        "\n",
        "We also have an initial look at the general distribution of race for police vehicle stops, showing that a greater number of White and Hispanic drivers are stopped."
      ],
      "metadata": {
        "id": "6itUscKvatol"
      }
    },
    {
      "cell_type": "markdown",
      "source": [
        "### Population Summary"
      ],
      "metadata": {
        "id": "EBEVYjMc2F2c"
      }
    },
    {
      "cell_type": "markdown",
      "source": [
        "We'll also look at the summary statistics for `demoAll`."
      ],
      "metadata": {
        "id": "_DqDvtZ9b8MT"
      }
    },
    {
      "cell_type": "code",
      "source": [
        "demoAll.describe()"
      ],
      "metadata": {
        "colab": {
          "base_uri": "https://localhost:8080/",
          "height": 394
        },
        "id": "Agf-rBNDkzAP",
        "outputId": "c5e415b9-34e2-4f3b-8666-aad092cda5c7"
      },
      "execution_count": null,
      "outputs": [
        {
          "output_type": "execute_result",
          "data": {
            "text/plain": [
              "              Year     Total_Est  Total_EstErr  HispanicLatino_Est  \\\n",
              "count    54.000000  5.400000e+01     48.000000        5.400000e+01   \n",
              "mean   2016.500000  6.371851e+05     55.895833        2.196172e+05   \n",
              "std       1.723861  1.037081e+06     19.194680        3.425487e+05   \n",
              "min    2014.000000  9.291000e+04     31.000000        1.163800e+04   \n",
              "25%    2015.000000  1.031135e+05     42.000000        3.410500e+04   \n",
              "50%    2016.500000  1.516065e+05     47.500000        6.291450e+04   \n",
              "75%    2018.000000  2.713522e+05     72.250000        1.609518e+05   \n",
              "max    2019.000000  3.343364e+06    111.000000        1.140033e+06   \n",
              "\n",
              "       HispanicLatino_EstErr  HispanicLatino_Pct  HispanicLatino_PctErr  \\\n",
              "count              48.000000           54.000000              48.000000   \n",
              "mean             6755.562500           38.018519               3.833333   \n",
              "std              3085.988603           13.837999               1.404148   \n",
              "min              2551.000000           10.000000               1.000000   \n",
              "25%              4774.500000           30.000000               3.000000   \n",
              "50%              5680.000000           35.000000               4.000000   \n",
              "75%              7565.500000           51.250000               5.000000   \n",
              "max             15399.000000           61.000000               6.000000   \n",
              "\n",
              "       WhiteAlone_Est  WhiteAlone_EstErr  WhiteAlone_Pct  ...  \\\n",
              "count    5.300000e+01          53.000000       53.000000  ...   \n",
              "mean     2.841391e+05        5663.622642       44.358491  ...   \n",
              "std      4.757875e+05        2810.866874       14.395638  ...   \n",
              "min      3.562300e+04         825.000000       16.000000  ...   \n",
              "25%      4.504700e+04        4590.000000       37.000000  ...   \n",
              "50%      5.795600e+04        5126.000000       44.000000  ...   \n",
              "75%      8.728000e+04        5904.000000       47.000000  ...   \n",
              "max      1.523776e+06       15180.000000       77.000000  ...   \n",
              "\n",
              "       MeanHouseholdIncome_Est  MeanHouseholdIncome_EstErr  \\\n",
              "count                54.000000                   54.000000   \n",
              "mean              94222.444444                 5745.296296   \n",
              "std               21750.128326                 3071.383528   \n",
              "min               60726.000000                 1291.000000   \n",
              "25%               78822.750000                 3861.500000   \n",
              "50%               92290.500000                 5223.000000   \n",
              "75%              103742.500000                 7469.750000   \n",
              "max              158306.000000                12378.000000   \n",
              "\n",
              "       MedianFamilyIncome_Est  MedianFamilyIncome_EstErr  \\\n",
              "count               54.000000                  54.000000   \n",
              "mean             82918.314815                7031.888889   \n",
              "std              21128.493699                4106.774512   \n",
              "min              46826.000000                1225.000000   \n",
              "25%              70143.750000                4217.750000   \n",
              "50%              80486.500000                6634.500000   \n",
              "75%              90909.500000                9181.750000   \n",
              "max             151104.000000               21688.000000   \n",
              "\n",
              "       MeanFamilyIncome_Est  MeanFamilyIncome_EstErr  PercapitaIncome_Est  \\\n",
              "count             54.000000                54.000000            54.000000   \n",
              "mean          104925.000000              7129.203704         33061.555556   \n",
              "std            26349.319549              3866.042052          9685.833529   \n",
              "min            64838.000000              1499.000000         20251.000000   \n",
              "25%            86965.500000              4538.500000         26919.500000   \n",
              "50%           104034.500000              6503.500000         31015.000000   \n",
              "75%           118520.750000              9392.250000         36206.000000   \n",
              "max           182342.000000             14974.000000         63079.000000   \n",
              "\n",
              "       PercapitaIncome_EstErr  PovertyRate_Est  PovertyRate_EstErr  \n",
              "count               54.000000        54.000000           54.000000  \n",
              "mean              2105.814815        13.055556            2.648148  \n",
              "std               1169.201551         4.748055            1.305394  \n",
              "min                438.000000         5.000000            1.000000  \n",
              "25%               1363.250000        10.250000            2.000000  \n",
              "50%               1870.500000        12.000000            2.500000  \n",
              "75%               2776.750000        15.000000            4.000000  \n",
              "max               5292.000000        27.000000            5.000000  \n",
              "\n",
              "[8 rows x 39 columns]"
            ],
            "text/html": [
              "\n",
              "  <div id=\"df-8097f72d-a02b-4bb0-9edc-95ee754b33af\">\n",
              "    <div class=\"colab-df-container\">\n",
              "      <div>\n",
              "<style scoped>\n",
              "    .dataframe tbody tr th:only-of-type {\n",
              "        vertical-align: middle;\n",
              "    }\n",
              "\n",
              "    .dataframe tbody tr th {\n",
              "        vertical-align: top;\n",
              "    }\n",
              "\n",
              "    .dataframe thead th {\n",
              "        text-align: right;\n",
              "    }\n",
              "</style>\n",
              "<table border=\"1\" class=\"dataframe\">\n",
              "  <thead>\n",
              "    <tr style=\"text-align: right;\">\n",
              "      <th></th>\n",
              "      <th>Year</th>\n",
              "      <th>Total_Est</th>\n",
              "      <th>Total_EstErr</th>\n",
              "      <th>HispanicLatino_Est</th>\n",
              "      <th>HispanicLatino_EstErr</th>\n",
              "      <th>HispanicLatino_Pct</th>\n",
              "      <th>HispanicLatino_PctErr</th>\n",
              "      <th>WhiteAlone_Est</th>\n",
              "      <th>WhiteAlone_EstErr</th>\n",
              "      <th>WhiteAlone_Pct</th>\n",
              "      <th>...</th>\n",
              "      <th>MeanHouseholdIncome_Est</th>\n",
              "      <th>MeanHouseholdIncome_EstErr</th>\n",
              "      <th>MedianFamilyIncome_Est</th>\n",
              "      <th>MedianFamilyIncome_EstErr</th>\n",
              "      <th>MeanFamilyIncome_Est</th>\n",
              "      <th>MeanFamilyIncome_EstErr</th>\n",
              "      <th>PercapitaIncome_Est</th>\n",
              "      <th>PercapitaIncome_EstErr</th>\n",
              "      <th>PovertyRate_Est</th>\n",
              "      <th>PovertyRate_EstErr</th>\n",
              "    </tr>\n",
              "  </thead>\n",
              "  <tbody>\n",
              "    <tr>\n",
              "      <th>count</th>\n",
              "      <td>54.000000</td>\n",
              "      <td>5.400000e+01</td>\n",
              "      <td>48.000000</td>\n",
              "      <td>5.400000e+01</td>\n",
              "      <td>48.000000</td>\n",
              "      <td>54.000000</td>\n",
              "      <td>48.000000</td>\n",
              "      <td>5.300000e+01</td>\n",
              "      <td>53.000000</td>\n",
              "      <td>53.000000</td>\n",
              "      <td>...</td>\n",
              "      <td>54.000000</td>\n",
              "      <td>54.000000</td>\n",
              "      <td>54.000000</td>\n",
              "      <td>54.000000</td>\n",
              "      <td>54.000000</td>\n",
              "      <td>54.000000</td>\n",
              "      <td>54.000000</td>\n",
              "      <td>54.000000</td>\n",
              "      <td>54.000000</td>\n",
              "      <td>54.000000</td>\n",
              "    </tr>\n",
              "    <tr>\n",
              "      <th>mean</th>\n",
              "      <td>2016.500000</td>\n",
              "      <td>6.371851e+05</td>\n",
              "      <td>55.895833</td>\n",
              "      <td>2.196172e+05</td>\n",
              "      <td>6755.562500</td>\n",
              "      <td>38.018519</td>\n",
              "      <td>3.833333</td>\n",
              "      <td>2.841391e+05</td>\n",
              "      <td>5663.622642</td>\n",
              "      <td>44.358491</td>\n",
              "      <td>...</td>\n",
              "      <td>94222.444444</td>\n",
              "      <td>5745.296296</td>\n",
              "      <td>82918.314815</td>\n",
              "      <td>7031.888889</td>\n",
              "      <td>104925.000000</td>\n",
              "      <td>7129.203704</td>\n",
              "      <td>33061.555556</td>\n",
              "      <td>2105.814815</td>\n",
              "      <td>13.055556</td>\n",
              "      <td>2.648148</td>\n",
              "    </tr>\n",
              "    <tr>\n",
              "      <th>std</th>\n",
              "      <td>1.723861</td>\n",
              "      <td>1.037081e+06</td>\n",
              "      <td>19.194680</td>\n",
              "      <td>3.425487e+05</td>\n",
              "      <td>3085.988603</td>\n",
              "      <td>13.837999</td>\n",
              "      <td>1.404148</td>\n",
              "      <td>4.757875e+05</td>\n",
              "      <td>2810.866874</td>\n",
              "      <td>14.395638</td>\n",
              "      <td>...</td>\n",
              "      <td>21750.128326</td>\n",
              "      <td>3071.383528</td>\n",
              "      <td>21128.493699</td>\n",
              "      <td>4106.774512</td>\n",
              "      <td>26349.319549</td>\n",
              "      <td>3866.042052</td>\n",
              "      <td>9685.833529</td>\n",
              "      <td>1169.201551</td>\n",
              "      <td>4.748055</td>\n",
              "      <td>1.305394</td>\n",
              "    </tr>\n",
              "    <tr>\n",
              "      <th>min</th>\n",
              "      <td>2014.000000</td>\n",
              "      <td>9.291000e+04</td>\n",
              "      <td>31.000000</td>\n",
              "      <td>1.163800e+04</td>\n",
              "      <td>2551.000000</td>\n",
              "      <td>10.000000</td>\n",
              "      <td>1.000000</td>\n",
              "      <td>3.562300e+04</td>\n",
              "      <td>825.000000</td>\n",
              "      <td>16.000000</td>\n",
              "      <td>...</td>\n",
              "      <td>60726.000000</td>\n",
              "      <td>1291.000000</td>\n",
              "      <td>46826.000000</td>\n",
              "      <td>1225.000000</td>\n",
              "      <td>64838.000000</td>\n",
              "      <td>1499.000000</td>\n",
              "      <td>20251.000000</td>\n",
              "      <td>438.000000</td>\n",
              "      <td>5.000000</td>\n",
              "      <td>1.000000</td>\n",
              "    </tr>\n",
              "    <tr>\n",
              "      <th>25%</th>\n",
              "      <td>2015.000000</td>\n",
              "      <td>1.031135e+05</td>\n",
              "      <td>42.000000</td>\n",
              "      <td>3.410500e+04</td>\n",
              "      <td>4774.500000</td>\n",
              "      <td>30.000000</td>\n",
              "      <td>3.000000</td>\n",
              "      <td>4.504700e+04</td>\n",
              "      <td>4590.000000</td>\n",
              "      <td>37.000000</td>\n",
              "      <td>...</td>\n",
              "      <td>78822.750000</td>\n",
              "      <td>3861.500000</td>\n",
              "      <td>70143.750000</td>\n",
              "      <td>4217.750000</td>\n",
              "      <td>86965.500000</td>\n",
              "      <td>4538.500000</td>\n",
              "      <td>26919.500000</td>\n",
              "      <td>1363.250000</td>\n",
              "      <td>10.250000</td>\n",
              "      <td>2.000000</td>\n",
              "    </tr>\n",
              "    <tr>\n",
              "      <th>50%</th>\n",
              "      <td>2016.500000</td>\n",
              "      <td>1.516065e+05</td>\n",
              "      <td>47.500000</td>\n",
              "      <td>6.291450e+04</td>\n",
              "      <td>5680.000000</td>\n",
              "      <td>35.000000</td>\n",
              "      <td>4.000000</td>\n",
              "      <td>5.795600e+04</td>\n",
              "      <td>5126.000000</td>\n",
              "      <td>44.000000</td>\n",
              "      <td>...</td>\n",
              "      <td>92290.500000</td>\n",
              "      <td>5223.000000</td>\n",
              "      <td>80486.500000</td>\n",
              "      <td>6634.500000</td>\n",
              "      <td>104034.500000</td>\n",
              "      <td>6503.500000</td>\n",
              "      <td>31015.000000</td>\n",
              "      <td>1870.500000</td>\n",
              "      <td>12.000000</td>\n",
              "      <td>2.500000</td>\n",
              "    </tr>\n",
              "    <tr>\n",
              "      <th>75%</th>\n",
              "      <td>2018.000000</td>\n",
              "      <td>2.713522e+05</td>\n",
              "      <td>72.250000</td>\n",
              "      <td>1.609518e+05</td>\n",
              "      <td>7565.500000</td>\n",
              "      <td>51.250000</td>\n",
              "      <td>5.000000</td>\n",
              "      <td>8.728000e+04</td>\n",
              "      <td>5904.000000</td>\n",
              "      <td>47.000000</td>\n",
              "      <td>...</td>\n",
              "      <td>103742.500000</td>\n",
              "      <td>7469.750000</td>\n",
              "      <td>90909.500000</td>\n",
              "      <td>9181.750000</td>\n",
              "      <td>118520.750000</td>\n",
              "      <td>9392.250000</td>\n",
              "      <td>36206.000000</td>\n",
              "      <td>2776.750000</td>\n",
              "      <td>15.000000</td>\n",
              "      <td>4.000000</td>\n",
              "    </tr>\n",
              "    <tr>\n",
              "      <th>max</th>\n",
              "      <td>2019.000000</td>\n",
              "      <td>3.343364e+06</td>\n",
              "      <td>111.000000</td>\n",
              "      <td>1.140033e+06</td>\n",
              "      <td>15399.000000</td>\n",
              "      <td>61.000000</td>\n",
              "      <td>6.000000</td>\n",
              "      <td>1.523776e+06</td>\n",
              "      <td>15180.000000</td>\n",
              "      <td>77.000000</td>\n",
              "      <td>...</td>\n",
              "      <td>158306.000000</td>\n",
              "      <td>12378.000000</td>\n",
              "      <td>151104.000000</td>\n",
              "      <td>21688.000000</td>\n",
              "      <td>182342.000000</td>\n",
              "      <td>14974.000000</td>\n",
              "      <td>63079.000000</td>\n",
              "      <td>5292.000000</td>\n",
              "      <td>27.000000</td>\n",
              "      <td>5.000000</td>\n",
              "    </tr>\n",
              "  </tbody>\n",
              "</table>\n",
              "<p>8 rows × 39 columns</p>\n",
              "</div>\n",
              "      <button class=\"colab-df-convert\" onclick=\"convertToInteractive('df-8097f72d-a02b-4bb0-9edc-95ee754b33af')\"\n",
              "              title=\"Convert this dataframe to an interactive table.\"\n",
              "              style=\"display:none;\">\n",
              "        \n",
              "  <svg xmlns=\"http://www.w3.org/2000/svg\" height=\"24px\"viewBox=\"0 0 24 24\"\n",
              "       width=\"24px\">\n",
              "    <path d=\"M0 0h24v24H0V0z\" fill=\"none\"/>\n",
              "    <path d=\"M18.56 5.44l.94 2.06.94-2.06 2.06-.94-2.06-.94-.94-2.06-.94 2.06-2.06.94zm-11 1L8.5 8.5l.94-2.06 2.06-.94-2.06-.94L8.5 2.5l-.94 2.06-2.06.94zm10 10l.94 2.06.94-2.06 2.06-.94-2.06-.94-.94-2.06-.94 2.06-2.06.94z\"/><path d=\"M17.41 7.96l-1.37-1.37c-.4-.4-.92-.59-1.43-.59-.52 0-1.04.2-1.43.59L10.3 9.45l-7.72 7.72c-.78.78-.78 2.05 0 2.83L4 21.41c.39.39.9.59 1.41.59.51 0 1.02-.2 1.41-.59l7.78-7.78 2.81-2.81c.8-.78.8-2.07 0-2.86zM5.41 20L4 18.59l7.72-7.72 1.47 1.35L5.41 20z\"/>\n",
              "  </svg>\n",
              "      </button>\n",
              "      \n",
              "  <style>\n",
              "    .colab-df-container {\n",
              "      display:flex;\n",
              "      flex-wrap:wrap;\n",
              "      gap: 12px;\n",
              "    }\n",
              "\n",
              "    .colab-df-convert {\n",
              "      background-color: #E8F0FE;\n",
              "      border: none;\n",
              "      border-radius: 50%;\n",
              "      cursor: pointer;\n",
              "      display: none;\n",
              "      fill: #1967D2;\n",
              "      height: 32px;\n",
              "      padding: 0 0 0 0;\n",
              "      width: 32px;\n",
              "    }\n",
              "\n",
              "    .colab-df-convert:hover {\n",
              "      background-color: #E2EBFA;\n",
              "      box-shadow: 0px 1px 2px rgba(60, 64, 67, 0.3), 0px 1px 3px 1px rgba(60, 64, 67, 0.15);\n",
              "      fill: #174EA6;\n",
              "    }\n",
              "\n",
              "    [theme=dark] .colab-df-convert {\n",
              "      background-color: #3B4455;\n",
              "      fill: #D2E3FC;\n",
              "    }\n",
              "\n",
              "    [theme=dark] .colab-df-convert:hover {\n",
              "      background-color: #434B5C;\n",
              "      box-shadow: 0px 1px 3px 1px rgba(0, 0, 0, 0.15);\n",
              "      filter: drop-shadow(0px 1px 2px rgba(0, 0, 0, 0.3));\n",
              "      fill: #FFFFFF;\n",
              "    }\n",
              "  </style>\n",
              "\n",
              "      <script>\n",
              "        const buttonEl =\n",
              "          document.querySelector('#df-8097f72d-a02b-4bb0-9edc-95ee754b33af button.colab-df-convert');\n",
              "        buttonEl.style.display =\n",
              "          google.colab.kernel.accessAllowed ? 'block' : 'none';\n",
              "\n",
              "        async function convertToInteractive(key) {\n",
              "          const element = document.querySelector('#df-8097f72d-a02b-4bb0-9edc-95ee754b33af');\n",
              "          const dataTable =\n",
              "            await google.colab.kernel.invokeFunction('convertToInteractive',\n",
              "                                                     [key], {});\n",
              "          if (!dataTable) return;\n",
              "\n",
              "          const docLinkHtml = 'Like what you see? Visit the ' +\n",
              "            '<a target=\"_blank\" href=https://colab.research.google.com/notebooks/data_table.ipynb>data table notebook</a>'\n",
              "            + ' to learn more about interactive tables.';\n",
              "          element.innerHTML = '';\n",
              "          dataTable['output_type'] = 'display_data';\n",
              "          await google.colab.output.renderOutput(dataTable, element);\n",
              "          const docLink = document.createElement('div');\n",
              "          docLink.innerHTML = docLinkHtml;\n",
              "          element.appendChild(docLink);\n",
              "        }\n",
              "      </script>\n",
              "    </div>\n",
              "  </div>\n",
              "  "
            ]
          },
          "metadata": {},
          "execution_count": 34
        }
      ]
    },
    {
      "cell_type": "markdown",
      "source": [
        "On average, it appears a greater percentage of the San Diego population appears to be White or Hispanic. The Asian and Black population make up a much smaller percentage. This will be relevant to our analysis, as we will want to compare the racial break down of vehicle stops relative to the proportion of racial groups currently in the San Diego area.\n",
        "\n",
        "> Indented block\n",
        "\n",
        "> Indented block\n",
        "\n",
        "\n",
        "\n"
      ],
      "metadata": {
        "id": "ECltskoXZfXN"
      }
    },
    {
      "cell_type": "markdown",
      "source": [
        "### Racial Distribution Over Time (2014 - 2018)"
      ],
      "metadata": {
        "id": "ZFBMws3DHnog"
      }
    },
    {
      "cell_type": "markdown",
      "source": [
        "To determine if there are any trends in the racial identity of those stopped by the police over time, we will visualize the data with a line plot."
      ],
      "metadata": {
        "id": "_wbd6ELjHzhf"
      }
    },
    {
      "cell_type": "code",
      "source": [
        "#@title\n",
        "nRace = len(stopAll['Race_Category'].value_counts(normalize = True))\n",
        "nYear = len(pd.DataFrame(pd.DatetimeIndex(stopAll['date_stop']).year).value_counts())\n",
        "racePropByYear = np.zeros((nYear, nRace))\n",
        "years = pd.unique(pd.DataFrame(pd.DatetimeIndex(stopAll['date_stop']).year)['date_stop'])\n",
        "xLabs = list(map(str, list(years)))\n",
        "races = pd.unique(stopAll['Race_Category'])\n",
        "races = [str(x) for x in races]\n",
        "races = [x for x in races if x != 'nan']\n",
        "races = sorted(list(races))\n",
        "\n",
        "#race count per year\n",
        "for y in range(len(years)):\n",
        "  raceByYear = stopAll['Race_Category'][pd.DatetimeIndex(stopAll['date_stop']).year==years[y]]\n",
        "  raceCountByYear = pd.value_counts(raceByYear)\n",
        "  #calculate proportion for race\n",
        "  for r in range(len(races)):\n",
        "    prop = raceCountByYear[races[r]]/sum(raceCountByYear)*100\n",
        "    racePropByYear[y, r] = prop\n",
        "\n",
        "#plot\n",
        "xLabs = list(map(str, list(years)))\n",
        "plt.figure()\n",
        "plt.plot(xLabs, racePropByYear)\n",
        "plt.legend(races, bbox_to_anchor=(1, 1.05))\n",
        "plt.xlabel('Year')\n",
        "plt.ylabel('Proportion in percentage')\n",
        "plt.title('Proportion of police stops by race over time\\n(not normalized by population)');"
      ],
      "metadata": {
        "colab": {
          "base_uri": "https://localhost:8080/",
          "height": 316
        },
        "id": "y0_EiBgYlRhs",
        "outputId": "afd9a006-96c3-4c0a-98a3-6d7a15f61765"
      },
      "execution_count": null,
      "outputs": [
        {
          "output_type": "display_data",
          "data": {
            "text/plain": [
              "<Figure size 432x288 with 1 Axes>"
            ],
            "image/png": "[encoded data removed]"
          },
          "metadata": {}
        }
      ]
    },
    {
      "cell_type": "markdown",
      "source": [
        "Our line plot shows most drivers stopped are White, a trend that has remained consistent from 2014 to 2018. Hispanic drivers make up the second greatest percentage of drivers stopped.\n",
        "\n",
        "In 2017, there is a noticeable change for Whites, Hispanics, Blacks, and Asians. The percentages of White drivers and Black drivers increased, while the percentages for Hispanic drivers and Asian drivers decreased. The cause for this change is unknown.\n",
        "\n",
        "An interesting pattern to note is that the changes in percentage of White drivers and percentage of Hispanic drivers appear to reflect one another. When the percentage of White drivers decreased from 2015 to 2016, the percentage of Hispanic drivers increased."
      ],
      "metadata": {
        "id": "IeC_gEHfzjGU"
      }
    },
    {
      "cell_type": "markdown",
      "source": [
        "However, as stated previously, the racial demographics of the San Diego area may influence these results. If there's a greater population of White people in San Diego, then it's much more likely for a White driver to be stopped.\n",
        "\n",
        "We'll need to consider the population demographics in our analysis. First, we'll use a line plot to illustrate the racial demographics over the same time period."
      ],
      "metadata": {
        "id": "1Jl8kVzkj0DN"
      }
    },
    {
      "cell_type": "code",
      "source": [
        "#array to store demographics of each race per year\n",
        "raceSD = np.zeros((nYear, nRace))\n",
        "raceSD[:,0] = list(demoAll['AsianAlone_Pct'][demoAll['Geography']=='San Diego County'][0:5])\n",
        "raceSD[:,1] = list(demoAll['BlackAlone_Pct'][demoAll['Geography']=='San Diego County'][0:5])\n",
        "raceSD[:,2] = list(demoAll['HawaiianPacific_Pct'][demoAll['Geography']=='San Diego County'][0:5])\n",
        "raceSD[:,3] = list(demoAll['HispanicLatino_Pct'][demoAll['Geography']=='San Diego County'][0:5])\n",
        "raceSD[:,4] = list(demoAll['IndianAlaskaAlone_Pct'][demoAll['Geography']=='San Diego County'][0:5])\n",
        "raceSD[:,5] = np.nan\n",
        "raceSD[:,6] = list(demoAll['WhiteAlone_Pct'][demoAll['Geography']=='San Diego County'][0:5])\n",
        "\n",
        "#plot\n",
        "legend = ['Asian', 'Black', 'Hawaiian/Pacific', 'Hispanic/Latino', 'Indian/Alaska', 'Other', 'White']\n",
        "plt.figure()\n",
        "plt.plot(xLabs, raceSD)\n",
        "plt.legend(legend, bbox_to_anchor=(1, 1.05))\n",
        "plt.xlabel('Year')\n",
        "plt.ylabel('Proportion in percentage')\n",
        "plt.title('Racial demographics over time');"
      ],
      "metadata": {
        "colab": {
          "base_uri": "https://localhost:8080/",
          "height": 301
        },
        "id": "roRUAbAyzsSj",
        "outputId": "29c6b208-74fc-4218-f8cf-16ad3891e712"
      },
      "execution_count": null,
      "outputs": [
        {
          "output_type": "display_data",
          "data": {
            "text/plain": [
              "<Figure size 432x288 with 1 Axes>"
            ],
            "image/png": "[encoded data removed]"
          },
          "metadata": {}
        }
      ]
    },
    {
      "cell_type": "markdown",
      "source": [
        "The racial demographics over time show that the demographics have remained relatively constant. Most of the population is White and Hispanic. A small proportion of the population is Asian, and an even smaller percentage is Black. The proportion of Indian/Alaskan, Hawaiian/Pacific Islander, and Other are much lower.\n",
        "\n",
        "However, to more accurately compare differences in vehicle stops between racial groups, we should compare the counts proportional to population demographics. As such, we will estimate the proportion using the data from Dataset 2."
      ],
      "metadata": {
        "id": "P_HzlfOLIG0S"
      }
    },
    {
      "cell_type": "code",
      "source": [
        "#array of race population est. for each year\n",
        "raceSD_est = np.zeros((nYear, nRace))\n",
        "\n",
        "raceSD_est[:,0] = list(demoAll['AsianAlone_Est'][demoAll['Geography']=='San Diego County'][0:5])\n",
        "raceSD_est[:,1] = list(demoAll['BlackAlone_Est'][demoAll['Geography']=='San Diego County'][0:5])\n",
        "raceSD_est[:,2] = list(demoAll['HawaiianPacificAlone_Est'][demoAll['Geography']=='San Diego County'][0:5])\n",
        "raceSD_est[:,3] = list(demoAll['HispanicLatino_Est'][demoAll['Geography']=='San Diego County'][0:5])\n",
        "raceSD_est[:,4] = list(demoAll['IndianAlaskaAlone_Est'][demoAll['Geography']=='San Diego County'][0:5])\n",
        "raceSD_est[:,5] = np.nan\n",
        "raceSD_est[:,6] = list(demoAll['WhiteAlone_Est'][demoAll['Geography']=='San Diego County'][0:5])\n",
        "\n",
        "#vehicle stops per racial category: adjusted for population\n",
        "pop_prop = np.zeros((nYear, nRace))\n",
        "\n",
        "#race count per year\n",
        "for x in range(len(years)):\n",
        "    raceByYear2 = stopAll['Race_Category'][pd.DatetimeIndex(stopAll['date_stop']).year == years[x]]\n",
        "    raceCountPerYear = pd.value_counts(raceByYear2)\n",
        "    #normalization for each race\n",
        "    for i in range(len(races)):\n",
        "        race_stops = raceCountPerYear[races[i]]\n",
        "        pop_prop[x, i] = race_stops/raceSD_est[x, i] \n",
        "\n",
        "#plot\n",
        "plt.plot(xLabs, pop_prop)\n",
        "plt.legend(races, bbox_to_anchor=(1, 1.05))\n",
        "plt.xlabel('Year')\n",
        "plt.ylabel('Proportion')\n",
        "plt.title('Proportion of police stops by race over time\\n(normalized by population)');"
      ],
      "metadata": {
        "id": "MEPmhVO-I97f",
        "colab": {
          "base_uri": "https://localhost:8080/",
          "height": 316
        },
        "outputId": "403ed7a5-fb93-4cc0-a559-1df18f077ce9"
      },
      "execution_count": null,
      "outputs": [
        {
          "output_type": "display_data",
          "data": {
            "text/plain": [
              "<Figure size 432x288 with 1 Axes>"
            ],
            "image/png": "[encoded data removed]"
          },
          "metadata": {}
        }
      ]
    },
    {
      "cell_type": "markdown",
      "source": [
        "By normalizing the police stop data by population, we can see how disproportionately races are stopped by police. \n",
        "The larger the percentage, the more times a person of that race has been stopped in proportion to their demographic population. These values, along with background information, may shed light onto the results of our research problem.\n",
        "\n",
        "We can observe an interesting pattern from 2014 to 2018.\n",
        "\n",
        "In 2014, the race with the largest normalized proportion of police stops is Black. The second largest proportion is Native American, then followed by Hispanic.\n",
        "\n",
        "Over time, we see a significant decrease in proportions of non-White groups. In 2018, most races have converged to a similar value as the White group. Meanwhile, White proportions remain stable between 2014 and 2018."
      ],
      "metadata": {
        "id": "hptQrB9tSjWB"
      }
    },
    {
      "cell_type": "markdown",
      "source": [
        "### Considering Gender"
      ],
      "metadata": {
        "id": "JhfGwsm6J9hx"
      }
    },
    {
      "cell_type": "markdown",
      "source": [
        "**Reason for Consideration:** \n",
        "\n",
        "We want to know if gender is a big factor in our analysis. Are the racial distribution trends the same for both males and females?\n",
        "\n",
        "As shown in the initial look at our datasets, there appears to be a greater number of male drivers stopped than females. Therefore, we'll take a look at the racial distribution for male drivers and female drivers to determine if the patterns we've seen so far may have been driven by gender."
      ],
      "metadata": {
        "id": "Wa7V2dGwKO-I"
      }
    },
    {
      "cell_type": "markdown",
      "source": [
        "We'll group the `Race_Category` by `sex`, then determine the proportion of each race given a gender."
      ],
      "metadata": {
        "id": "hYr40I7yeddf"
      }
    },
    {
      "cell_type": "code",
      "source": [
        "prop_sex_df = stopAll.groupby('sex')['Race_Category'].value_counts(normalize = True)\n",
        "prop_sex_df = pd.DataFrame(prop_sex_df.reset_index(name = 'proportion'))\n",
        "prop_sex_df"
      ],
      "metadata": {
        "id": "HDhYy0DaKMht",
        "colab": {
          "base_uri": "https://localhost:8080/",
          "height": 488
        },
        "outputId": "90fde350-b26c-42c0-8ce8-c2f006216aef"
      },
      "execution_count": null,
      "outputs": [
        {
          "output_type": "execute_result",
          "data": {
            "text/plain": [
              "   sex    Race_Category  proportion\n",
              "0    F            White    0.463120\n",
              "1    F         Hispanic    0.281933\n",
              "2    F            Black    0.094055\n",
              "3    F            Asian    0.086537\n",
              "4    F            Other    0.070163\n",
              "5    F  Native American    0.004075\n",
              "6    F         Hawaiian    0.000116\n",
              "7    M            White    0.401882\n",
              "8    M         Hispanic    0.317972\n",
              "9    M            Black    0.120809\n",
              "10   M            Other    0.079375\n",
              "11   M            Asian    0.074444\n",
              "12   M  Native American    0.005362\n",
              "13   M         Hawaiian    0.000157"
            ],
            "text/html": [
              "\n",
              "  <div id=\"df-83737e75-9892-42ce-acb6-2f8d3339e8af\">\n",
              "    <div class=\"colab-df-container\">\n",
              "      <div>\n",
              "<style scoped>\n",
              "    .dataframe tbody tr th:only-of-type {\n",
              "        vertical-align: middle;\n",
              "    }\n",
              "\n",
              "    .dataframe tbody tr th {\n",
              "        vertical-align: top;\n",
              "    }\n",
              "\n",
              "    .dataframe thead th {\n",
              "        text-align: right;\n",
              "    }\n",
              "</style>\n",
              "<table border=\"1\" class=\"dataframe\">\n",
              "  <thead>\n",
              "    <tr style=\"text-align: right;\">\n",
              "      <th></th>\n",
              "      <th>sex</th>\n",
              "      <th>Race_Category</th>\n",
              "      <th>proportion</th>\n",
              "    </tr>\n",
              "  </thead>\n",
              "  <tbody>\n",
              "    <tr>\n",
              "      <th>0</th>\n",
              "      <td>F</td>\n",
              "      <td>White</td>\n",
              "      <td>0.463120</td>\n",
              "    </tr>\n",
              "    <tr>\n",
              "      <th>1</th>\n",
              "      <td>F</td>\n",
              "      <td>Hispanic</td>\n",
              "      <td>0.281933</td>\n",
              "    </tr>\n",
              "    <tr>\n",
              "      <th>2</th>\n",
              "      <td>F</td>\n",
              "      <td>Black</td>\n",
              "      <td>0.094055</td>\n",
              "    </tr>\n",
              "    <tr>\n",
              "      <th>3</th>\n",
              "      <td>F</td>\n",
              "      <td>Asian</td>\n",
              "      <td>0.086537</td>\n",
              "    </tr>\n",
              "    <tr>\n",
              "      <th>4</th>\n",
              "      <td>F</td>\n",
              "      <td>Other</td>\n",
              "      <td>0.070163</td>\n",
              "    </tr>\n",
              "    <tr>\n",
              "      <th>5</th>\n",
              "      <td>F</td>\n",
              "      <td>Native American</td>\n",
              "      <td>0.004075</td>\n",
              "    </tr>\n",
              "    <tr>\n",
              "      <th>6</th>\n",
              "      <td>F</td>\n",
              "      <td>Hawaiian</td>\n",
              "      <td>0.000116</td>\n",
              "    </tr>\n",
              "    <tr>\n",
              "      <th>7</th>\n",
              "      <td>M</td>\n",
              "      <td>White</td>\n",
              "      <td>0.401882</td>\n",
              "    </tr>\n",
              "    <tr>\n",
              "      <th>8</th>\n",
              "      <td>M</td>\n",
              "      <td>Hispanic</td>\n",
              "      <td>0.317972</td>\n",
              "    </tr>\n",
              "    <tr>\n",
              "      <th>9</th>\n",
              "      <td>M</td>\n",
              "      <td>Black</td>\n",
              "      <td>0.120809</td>\n",
              "    </tr>\n",
              "    <tr>\n",
              "      <th>10</th>\n",
              "      <td>M</td>\n",
              "      <td>Other</td>\n",
              "      <td>0.079375</td>\n",
              "    </tr>\n",
              "    <tr>\n",
              "      <th>11</th>\n",
              "      <td>M</td>\n",
              "      <td>Asian</td>\n",
              "      <td>0.074444</td>\n",
              "    </tr>\n",
              "    <tr>\n",
              "      <th>12</th>\n",
              "      <td>M</td>\n",
              "      <td>Native American</td>\n",
              "      <td>0.005362</td>\n",
              "    </tr>\n",
              "    <tr>\n",
              "      <th>13</th>\n",
              "      <td>M</td>\n",
              "      <td>Hawaiian</td>\n",
              "      <td>0.000157</td>\n",
              "    </tr>\n",
              "  </tbody>\n",
              "</table>\n",
              "</div>\n",
              "      <button class=\"colab-df-convert\" onclick=\"convertToInteractive('df-83737e75-9892-42ce-acb6-2f8d3339e8af')\"\n",
              "              title=\"Convert this dataframe to an interactive table.\"\n",
              "              style=\"display:none;\">\n",
              "        \n",
              "  <svg xmlns=\"http://www.w3.org/2000/svg\" height=\"24px\"viewBox=\"0 0 24 24\"\n",
              "       width=\"24px\">\n",
              "    <path d=\"M0 0h24v24H0V0z\" fill=\"none\"/>\n",
              "    <path d=\"M18.56 5.44l.94 2.06.94-2.06 2.06-.94-2.06-.94-.94-2.06-.94 2.06-2.06.94zm-11 1L8.5 8.5l.94-2.06 2.06-.94-2.06-.94L8.5 2.5l-.94 2.06-2.06.94zm10 10l.94 2.06.94-2.06 2.06-.94-2.06-.94-.94-2.06-.94 2.06-2.06.94z\"/><path d=\"M17.41 7.96l-1.37-1.37c-.4-.4-.92-.59-1.43-.59-.52 0-1.04.2-1.43.59L10.3 9.45l-7.72 7.72c-.78.78-.78 2.05 0 2.83L4 21.41c.39.39.9.59 1.41.59.51 0 1.02-.2 1.41-.59l7.78-7.78 2.81-2.81c.8-.78.8-2.07 0-2.86zM5.41 20L4 18.59l7.72-7.72 1.47 1.35L5.41 20z\"/>\n",
              "  </svg>\n",
              "      </button>\n",
              "      \n",
              "  <style>\n",
              "    .colab-df-container {\n",
              "      display:flex;\n",
              "      flex-wrap:wrap;\n",
              "      gap: 12px;\n",
              "    }\n",
              "\n",
              "    .colab-df-convert {\n",
              "      background-color: #E8F0FE;\n",
              "      border: none;\n",
              "      border-radius: 50%;\n",
              "      cursor: pointer;\n",
              "      display: none;\n",
              "      fill: #1967D2;\n",
              "      height: 32px;\n",
              "      padding: 0 0 0 0;\n",
              "      width: 32px;\n",
              "    }\n",
              "\n",
              "    .colab-df-convert:hover {\n",
              "      background-color: #E2EBFA;\n",
              "      box-shadow: 0px 1px 2px rgba(60, 64, 67, 0.3), 0px 1px 3px 1px rgba(60, 64, 67, 0.15);\n",
              "      fill: #174EA6;\n",
              "    }\n",
              "\n",
              "    [theme=dark] .colab-df-convert {\n",
              "      background-color: #3B4455;\n",
              "      fill: #D2E3FC;\n",
              "    }\n",
              "\n",
              "    [theme=dark] .colab-df-convert:hover {\n",
              "      background-color: #434B5C;\n",
              "      box-shadow: 0px 1px 3px 1px rgba(0, 0, 0, 0.15);\n",
              "      filter: drop-shadow(0px 1px 2px rgba(0, 0, 0, 0.3));\n",
              "      fill: #FFFFFF;\n",
              "    }\n",
              "  </style>\n",
              "\n",
              "      <script>\n",
              "        const buttonEl =\n",
              "          document.querySelector('#df-83737e75-9892-42ce-acb6-2f8d3339e8af button.colab-df-convert');\n",
              "        buttonEl.style.display =\n",
              "          google.colab.kernel.accessAllowed ? 'block' : 'none';\n",
              "\n",
              "        async function convertToInteractive(key) {\n",
              "          const element = document.querySelector('#df-83737e75-9892-42ce-acb6-2f8d3339e8af');\n",
              "          const dataTable =\n",
              "            await google.colab.kernel.invokeFunction('convertToInteractive',\n",
              "                                                     [key], {});\n",
              "          if (!dataTable) return;\n",
              "\n",
              "          const docLinkHtml = 'Like what you see? Visit the ' +\n",
              "            '<a target=\"_blank\" href=https://colab.research.google.com/notebooks/data_table.ipynb>data table notebook</a>'\n",
              "            + ' to learn more about interactive tables.';\n",
              "          element.innerHTML = '';\n",
              "          dataTable['output_type'] = 'display_data';\n",
              "          await google.colab.output.renderOutput(dataTable, element);\n",
              "          const docLink = document.createElement('div');\n",
              "          docLink.innerHTML = docLinkHtml;\n",
              "          element.appendChild(docLink);\n",
              "        }\n",
              "      </script>\n",
              "    </div>\n",
              "  </div>\n",
              "  "
            ]
          },
          "metadata": {},
          "execution_count": 38
        }
      ]
    },
    {
      "cell_type": "markdown",
      "source": [
        "We'll create our own palette in order to ensure the colors remain consistent for our visualizations."
      ],
      "metadata": {
        "id": "oS5muZbsyZvG"
      }
    },
    {
      "cell_type": "code",
      "source": [
        "unique = stopAll['Race_Category'].unique()\n",
        "palette = dict(zip(unique, sns.color_palette(['tab:pink', 'tab:blue', 'tab:red', \n",
        "                                              'tab:orange', 'tab:brown', 'tab:purple', 'tab:green'])))"
      ],
      "metadata": {
        "id": "s18xTbF6yYp8"
      },
      "execution_count": null,
      "outputs": []
    },
    {
      "cell_type": "code",
      "source": [
        "plt.figure(figsize = (15, 5))\n",
        "plot_sex_prop = sns.barplot(x = 'sex', y = 'proportion', hue = 'Race_Category', \n",
        "                            data = prop_sex_df, palette = palette)\n",
        "plt.title('Racial Distribution Given Gender \\n(not normalized)');"
      ],
      "metadata": {
        "id": "dVvp2YVYfeuF",
        "colab": {
          "base_uri": "https://localhost:8080/",
          "height": 370
        },
        "outputId": "64c601c9-aad4-4605-b21d-2c32780f981e"
      },
      "execution_count": null,
      "outputs": [
        {
          "output_type": "display_data",
          "data": {
            "text/plain": [
              "<Figure size 1080x360 with 1 Axes>"
            ],
            "image/png": "[encoded data removed]"
          },
          "metadata": {}
        }
      ]
    },
    {
      "cell_type": "markdown",
      "source": [
        "Once again, we'll want to normalize our data by the population estimates for each racial group. Since the data we are currently looking at combines all the vehicular stops from 2014 to 2018, we'll use the average population estimates in order to normalize our data."
      ],
      "metadata": {
        "id": "zg9VHsxt5YQ7"
      }
    },
    {
      "cell_type": "code",
      "source": [
        "raceSD_est_mean = np.nanmean(raceSD_est, axis = 0)\n",
        "raceSD_est_mean"
      ],
      "metadata": {
        "id": "e-0sEnXJ0VlU",
        "colab": {
          "base_uri": "https://localhost:8080/"
        },
        "outputId": "a573bd64-688a-47db-817e-ca3dff096012"
      },
      "execution_count": null,
      "outputs": [
        {
          "output_type": "stream",
          "name": "stderr",
          "text": [
            "/usr/local/lib/python3.7/dist-packages/ipykernel_launcher.py:1: RuntimeWarning: Mean of empty slice\n",
            "  \"\"\"Entry point for launching an IPython kernel.\n"
          ]
        },
        {
          "output_type": "execute_result",
          "data": {
            "text/plain": [
              "array([ 383907.6,  156161.4,   13070.2, 1112585.4,   12206.4,       nan,\n",
              "       1516215.8])"
            ]
          },
          "metadata": {},
          "execution_count": 41
        }
      ]
    },
    {
      "cell_type": "code",
      "source": [
        "avg_asian_pop = raceSD_est_mean[0]\n",
        "avg_black_pop = raceSD_est_mean[1]\n",
        "avg_hpi_pop = raceSD_est_mean[2]\n",
        "avg_hisp_pop = raceSD_est_mean[3]\n",
        "avg_indian_pop = raceSD_est_mean[4]\n",
        "avg_white_pop = raceSD_est_mean[6]"
      ],
      "metadata": {
        "id": "pR93wcNe0YCl"
      },
      "execution_count": null,
      "outputs": []
    },
    {
      "cell_type": "markdown",
      "source": [
        "Once we have the average population estimates for each racial group, we'll use a function to calculate the normalized data values. Note that the `Race_Category` label of \"Other\" will be set to NaN since there is no demographic data available."
      ],
      "metadata": {
        "id": "jqr5c-i30bOW"
      }
    },
    {
      "cell_type": "code",
      "source": [
        "def normalize_pop(df):\n",
        "    for index in df.index:\n",
        "        if df.loc[index, 'Race_Category'] == 'Asian':\n",
        "            df.loc[index, 'normal'] = df.loc[index, 'count'] / avg_asian_pop\n",
        "        elif df.loc[index, 'Race_Category'] == 'Black':\n",
        "            df.loc[index, 'normal'] = df.loc[index, 'count'] / avg_black_pop\n",
        "        elif df.loc[index, 'Race_Category'] == 'Hispanic':\n",
        "            df.loc[index, 'normal'] = df.loc[index, 'count'] / avg_hisp_pop\n",
        "        elif df.loc[index, 'Race_Category'] == 'Hawaiian':\n",
        "            df.loc[index, 'normal'] = df.loc[index, 'count'] / avg_hpi_pop\n",
        "        elif df.loc[index, 'Race_Category'] == 'Native American':\n",
        "            df.loc[index, 'normal'] = df.loc[index, 'count'] / avg_indian_pop\n",
        "        elif df.loc[index, 'Race_Category'] == 'White':\n",
        "            df.loc[index, 'normal'] = df.loc[index, 'count'] / avg_white_pop\n",
        "        else:\n",
        "            df.loc[index, 'normal'] = np.nan"
      ],
      "metadata": {
        "id": "Oqx_hkE40ge1"
      },
      "execution_count": null,
      "outputs": []
    },
    {
      "cell_type": "markdown",
      "source": [
        "We'll need to use the counts for vehicular stops when normalizing the data."
      ],
      "metadata": {
        "id": "rgGKRqML0mXv"
      }
    },
    {
      "cell_type": "code",
      "source": [
        "sex_df = stopAll.groupby('sex')['Race_Category'].value_counts()\n",
        "sex_df = pd.DataFrame(sex_df.reset_index(name = 'count'))\n",
        "normalize_pop(sex_df)\n",
        "sex_df"
      ],
      "metadata": {
        "id": "Mfdf0COC0pI4",
        "colab": {
          "base_uri": "https://localhost:8080/",
          "height": 488
        },
        "outputId": "79e29c91-a91c-4ef8-f655-f69359b7fc28"
      },
      "execution_count": null,
      "outputs": [
        {
          "output_type": "execute_result",
          "data": {
            "text/plain": [
              "   sex    Race_Category   count    normal\n",
              "0    F            White   75577  0.049846\n",
              "1    F         Hispanic   46009  0.041353\n",
              "2    F            Black   15349  0.098289\n",
              "3    F            Asian   14122  0.036785\n",
              "4    F            Other   11450       NaN\n",
              "5    F  Native American     665  0.054480\n",
              "6    F         Hawaiian      19  0.001454\n",
              "7    M            White  120526  0.079491\n",
              "8    M         Hispanic   95361  0.085711\n",
              "9    M            Black   36231  0.232010\n",
              "10   M            Other   23805       NaN\n",
              "11   M            Asian   22326  0.058155\n",
              "12   M  Native American    1608  0.131734\n",
              "13   M         Hawaiian      47  0.003596"
            ],
            "text/html": [
              "\n",
              "  <div id=\"df-6c9f7065-1d16-4470-a1d2-b423d4f8b9c6\">\n",
              "    <div class=\"colab-df-container\">\n",
              "      <div>\n",
              "<style scoped>\n",
              "    .dataframe tbody tr th:only-of-type {\n",
              "        vertical-align: middle;\n",
              "    }\n",
              "\n",
              "    .dataframe tbody tr th {\n",
              "        vertical-align: top;\n",
              "    }\n",
              "\n",
              "    .dataframe thead th {\n",
              "        text-align: right;\n",
              "    }\n",
              "</style>\n",
              "<table border=\"1\" class=\"dataframe\">\n",
              "  <thead>\n",
              "    <tr style=\"text-align: right;\">\n",
              "      <th></th>\n",
              "      <th>sex</th>\n",
              "      <th>Race_Category</th>\n",
              "      <th>count</th>\n",
              "      <th>normal</th>\n",
              "    </tr>\n",
              "  </thead>\n",
              "  <tbody>\n",
              "    <tr>\n",
              "      <th>0</th>\n",
              "      <td>F</td>\n",
              "      <td>White</td>\n",
              "      <td>75577</td>\n",
              "      <td>0.049846</td>\n",
              "    </tr>\n",
              "    <tr>\n",
              "      <th>1</th>\n",
              "      <td>F</td>\n",
              "      <td>Hispanic</td>\n",
              "      <td>46009</td>\n",
              "      <td>0.041353</td>\n",
              "    </tr>\n",
              "    <tr>\n",
              "      <th>2</th>\n",
              "      <td>F</td>\n",
              "      <td>Black</td>\n",
              "      <td>15349</td>\n",
              "      <td>0.098289</td>\n",
              "    </tr>\n",
              "    <tr>\n",
              "      <th>3</th>\n",
              "      <td>F</td>\n",
              "      <td>Asian</td>\n",
              "      <td>14122</td>\n",
              "      <td>0.036785</td>\n",
              "    </tr>\n",
              "    <tr>\n",
              "      <th>4</th>\n",
              "      <td>F</td>\n",
              "      <td>Other</td>\n",
              "      <td>11450</td>\n",
              "      <td>NaN</td>\n",
              "    </tr>\n",
              "    <tr>\n",
              "      <th>5</th>\n",
              "      <td>F</td>\n",
              "      <td>Native American</td>\n",
              "      <td>665</td>\n",
              "      <td>0.054480</td>\n",
              "    </tr>\n",
              "    <tr>\n",
              "      <th>6</th>\n",
              "      <td>F</td>\n",
              "      <td>Hawaiian</td>\n",
              "      <td>19</td>\n",
              "      <td>0.001454</td>\n",
              "    </tr>\n",
              "    <tr>\n",
              "      <th>7</th>\n",
              "      <td>M</td>\n",
              "      <td>White</td>\n",
              "      <td>120526</td>\n",
              "      <td>0.079491</td>\n",
              "    </tr>\n",
              "    <tr>\n",
              "      <th>8</th>\n",
              "      <td>M</td>\n",
              "      <td>Hispanic</td>\n",
              "      <td>95361</td>\n",
              "      <td>0.085711</td>\n",
              "    </tr>\n",
              "    <tr>\n",
              "      <th>9</th>\n",
              "      <td>M</td>\n",
              "      <td>Black</td>\n",
              "      <td>36231</td>\n",
              "      <td>0.232010</td>\n",
              "    </tr>\n",
              "    <tr>\n",
              "      <th>10</th>\n",
              "      <td>M</td>\n",
              "      <td>Other</td>\n",
              "      <td>23805</td>\n",
              "      <td>NaN</td>\n",
              "    </tr>\n",
              "    <tr>\n",
              "      <th>11</th>\n",
              "      <td>M</td>\n",
              "      <td>Asian</td>\n",
              "      <td>22326</td>\n",
              "      <td>0.058155</td>\n",
              "    </tr>\n",
              "    <tr>\n",
              "      <th>12</th>\n",
              "      <td>M</td>\n",
              "      <td>Native American</td>\n",
              "      <td>1608</td>\n",
              "      <td>0.131734</td>\n",
              "    </tr>\n",
              "    <tr>\n",
              "      <th>13</th>\n",
              "      <td>M</td>\n",
              "      <td>Hawaiian</td>\n",
              "      <td>47</td>\n",
              "      <td>0.003596</td>\n",
              "    </tr>\n",
              "  </tbody>\n",
              "</table>\n",
              "</div>\n",
              "      <button class=\"colab-df-convert\" onclick=\"convertToInteractive('df-6c9f7065-1d16-4470-a1d2-b423d4f8b9c6')\"\n",
              "              title=\"Convert this dataframe to an interactive table.\"\n",
              "              style=\"display:none;\">\n",
              "        \n",
              "  <svg xmlns=\"http://www.w3.org/2000/svg\" height=\"24px\"viewBox=\"0 0 24 24\"\n",
              "       width=\"24px\">\n",
              "    <path d=\"M0 0h24v24H0V0z\" fill=\"none\"/>\n",
              "    <path d=\"M18.56 5.44l.94 2.06.94-2.06 2.06-.94-2.06-.94-.94-2.06-.94 2.06-2.06.94zm-11 1L8.5 8.5l.94-2.06 2.06-.94-2.06-.94L8.5 2.5l-.94 2.06-2.06.94zm10 10l.94 2.06.94-2.06 2.06-.94-2.06-.94-.94-2.06-.94 2.06-2.06.94z\"/><path d=\"M17.41 7.96l-1.37-1.37c-.4-.4-.92-.59-1.43-.59-.52 0-1.04.2-1.43.59L10.3 9.45l-7.72 7.72c-.78.78-.78 2.05 0 2.83L4 21.41c.39.39.9.59 1.41.59.51 0 1.02-.2 1.41-.59l7.78-7.78 2.81-2.81c.8-.78.8-2.07 0-2.86zM5.41 20L4 18.59l7.72-7.72 1.47 1.35L5.41 20z\"/>\n",
              "  </svg>\n",
              "      </button>\n",
              "      \n",
              "  <style>\n",
              "    .colab-df-container {\n",
              "      display:flex;\n",
              "      flex-wrap:wrap;\n",
              "      gap: 12px;\n",
              "    }\n",
              "\n",
              "    .colab-df-convert {\n",
              "      background-color: #E8F0FE;\n",
              "      border: none;\n",
              "      border-radius: 50%;\n",
              "      cursor: pointer;\n",
              "      display: none;\n",
              "      fill: #1967D2;\n",
              "      height: 32px;\n",
              "      padding: 0 0 0 0;\n",
              "      width: 32px;\n",
              "    }\n",
              "\n",
              "    .colab-df-convert:hover {\n",
              "      background-color: #E2EBFA;\n",
              "      box-shadow: 0px 1px 2px rgba(60, 64, 67, 0.3), 0px 1px 3px 1px rgba(60, 64, 67, 0.15);\n",
              "      fill: #174EA6;\n",
              "    }\n",
              "\n",
              "    [theme=dark] .colab-df-convert {\n",
              "      background-color: #3B4455;\n",
              "      fill: #D2E3FC;\n",
              "    }\n",
              "\n",
              "    [theme=dark] .colab-df-convert:hover {\n",
              "      background-color: #434B5C;\n",
              "      box-shadow: 0px 1px 3px 1px rgba(0, 0, 0, 0.15);\n",
              "      filter: drop-shadow(0px 1px 2px rgba(0, 0, 0, 0.3));\n",
              "      fill: #FFFFFF;\n",
              "    }\n",
              "  </style>\n",
              "\n",
              "      <script>\n",
              "        const buttonEl =\n",
              "          document.querySelector('#df-6c9f7065-1d16-4470-a1d2-b423d4f8b9c6 button.colab-df-convert');\n",
              "        buttonEl.style.display =\n",
              "          google.colab.kernel.accessAllowed ? 'block' : 'none';\n",
              "\n",
              "        async function convertToInteractive(key) {\n",
              "          const element = document.querySelector('#df-6c9f7065-1d16-4470-a1d2-b423d4f8b9c6');\n",
              "          const dataTable =\n",
              "            await google.colab.kernel.invokeFunction('convertToInteractive',\n",
              "                                                     [key], {});\n",
              "          if (!dataTable) return;\n",
              "\n",
              "          const docLinkHtml = 'Like what you see? Visit the ' +\n",
              "            '<a target=\"_blank\" href=https://colab.research.google.com/notebooks/data_table.ipynb>data table notebook</a>'\n",
              "            + ' to learn more about interactive tables.';\n",
              "          element.innerHTML = '';\n",
              "          dataTable['output_type'] = 'display_data';\n",
              "          await google.colab.output.renderOutput(dataTable, element);\n",
              "          const docLink = document.createElement('div');\n",
              "          docLink.innerHTML = docLinkHtml;\n",
              "          element.appendChild(docLink);\n",
              "        }\n",
              "      </script>\n",
              "    </div>\n",
              "  </div>\n",
              "  "
            ]
          },
          "metadata": {},
          "execution_count": 44
        }
      ]
    },
    {
      "cell_type": "code",
      "source": [
        "plt.figure(figsize = (15, 5))\n",
        "plot_sex = sns.barplot(x = 'sex', y = 'normal', hue = 'Race_Category', \n",
        "                       data = sex_df, palette = palette)\n",
        "plt.title('Racial Distribution Given Gender \\n(normalized)');"
      ],
      "metadata": {
        "id": "ofm70M920wCF",
        "colab": {
          "base_uri": "https://localhost:8080/",
          "height": 370
        },
        "outputId": "03b0e76c-f862-4474-836f-ff3fc8cb4a02"
      },
      "execution_count": null,
      "outputs": [
        {
          "output_type": "display_data",
          "data": {
            "text/plain": [
              "<Figure size 1080x360 with 1 Axes>"
            ],
            "image/png": "[encoded data removed]"
          },
          "metadata": {}
        }
      ]
    },
    {
      "cell_type": "markdown",
      "source": [
        "As shown, there doesn't appear to be a distinct difference in trends between genders. For both Females and Males, there appears to be a greater proportion of Black male drivers and Native American male drivers stopped, so they may have a greater contribution to the trend we observed. However, the racial distribution does not appear to be too affected by gender."
      ],
      "metadata": {
        "id": "FStWAlp8YubU"
      }
    },
    {
      "cell_type": "markdown",
      "source": [
        "### Considering Age "
      ],
      "metadata": {
        "id": "L8C82N7rvhqD"
      }
    },
    {
      "cell_type": "markdown",
      "source": [
        "**Reason for Consideration:**\n",
        "\n",
        "We want to know if age plays a significant role in our results on racial distribution. Is the racial distribution disproportionate because more people of that race are younger or older? If so, are younger or older people more likely to be pulled over by the police? We will explore those questions in this section.\n",
        "\n",
        "As previously seen, most of the drivers stopped appear to be in their 30s or close to that range. To determine if the trend we've seen may be driven by age, we will look at age groups divided into young drivers (16 - 40) and middle-aged drivers (40+). The plot below shows the right-skewed age distribution of drivers who are pulled over."
      ],
      "metadata": {
        "id": "xSY_Z8gDv1J6"
      }
    },
    {
      "cell_type": "code",
      "source": [
        "plt.figure()\n",
        "sns.histplot(list(stopAll['age']), binwidth=5)\n",
        "plt.xlim(0,100)\n",
        "plt.xlabel('Age');\n",
        "plt.title('Distribution of age');"
      ],
      "metadata": {
        "id": "ZHJAXEEOxf6T",
        "colab": {
          "base_uri": "https://localhost:8080/",
          "height": 301
        },
        "outputId": "cd1c850c-bcfe-4df3-fa18-cf9a1f24dca8"
      },
      "execution_count": null,
      "outputs": [
        {
          "output_type": "display_data",
          "data": {
            "text/plain": [
              "<Figure size 432x288 with 1 Axes>"
            ],
            "image/png": "[encoded data removed]"
          },
          "metadata": {}
        }
      ]
    },
    {
      "cell_type": "markdown",
      "source": [
        "We'll first look at young drivers."
      ],
      "metadata": {
        "id": "LftLjTYVzHN5"
      }
    },
    {
      "cell_type": "code",
      "source": [
        "age_young = stopAll[(stopAll['age'] > 16) & (stopAll['age'] < 40)]\n",
        "\n",
        "plt.figure(figsize = (10, 5))\n",
        "young_count_plot = sns.countplot(x = 'Race_Category', data = age_young, palette = palette);\n",
        "plt.title('Racial Distribution of Young Drivers \\n(not normalized)');"
      ],
      "metadata": {
        "id": "_IuQEol60Mam",
        "colab": {
          "base_uri": "https://localhost:8080/",
          "height": 370
        },
        "outputId": "8336b04a-3237-47af-d18e-fae20e361cdf"
      },
      "execution_count": null,
      "outputs": [
        {
          "output_type": "display_data",
          "data": {
            "text/plain": [
              "<Figure size 720x360 with 1 Axes>"
            ],
            "image/png": "[encoded data removed]"
          },
          "metadata": {}
        }
      ]
    },
    {
      "cell_type": "markdown",
      "source": [
        "In the plot above, we plotted the counts of drivers between the ages 16 and 40. The majority of young drivers who are stopped over are White, followed by Hispanic. This trend looks similar to the population demographics of San Diego, but what if we normalize this data to the population data?"
      ],
      "metadata": {
        "id": "qNPBPMwSFiP1"
      }
    },
    {
      "cell_type": "markdown",
      "source": [
        "Similar to what we did in \"Considering Gender\", we'll normalize the data using population estimates for each racial group. We can use our `normalize_pop()` function to do so."
      ],
      "metadata": {
        "id": "qEGQlFpr7nBy"
      }
    },
    {
      "cell_type": "code",
      "source": [
        "young_df = pd.DataFrame(age_young.Race_Category.value_counts())\n",
        "young_df = young_df.reset_index()\n",
        "young_df.columns = ['Race_Category', 'count']\n",
        "normalize_pop(young_df)\n",
        "young_df"
      ],
      "metadata": {
        "id": "04Ge3g1f7p02",
        "colab": {
          "base_uri": "https://localhost:8080/",
          "height": 269
        },
        "outputId": "6b96a83e-6e64-458a-d43f-ae39295a00ec"
      },
      "execution_count": null,
      "outputs": [
        {
          "output_type": "execute_result",
          "data": {
            "text/plain": [
              "     Race_Category   count    normal\n",
              "0            White  106656  0.070344\n",
              "1         Hispanic   90560  0.081396\n",
              "2            Black   32623  0.208906\n",
              "3            Other   22041       NaN\n",
              "4            Asian   20627  0.053729\n",
              "5  Native American    1462  0.119773\n",
              "6         Hawaiian      43  0.003290"
            ],
            "text/html": [
              "\n",
              "  <div id=\"df-ae642a8c-f9b4-4614-9fab-fc9b332e6d3a\">\n",
              "    <div class=\"colab-df-container\">\n",
              "      <div>\n",
              "<style scoped>\n",
              "    .dataframe tbody tr th:only-of-type {\n",
              "        vertical-align: middle;\n",
              "    }\n",
              "\n",
              "    .dataframe tbody tr th {\n",
              "        vertical-align: top;\n",
              "    }\n",
              "\n",
              "    .dataframe thead th {\n",
              "        text-align: right;\n",
              "    }\n",
              "</style>\n",
              "<table border=\"1\" class=\"dataframe\">\n",
              "  <thead>\n",
              "    <tr style=\"text-align: right;\">\n",
              "      <th></th>\n",
              "      <th>Race_Category</th>\n",
              "      <th>count</th>\n",
              "      <th>normal</th>\n",
              "    </tr>\n",
              "  </thead>\n",
              "  <tbody>\n",
              "    <tr>\n",
              "      <th>0</th>\n",
              "      <td>White</td>\n",
              "      <td>106656</td>\n",
              "      <td>0.070344</td>\n",
              "    </tr>\n",
              "    <tr>\n",
              "      <th>1</th>\n",
              "      <td>Hispanic</td>\n",
              "      <td>90560</td>\n",
              "      <td>0.081396</td>\n",
              "    </tr>\n",
              "    <tr>\n",
              "      <th>2</th>\n",
              "      <td>Black</td>\n",
              "      <td>32623</td>\n",
              "      <td>0.208906</td>\n",
              "    </tr>\n",
              "    <tr>\n",
              "      <th>3</th>\n",
              "      <td>Other</td>\n",
              "      <td>22041</td>\n",
              "      <td>NaN</td>\n",
              "    </tr>\n",
              "    <tr>\n",
              "      <th>4</th>\n",
              "      <td>Asian</td>\n",
              "      <td>20627</td>\n",
              "      <td>0.053729</td>\n",
              "    </tr>\n",
              "    <tr>\n",
              "      <th>5</th>\n",
              "      <td>Native American</td>\n",
              "      <td>1462</td>\n",
              "      <td>0.119773</td>\n",
              "    </tr>\n",
              "    <tr>\n",
              "      <th>6</th>\n",
              "      <td>Hawaiian</td>\n",
              "      <td>43</td>\n",
              "      <td>0.003290</td>\n",
              "    </tr>\n",
              "  </tbody>\n",
              "</table>\n",
              "</div>\n",
              "      <button class=\"colab-df-convert\" onclick=\"convertToInteractive('df-ae642a8c-f9b4-4614-9fab-fc9b332e6d3a')\"\n",
              "              title=\"Convert this dataframe to an interactive table.\"\n",
              "              style=\"display:none;\">\n",
              "        \n",
              "  <svg xmlns=\"http://www.w3.org/2000/svg\" height=\"24px\"viewBox=\"0 0 24 24\"\n",
              "       width=\"24px\">\n",
              "    <path d=\"M0 0h24v24H0V0z\" fill=\"none\"/>\n",
              "    <path d=\"M18.56 5.44l.94 2.06.94-2.06 2.06-.94-2.06-.94-.94-2.06-.94 2.06-2.06.94zm-11 1L8.5 8.5l.94-2.06 2.06-.94-2.06-.94L8.5 2.5l-.94 2.06-2.06.94zm10 10l.94 2.06.94-2.06 2.06-.94-2.06-.94-.94-2.06-.94 2.06-2.06.94z\"/><path d=\"M17.41 7.96l-1.37-1.37c-.4-.4-.92-.59-1.43-.59-.52 0-1.04.2-1.43.59L10.3 9.45l-7.72 7.72c-.78.78-.78 2.05 0 2.83L4 21.41c.39.39.9.59 1.41.59.51 0 1.02-.2 1.41-.59l7.78-7.78 2.81-2.81c.8-.78.8-2.07 0-2.86zM5.41 20L4 18.59l7.72-7.72 1.47 1.35L5.41 20z\"/>\n",
              "  </svg>\n",
              "      </button>\n",
              "      \n",
              "  <style>\n",
              "    .colab-df-container {\n",
              "      display:flex;\n",
              "      flex-wrap:wrap;\n",
              "      gap: 12px;\n",
              "    }\n",
              "\n",
              "    .colab-df-convert {\n",
              "      background-color: #E8F0FE;\n",
              "      border: none;\n",
              "      border-radius: 50%;\n",
              "      cursor: pointer;\n",
              "      display: none;\n",
              "      fill: #1967D2;\n",
              "      height: 32px;\n",
              "      padding: 0 0 0 0;\n",
              "      width: 32px;\n",
              "    }\n",
              "\n",
              "    .colab-df-convert:hover {\n",
              "      background-color: #E2EBFA;\n",
              "      box-shadow: 0px 1px 2px rgba(60, 64, 67, 0.3), 0px 1px 3px 1px rgba(60, 64, 67, 0.15);\n",
              "      fill: #174EA6;\n",
              "    }\n",
              "\n",
              "    [theme=dark] .colab-df-convert {\n",
              "      background-color: #3B4455;\n",
              "      fill: #D2E3FC;\n",
              "    }\n",
              "\n",
              "    [theme=dark] .colab-df-convert:hover {\n",
              "      background-color: #434B5C;\n",
              "      box-shadow: 0px 1px 3px 1px rgba(0, 0, 0, 0.15);\n",
              "      filter: drop-shadow(0px 1px 2px rgba(0, 0, 0, 0.3));\n",
              "      fill: #FFFFFF;\n",
              "    }\n",
              "  </style>\n",
              "\n",
              "      <script>\n",
              "        const buttonEl =\n",
              "          document.querySelector('#df-ae642a8c-f9b4-4614-9fab-fc9b332e6d3a button.colab-df-convert');\n",
              "        buttonEl.style.display =\n",
              "          google.colab.kernel.accessAllowed ? 'block' : 'none';\n",
              "\n",
              "        async function convertToInteractive(key) {\n",
              "          const element = document.querySelector('#df-ae642a8c-f9b4-4614-9fab-fc9b332e6d3a');\n",
              "          const dataTable =\n",
              "            await google.colab.kernel.invokeFunction('convertToInteractive',\n",
              "                                                     [key], {});\n",
              "          if (!dataTable) return;\n",
              "\n",
              "          const docLinkHtml = 'Like what you see? Visit the ' +\n",
              "            '<a target=\"_blank\" href=https://colab.research.google.com/notebooks/data_table.ipynb>data table notebook</a>'\n",
              "            + ' to learn more about interactive tables.';\n",
              "          element.innerHTML = '';\n",
              "          dataTable['output_type'] = 'display_data';\n",
              "          await google.colab.output.renderOutput(dataTable, element);\n",
              "          const docLink = document.createElement('div');\n",
              "          docLink.innerHTML = docLinkHtml;\n",
              "          element.appendChild(docLink);\n",
              "        }\n",
              "      </script>\n",
              "    </div>\n",
              "  </div>\n",
              "  "
            ]
          },
          "metadata": {},
          "execution_count": 48
        }
      ]
    },
    {
      "cell_type": "code",
      "source": [
        "plt.figure(figsize = (10, 5))\n",
        "young_norm_plot = sns.barplot(x = 'Race_Category', y = 'normal', \n",
        "                              data = young_df, palette = palette)\n",
        "plt.title('Racial Distribution of Young Drivers \\n(normalized)');"
      ],
      "metadata": {
        "id": "hNpMSi647scR",
        "colab": {
          "base_uri": "https://localhost:8080/",
          "height": 370
        },
        "outputId": "0fb07cfa-b556-425e-b6a2-cde505565df7"
      },
      "execution_count": null,
      "outputs": [
        {
          "output_type": "display_data",
          "data": {
            "text/plain": [
              "<Figure size 720x360 with 1 Axes>"
            ],
            "image/png": "[encoded data removed]"
          },
          "metadata": {}
        }
      ]
    },
    {
      "cell_type": "markdown",
      "source": [
        "We can see that among young drivers, the distribution of races appear to follow the same pattern as before, where there's a greater proportion of Black drivers stopped compared to other racial groups, and a slightly higher proportion of Native American drivers stopped."
      ],
      "metadata": {
        "id": "ITCMvwi01E0J"
      }
    },
    {
      "cell_type": "markdown",
      "source": [
        "Now, we'll look at middle-aged drivers at least 40 years old."
      ],
      "metadata": {
        "id": "tAtTZ2WMZxYH"
      }
    },
    {
      "cell_type": "code",
      "source": [
        "age_old = stopAll[stopAll['age'] >= 40]\n",
        "\n",
        "plt.figure(figsize = (10, 5))\n",
        "old_count_plot = sns.countplot(x = 'Race_Category', data = age_old, palette = palette);\n",
        "plt.title('Racial Distribution of Old Drivers \\n(not normalized)');"
      ],
      "metadata": {
        "id": "b3IB3KHz1VTv",
        "colab": {
          "base_uri": "https://localhost:8080/",
          "height": 370
        },
        "outputId": "87102156-4a52-49b2-bb44-b7cbcdacfa38"
      },
      "execution_count": null,
      "outputs": [
        {
          "output_type": "display_data",
          "data": {
            "text/plain": [
              "<Figure size 720x360 with 1 Axes>"
            ],
            "image/png": "[encoded data removed]"
          },
          "metadata": {}
        }
      ]
    },
    {
      "cell_type": "markdown",
      "source": [
        "We see the same trend as young drivers. White and Hispanic make the majority of vehicle stops for older drivers."
      ],
      "metadata": {
        "id": "8A7SsulhHdSk"
      }
    },
    {
      "cell_type": "markdown",
      "source": [
        "Again, we normalize the data by using `normalize_pop()`."
      ],
      "metadata": {
        "id": "vgO4UM7LHUXq"
      }
    },
    {
      "cell_type": "code",
      "source": [
        "old_df = pd.DataFrame(age_old.Race_Category.value_counts())\n",
        "old_df = old_df.reset_index()\n",
        "old_df.columns = ['Race_Category', 'count']\n",
        "normalize_pop(old_df)\n",
        "old_df"
      ],
      "metadata": {
        "id": "aaVRPEBe759V",
        "colab": {
          "base_uri": "https://localhost:8080/",
          "height": 269
        },
        "outputId": "9ae187e9-734f-42bc-8b82-94e5b3994165"
      },
      "execution_count": null,
      "outputs": [
        {
          "output_type": "execute_result",
          "data": {
            "text/plain": [
              "     Race_Category  count    normal\n",
              "0            White  80281  0.052948\n",
              "1         Hispanic  47330  0.042541\n",
              "2            Black  17517  0.112172\n",
              "3            Asian  14846  0.038671\n",
              "4            Other  11577       NaN\n",
              "5  Native American    792  0.064884\n",
              "6         Hawaiian     19  0.001454"
            ],
            "text/html": [
              "\n",
              "  <div id=\"df-66dd22f4-91c7-47e6-918b-ca6874121a8b\">\n",
              "    <div class=\"colab-df-container\">\n",
              "      <div>\n",
              "<style scoped>\n",
              "    .dataframe tbody tr th:only-of-type {\n",
              "        vertical-align: middle;\n",
              "    }\n",
              "\n",
              "    .dataframe tbody tr th {\n",
              "        vertical-align: top;\n",
              "    }\n",
              "\n",
              "    .dataframe thead th {\n",
              "        text-align: right;\n",
              "    }\n",
              "</style>\n",
              "<table border=\"1\" class=\"dataframe\">\n",
              "  <thead>\n",
              "    <tr style=\"text-align: right;\">\n",
              "      <th></th>\n",
              "      <th>Race_Category</th>\n",
              "      <th>count</th>\n",
              "      <th>normal</th>\n",
              "    </tr>\n",
              "  </thead>\n",
              "  <tbody>\n",
              "    <tr>\n",
              "      <th>0</th>\n",
              "      <td>White</td>\n",
              "      <td>80281</td>\n",
              "      <td>0.052948</td>\n",
              "    </tr>\n",
              "    <tr>\n",
              "      <th>1</th>\n",
              "      <td>Hispanic</td>\n",
              "      <td>47330</td>\n",
              "      <td>0.042541</td>\n",
              "    </tr>\n",
              "    <tr>\n",
              "      <th>2</th>\n",
              "      <td>Black</td>\n",
              "      <td>17517</td>\n",
              "      <td>0.112172</td>\n",
              "    </tr>\n",
              "    <tr>\n",
              "      <th>3</th>\n",
              "      <td>Asian</td>\n",
              "      <td>14846</td>\n",
              "      <td>0.038671</td>\n",
              "    </tr>\n",
              "    <tr>\n",
              "      <th>4</th>\n",
              "      <td>Other</td>\n",
              "      <td>11577</td>\n",
              "      <td>NaN</td>\n",
              "    </tr>\n",
              "    <tr>\n",
              "      <th>5</th>\n",
              "      <td>Native American</td>\n",
              "      <td>792</td>\n",
              "      <td>0.064884</td>\n",
              "    </tr>\n",
              "    <tr>\n",
              "      <th>6</th>\n",
              "      <td>Hawaiian</td>\n",
              "      <td>19</td>\n",
              "      <td>0.001454</td>\n",
              "    </tr>\n",
              "  </tbody>\n",
              "</table>\n",
              "</div>\n",
              "      <button class=\"colab-df-convert\" onclick=\"convertToInteractive('df-66dd22f4-91c7-47e6-918b-ca6874121a8b')\"\n",
              "              title=\"Convert this dataframe to an interactive table.\"\n",
              "              style=\"display:none;\">\n",
              "        \n",
              "  <svg xmlns=\"http://www.w3.org/2000/svg\" height=\"24px\"viewBox=\"0 0 24 24\"\n",
              "       width=\"24px\">\n",
              "    <path d=\"M0 0h24v24H0V0z\" fill=\"none\"/>\n",
              "    <path d=\"M18.56 5.44l.94 2.06.94-2.06 2.06-.94-2.06-.94-.94-2.06-.94 2.06-2.06.94zm-11 1L8.5 8.5l.94-2.06 2.06-.94-2.06-.94L8.5 2.5l-.94 2.06-2.06.94zm10 10l.94 2.06.94-2.06 2.06-.94-2.06-.94-.94-2.06-.94 2.06-2.06.94z\"/><path d=\"M17.41 7.96l-1.37-1.37c-.4-.4-.92-.59-1.43-.59-.52 0-1.04.2-1.43.59L10.3 9.45l-7.72 7.72c-.78.78-.78 2.05 0 2.83L4 21.41c.39.39.9.59 1.41.59.51 0 1.02-.2 1.41-.59l7.78-7.78 2.81-2.81c.8-.78.8-2.07 0-2.86zM5.41 20L4 18.59l7.72-7.72 1.47 1.35L5.41 20z\"/>\n",
              "  </svg>\n",
              "      </button>\n",
              "      \n",
              "  <style>\n",
              "    .colab-df-container {\n",
              "      display:flex;\n",
              "      flex-wrap:wrap;\n",
              "      gap: 12px;\n",
              "    }\n",
              "\n",
              "    .colab-df-convert {\n",
              "      background-color: #E8F0FE;\n",
              "      border: none;\n",
              "      border-radius: 50%;\n",
              "      cursor: pointer;\n",
              "      display: none;\n",
              "      fill: #1967D2;\n",
              "      height: 32px;\n",
              "      padding: 0 0 0 0;\n",
              "      width: 32px;\n",
              "    }\n",
              "\n",
              "    .colab-df-convert:hover {\n",
              "      background-color: #E2EBFA;\n",
              "      box-shadow: 0px 1px 2px rgba(60, 64, 67, 0.3), 0px 1px 3px 1px rgba(60, 64, 67, 0.15);\n",
              "      fill: #174EA6;\n",
              "    }\n",
              "\n",
              "    [theme=dark] .colab-df-convert {\n",
              "      background-color: #3B4455;\n",
              "      fill: #D2E3FC;\n",
              "    }\n",
              "\n",
              "    [theme=dark] .colab-df-convert:hover {\n",
              "      background-color: #434B5C;\n",
              "      box-shadow: 0px 1px 3px 1px rgba(0, 0, 0, 0.15);\n",
              "      filter: drop-shadow(0px 1px 2px rgba(0, 0, 0, 0.3));\n",
              "      fill: #FFFFFF;\n",
              "    }\n",
              "  </style>\n",
              "\n",
              "      <script>\n",
              "        const buttonEl =\n",
              "          document.querySelector('#df-66dd22f4-91c7-47e6-918b-ca6874121a8b button.colab-df-convert');\n",
              "        buttonEl.style.display =\n",
              "          google.colab.kernel.accessAllowed ? 'block' : 'none';\n",
              "\n",
              "        async function convertToInteractive(key) {\n",
              "          const element = document.querySelector('#df-66dd22f4-91c7-47e6-918b-ca6874121a8b');\n",
              "          const dataTable =\n",
              "            await google.colab.kernel.invokeFunction('convertToInteractive',\n",
              "                                                     [key], {});\n",
              "          if (!dataTable) return;\n",
              "\n",
              "          const docLinkHtml = 'Like what you see? Visit the ' +\n",
              "            '<a target=\"_blank\" href=https://colab.research.google.com/notebooks/data_table.ipynb>data table notebook</a>'\n",
              "            + ' to learn more about interactive tables.';\n",
              "          element.innerHTML = '';\n",
              "          dataTable['output_type'] = 'display_data';\n",
              "          await google.colab.output.renderOutput(dataTable, element);\n",
              "          const docLink = document.createElement('div');\n",
              "          docLink.innerHTML = docLinkHtml;\n",
              "          element.appendChild(docLink);\n",
              "        }\n",
              "      </script>\n",
              "    </div>\n",
              "  </div>\n",
              "  "
            ]
          },
          "metadata": {},
          "execution_count": 51
        }
      ]
    },
    {
      "cell_type": "code",
      "source": [
        "plt.figure(figsize = (10, 5))\n",
        "old_norm_plot = sns.barplot(x = 'Race_Category', y = 'normal', \n",
        "                              data = old_df, palette = palette)\n",
        "plt.title('Racial Distribution of Old Drivers \\n(normalized)');"
      ],
      "metadata": {
        "id": "x3ouejva78J3",
        "colab": {
          "base_uri": "https://localhost:8080/",
          "height": 370
        },
        "outputId": "8142a81a-3985-4d65-c095-4c5280324d46"
      },
      "execution_count": null,
      "outputs": [
        {
          "output_type": "display_data",
          "data": {
            "text/plain": [
              "<Figure size 720x360 with 1 Axes>"
            ],
            "image/png": "[encoded data removed]"
          },
          "metadata": {}
        }
      ]
    },
    {
      "cell_type": "markdown",
      "source": [
        "Again, the normalized racial distribution for older drivers shows a similar distribution to the normalized graph for young drivers. In the graph above, black drivers are most disproportionately stopped by the police despite age. This is followed by the Native American group.\n",
        "\n",
        "Based on these results, we can state that racial distribution of drivers in vehicle stops remains the same between young and old drivers; therefore, age does not appear to drive the trends we see."
      ],
      "metadata": {
        "id": "u5L9WeQJ1XQD"
      }
    },
    {
      "cell_type": "markdown",
      "source": [
        "### Considering Time"
      ],
      "metadata": {
        "id": "TrVH3Watbfq0"
      }
    },
    {
      "cell_type": "markdown",
      "source": [
        "**Reason for Consideration:**\n",
        "\n",
        "In our background, we referenced a recent 2020 study that found that the time of day can influence who gets stopped (https://www.nature.com/articles/s41562-020-0858-1). The study finds that \"black drivers comprise a smaller proportion of drivers stopped after sunset, suggestive of discrimination in stop decisions\". Does this trend hold true for San Diego?\n",
        "\n",
        "To determine if the time of the stop influences the racial distributions we've seen for police vehicular stops, we will divide the data into different times of the day:\n",
        "\n",
        "- morning (5:00 AM - 11:59 AM)\n",
        "- afternoon (12:00 PM - 4:59 PM)\n",
        "- evening (5:00 PM - 10:59 PM)\n",
        "- late night/early morning (11:00 PM - 4:59 AM)"
      ],
      "metadata": {
        "id": "rh4CxsSubtm2"
      }
    },
    {
      "cell_type": "code",
      "source": [
        "morning = stopAll[(pd.DatetimeIndex(stopAll['date_time']).time >= datetime.time(5, 0))\n",
        "                 & (pd.DatetimeIndex(stopAll['date_time']).time <= datetime.time(11, 59))]\n",
        "afternoon = stopAll[(pd.DatetimeIndex(stopAll['date_time']).time >= datetime.time(12, 0))\n",
        "                 & (pd.DatetimeIndex(stopAll['date_time']).time <= datetime.time(16, 59))]\n",
        "evening = stopAll[(pd.DatetimeIndex(stopAll['date_time']).time >= datetime.time(17, 0))\n",
        "                 & (pd.DatetimeIndex(stopAll['date_time']).time <= datetime.time(22, 59))]\n",
        "night = stopAll[(pd.DatetimeIndex(stopAll['date_time']).time >= datetime.time(23, 0))\n",
        "                 | (pd.DatetimeIndex(stopAll['date_time']).time <= datetime.time(4, 59))]"
      ],
      "metadata": {
        "id": "CCHwn96Ddjsm"
      },
      "execution_count": null,
      "outputs": []
    },
    {
      "cell_type": "markdown",
      "source": [
        "We will normalize our data to the population before beginning our analysis. To do so, we use our `normalize_pop()` function."
      ],
      "metadata": {
        "id": "5tpm7NtZeAfo"
      }
    },
    {
      "cell_type": "code",
      "source": [
        "#morning\n",
        "m_df = pd.DataFrame(morning.Race_Category.value_counts())\n",
        "m_df = m_df.reset_index()\n",
        "m_df.columns = ['Race_Category', 'count']\n",
        "normalize_pop(m_df)\n",
        "\n",
        "#afternoon\n",
        "a_df = pd.DataFrame(afternoon.Race_Category.value_counts())\n",
        "a_df = a_df.reset_index()\n",
        "a_df.columns = ['Race_Category', 'count']\n",
        "normalize_pop(a_df)\n",
        "\n",
        "#evening\n",
        "e_df = pd.DataFrame(evening.Race_Category.value_counts())\n",
        "e_df = e_df.reset_index()\n",
        "e_df.columns = ['Race_Category', 'count']\n",
        "normalize_pop(e_df)\n",
        "\n",
        "#night\n",
        "n_df = pd.DataFrame(night.Race_Category.value_counts())\n",
        "n_df = n_df.reset_index()\n",
        "n_df.columns = ['Race_Category', 'count']\n",
        "normalize_pop(n_df)"
      ],
      "metadata": {
        "id": "hf57EM_geXSA"
      },
      "execution_count": null,
      "outputs": []
    },
    {
      "cell_type": "code",
      "source": [
        "#plots\n",
        "fig, ax = plt.subplots(2, 2, figsize = (15, 10))\n",
        "\n",
        "#morning\n",
        "sns.barplot(x = 'Race_Category', y = 'normal', data = m_df, \n",
        "            ax = ax[0, 0], palette = palette);\n",
        "ax[0, 0].set_title('Morning');\n",
        "ax[0, 0].tick_params(axis = 'x', labelsize = 8, labelrotation = 45)\n",
        "\n",
        "#afternoon\n",
        "sns.barplot(x = 'Race_Category', y = 'normal', data = a_df, \n",
        "            ax = ax[0, 1], palette = palette);\n",
        "ax[0, 1].set_title('Afternoon');\n",
        "ax[0, 1].tick_params(axis = 'x', labelsize = 8, labelrotation = 45)\n",
        "\n",
        "#evening\n",
        "sns.barplot(x = 'Race_Category', y = 'normal', data = e_df, \n",
        "            ax = ax[1, 0], palette = palette);\n",
        "ax[1, 0].set_title('Evening');\n",
        "ax[1, 0].tick_params(axis = 'x', labelsize = 8, labelrotation = 45)\n",
        "\n",
        "#night\n",
        "sns.barplot(x = 'Race_Category', y = 'normal', data = n_df, \n",
        "            ax = ax[1, 1], palette = palette);\n",
        "ax[1, 1].set_title('Night');\n",
        "ax[1, 1].tick_params(axis = 'x', labelsize = 8, labelrotation = 45)\n",
        "\n",
        "fig.tight_layout()"
      ],
      "metadata": {
        "colab": {
          "base_uri": "https://localhost:8080/",
          "height": 691
        },
        "id": "iMnrhDfyajaN",
        "outputId": "97475ddd-f394-4ce8-9ce9-452aae2eb3ba"
      },
      "execution_count": null,
      "outputs": [
        {
          "output_type": "display_data",
          "data": {
            "text/plain": [
              "<Figure size 1080x720 with 4 Axes>"
            ],
            "image/png": "[encoded data removed]"
          },
          "metadata": {}
        }
      ]
    },
    {
      "cell_type": "markdown",
      "source": [
        "The graphs above indicate that generally, the proportion of White drivers, Hispanic drivers, and Asian drivers (relative to their respective population estimates) consistently remain around 0.02 - 0.03 for all times of the day. The proportion of Black drivers also stays within a consistent range throughout the day (0.07 - 0.09), though the proportion of Black drivers stopped is much greater than the other racial groups, which matches the pattern we've previously observed.\n",
        "\n",
        "However, the proportion of Native American drivers appears to change throughout the day. In the morning, the proportion is about 0.05, and it drops to around 0.035 in the afternoon. But in the evening, the proportion spikes to about 0.07. In addition, comparing the proportion of Native American drivers to White, Hispanic, and Asian drivers reveals that around nighttime, a greater proportion of Native American drivers seem to be stopped. Yet during the day, their proportion is similar to White, Hispanic, and Asian drivers. This implies that the time of day may have some influence on the trend of more Native American drivers being stopped.\n",
        "\n",
        "The proportion of Hawaiian/Pacific Islander drivers stopped is nearly negligible to the rest of our analysis considering how small their numbers are compared to the rest of our data.\n",
        "\n",
        "There was no demographic data available for \"Other\" racial groups that may be stopped. As such, normalization of their stop data couldn't be found. Analysis of that data can't be conducted."
      ],
      "metadata": {
        "id": "Ij-Ok70SfZYI"
      }
    },
    {
      "cell_type": "markdown",
      "source": [
        "## Statistical Analysis"
      ],
      "metadata": {
        "id": "ZbiZTOeYdNJN"
      }
    },
    {
      "cell_type": "markdown",
      "source": [
        "Previously through explanatory data analysis and visualizations, we've went through several factors that could be related to the chance of police vehicle stop. In this section, we continue to validate our hypothesis in a statistical approach to answer specific questions we are interested in:\n",
        "- Are the racial distribution observed in police vehicle stop be driven by one particular gender?\n",
        "- Is there a significant difference between African American drivers' mean age and White drivers' mean age among those who were stopped by police?"
      ],
      "metadata": {
        "id": "eJ6T5A80IZIh"
      }
    },
    {
      "cell_type": "markdown",
      "source": [
        "### Racial Distribution & Gender of Police Stops\n"
      ],
      "metadata": {
        "id": "uxEs-9TdJLny"
      }
    },
    {
      "cell_type": "markdown",
      "source": [
        "To find out if gender could be the underlying cause of the uneven racial distribution of police vehicle stops as shown above, we conducted a permutation test to see if the racial distribution of each gender come from the same data generating process, or in other words, the same distribution."
      ],
      "metadata": {
        "id": "BD9GQq44JM67"
      }
    },
    {
      "cell_type": "code",
      "source": [
        "sex_df2 = sex_df.pivot_table(index = 'Race_Category', columns = 'sex', values = 'count')\n",
        "df_test = stopAll[['race_code','Race_Category', 'sex']]\n",
        "obs_df = df_test.pivot_table(index = 'Race_Category', columns = 'sex', values = 'race_code', aggfunc = 'count')\n",
        "obs_df / obs_df.sum()"
      ],
      "metadata": {
        "colab": {
          "base_uri": "https://localhost:8080/",
          "height": 300
        },
        "id": "qQTZYpPSJP-C",
        "outputId": "4bc75575-0793-47ab-dc72-40bff7041c0f"
      },
      "execution_count": null,
      "outputs": [
        {
          "output_type": "execute_result",
          "data": {
            "text/plain": [
              "sex                     F         M\n",
              "Race_Category                      \n",
              "Asian            0.086537  0.074444\n",
              "Black            0.094055  0.120809\n",
              "Hawaiian         0.000116  0.000157\n",
              "Hispanic         0.281933  0.317972\n",
              "Native American  0.004075  0.005362\n",
              "Other            0.070163  0.079375\n",
              "White            0.463120  0.401882"
            ],
            "text/html": [
              "\n",
              "  <div id=\"df-d3a8688f-479f-426a-b88d-489aa4bc36b1\">\n",
              "    <div class=\"colab-df-container\">\n",
              "      <div>\n",
              "<style scoped>\n",
              "    .dataframe tbody tr th:only-of-type {\n",
              "        vertical-align: middle;\n",
              "    }\n",
              "\n",
              "    .dataframe tbody tr th {\n",
              "        vertical-align: top;\n",
              "    }\n",
              "\n",
              "    .dataframe thead th {\n",
              "        text-align: right;\n",
              "    }\n",
              "</style>\n",
              "<table border=\"1\" class=\"dataframe\">\n",
              "  <thead>\n",
              "    <tr style=\"text-align: right;\">\n",
              "      <th>sex</th>\n",
              "      <th>F</th>\n",
              "      <th>M</th>\n",
              "    </tr>\n",
              "    <tr>\n",
              "      <th>Race_Category</th>\n",
              "      <th></th>\n",
              "      <th></th>\n",
              "    </tr>\n",
              "  </thead>\n",
              "  <tbody>\n",
              "    <tr>\n",
              "      <th>Asian</th>\n",
              "      <td>0.086537</td>\n",
              "      <td>0.074444</td>\n",
              "    </tr>\n",
              "    <tr>\n",
              "      <th>Black</th>\n",
              "      <td>0.094055</td>\n",
              "      <td>0.120809</td>\n",
              "    </tr>\n",
              "    <tr>\n",
              "      <th>Hawaiian</th>\n",
              "      <td>0.000116</td>\n",
              "      <td>0.000157</td>\n",
              "    </tr>\n",
              "    <tr>\n",
              "      <th>Hispanic</th>\n",
              "      <td>0.281933</td>\n",
              "      <td>0.317972</td>\n",
              "    </tr>\n",
              "    <tr>\n",
              "      <th>Native American</th>\n",
              "      <td>0.004075</td>\n",
              "      <td>0.005362</td>\n",
              "    </tr>\n",
              "    <tr>\n",
              "      <th>Other</th>\n",
              "      <td>0.070163</td>\n",
              "      <td>0.079375</td>\n",
              "    </tr>\n",
              "    <tr>\n",
              "      <th>White</th>\n",
              "      <td>0.463120</td>\n",
              "      <td>0.401882</td>\n",
              "    </tr>\n",
              "  </tbody>\n",
              "</table>\n",
              "</div>\n",
              "      <button class=\"colab-df-convert\" onclick=\"convertToInteractive('df-d3a8688f-479f-426a-b88d-489aa4bc36b1')\"\n",
              "              title=\"Convert this dataframe to an interactive table.\"\n",
              "              style=\"display:none;\">\n",
              "        \n",
              "  <svg xmlns=\"http://www.w3.org/2000/svg\" height=\"24px\"viewBox=\"0 0 24 24\"\n",
              "       width=\"24px\">\n",
              "    <path d=\"M0 0h24v24H0V0z\" fill=\"none\"/>\n",
              "    <path d=\"M18.56 5.44l.94 2.06.94-2.06 2.06-.94-2.06-.94-.94-2.06-.94 2.06-2.06.94zm-11 1L8.5 8.5l.94-2.06 2.06-.94-2.06-.94L8.5 2.5l-.94 2.06-2.06.94zm10 10l.94 2.06.94-2.06 2.06-.94-2.06-.94-.94-2.06-.94 2.06-2.06.94z\"/><path d=\"M17.41 7.96l-1.37-1.37c-.4-.4-.92-.59-1.43-.59-.52 0-1.04.2-1.43.59L10.3 9.45l-7.72 7.72c-.78.78-.78 2.05 0 2.83L4 21.41c.39.39.9.59 1.41.59.51 0 1.02-.2 1.41-.59l7.78-7.78 2.81-2.81c.8-.78.8-2.07 0-2.86zM5.41 20L4 18.59l7.72-7.72 1.47 1.35L5.41 20z\"/>\n",
              "  </svg>\n",
              "      </button>\n",
              "      \n",
              "  <style>\n",
              "    .colab-df-container {\n",
              "      display:flex;\n",
              "      flex-wrap:wrap;\n",
              "      gap: 12px;\n",
              "    }\n",
              "\n",
              "    .colab-df-convert {\n",
              "      background-color: #E8F0FE;\n",
              "      border: none;\n",
              "      border-radius: 50%;\n",
              "      cursor: pointer;\n",
              "      display: none;\n",
              "      fill: #1967D2;\n",
              "      height: 32px;\n",
              "      padding: 0 0 0 0;\n",
              "      width: 32px;\n",
              "    }\n",
              "\n",
              "    .colab-df-convert:hover {\n",
              "      background-color: #E2EBFA;\n",
              "      box-shadow: 0px 1px 2px rgba(60, 64, 67, 0.3), 0px 1px 3px 1px rgba(60, 64, 67, 0.15);\n",
              "      fill: #174EA6;\n",
              "    }\n",
              "\n",
              "    [theme=dark] .colab-df-convert {\n",
              "      background-color: #3B4455;\n",
              "      fill: #D2E3FC;\n",
              "    }\n",
              "\n",
              "    [theme=dark] .colab-df-convert:hover {\n",
              "      background-color: #434B5C;\n",
              "      box-shadow: 0px 1px 3px 1px rgba(0, 0, 0, 0.15);\n",
              "      filter: drop-shadow(0px 1px 2px rgba(0, 0, 0, 0.3));\n",
              "      fill: #FFFFFF;\n",
              "    }\n",
              "  </style>\n",
              "\n",
              "      <script>\n",
              "        const buttonEl =\n",
              "          document.querySelector('#df-d3a8688f-479f-426a-b88d-489aa4bc36b1 button.colab-df-convert');\n",
              "        buttonEl.style.display =\n",
              "          google.colab.kernel.accessAllowed ? 'block' : 'none';\n",
              "\n",
              "        async function convertToInteractive(key) {\n",
              "          const element = document.querySelector('#df-d3a8688f-479f-426a-b88d-489aa4bc36b1');\n",
              "          const dataTable =\n",
              "            await google.colab.kernel.invokeFunction('convertToInteractive',\n",
              "                                                     [key], {});\n",
              "          if (!dataTable) return;\n",
              "\n",
              "          const docLinkHtml = 'Like what you see? Visit the ' +\n",
              "            '<a target=\"_blank\" href=https://colab.research.google.com/notebooks/data_table.ipynb>data table notebook</a>'\n",
              "            + ' to learn more about interactive tables.';\n",
              "          element.innerHTML = '';\n",
              "          dataTable['output_type'] = 'display_data';\n",
              "          await google.colab.output.renderOutput(dataTable, element);\n",
              "          const docLink = document.createElement('div');\n",
              "          docLink.innerHTML = docLinkHtml;\n",
              "          element.appendChild(docLink);\n",
              "        }\n",
              "      </script>\n",
              "    </div>\n",
              "  </div>\n",
              "  "
            ]
          },
          "metadata": {},
          "execution_count": 96
        }
      ]
    },
    {
      "cell_type": "markdown",
      "source": [
        "The way we quantify how different the two categorical distributions are is by having our test statistic to be TVD, Total Variation Distance, in measuring the distance between the two probability distributions. A helper function is defined below for calculating TVD and the details of the permutation test as follows:"
      ],
      "metadata": {
        "id": "BwCjMR2ZJUlF"
      }
    },
    {
      "cell_type": "code",
      "source": [
        "def tvd(df):\n",
        "    prop = df.pivot_table(index = 'Race_Category', columns = 'sex', values = 'race_code', aggfunc = 'count')\n",
        "    dist = prop/prop.sum()\n",
        "    return dist.diff(axis = 1).iloc[:, -1].abs().sum()/2\n",
        "#Observed Test Statistic\n",
        "obs = tvd(df_test)\n",
        "obs"
      ],
      "metadata": {
        "colab": {
          "base_uri": "https://localhost:8080/"
        },
        "id": "3zBYS1v5JS-F",
        "outputId": "46277b8f-87e9-41ba-cc11-4fe6f140241e"
      },
      "execution_count": null,
      "outputs": [
        {
          "output_type": "execute_result",
          "data": {
            "text/plain": [
              "0.07333077985584097"
            ]
          },
          "metadata": {},
          "execution_count": 57
        }
      ]
    },
    {
      "cell_type": "code",
      "source": [
        "# The permuation test:\n",
        "#Since our dataset is huge, we decided to take only 100 repetition process\n",
        "n_repetitions = 100\n",
        "diff = []\n",
        "for _ in range(n_repetitions):\n",
        "    shuffled_sex = (df_test['sex'].sample(frac=1).reset_index(drop = True))\n",
        "    shuffled_df = (df_test.assign(**{'sex': shuffled_sex}))\n",
        "    diff.append(tvd(shuffled_df))\n",
        "#p-value\n",
        "p_val = np.mean(np.array(diff) >= obs)\n",
        "p_val"
      ],
      "metadata": {
        "colab": {
          "base_uri": "https://localhost:8080/"
        },
        "id": "V7YhX2G9JZjW",
        "outputId": "b0a2c9e2-a265-4079-c847-36b9f2837605"
      },
      "execution_count": null,
      "outputs": [
        {
          "output_type": "execute_result",
          "data": {
            "text/plain": [
              "0.0"
            ]
          },
          "metadata": {},
          "execution_count": 58
        }
      ]
    },
    {
      "cell_type": "code",
      "source": [
        "title = 'TVDs in Sex Distribution (Male - Female)'\n",
        "pd.Series(diff).plot(kind='hist', density=True, ec='w', bins=10, title=title)\n",
        "plt.axvline(x=obs, color='red', linewidth=3);"
      ],
      "metadata": {
        "colab": {
          "base_uri": "https://localhost:8080/",
          "height": 284
        },
        "id": "H3dL-bKTJcSc",
        "outputId": "5fd9db52-867a-4f67-adcf-86edb353c8ac"
      },
      "execution_count": null,
      "outputs": [
        {
          "output_type": "display_data",
          "data": {
            "text/plain": [
              "<Figure size 432x288 with 1 Axes>"
            ],
            "image/png": "[encoded data removed]"
          },
          "metadata": {}
        }
      ]
    },
    {
      "cell_type": "markdown",
      "source": [
        "An extremely small p-value shows that there is a statistically significant difference in the racial distribution between Male and Female. \n",
        "\n",
        "\n",
        "This result tells us that the racial distribution between gender is statistically different. But does this change our conclusion that minorities are more likely to be pulled over by police? Let's take a look back at our previous graph from the section 'Considering Gender':"
      ],
      "metadata": {
        "id": "E8Tefwk-JhpC"
      }
    },
    {
      "cell_type": "code",
      "source": [
        "plt.figure(figsize = (15, 5))\n",
        "plot_sex = sns.barplot(x = 'sex', y = 'normal', hue = 'Race_Category', \n",
        "                       data = sex_df, palette = palette)\n",
        "plt.title('Racial Distribution Given Gender \\n(normalized)');"
      ],
      "metadata": {
        "colab": {
          "base_uri": "https://localhost:8080/",
          "height": 370
        },
        "id": "I0BHvnVxzFNf",
        "outputId": "2b65b07f-54cb-44fe-a554-7e4f351208eb"
      },
      "execution_count": null,
      "outputs": [
        {
          "output_type": "display_data",
          "data": {
            "text/plain": [
              "<Figure size 1080x360 with 1 Axes>"
            ],
            "image/png": "[encoded data removed]"
          },
          "metadata": {}
        }
      ]
    },
    {
      "cell_type": "markdown",
      "source": [
        "This graph shows the normalized racial distribution given gender. As you can see from the graph, both Female and Male groups show that Black people are most disproportionately pulled over by police. So this trend still appears no matter what gender.\n",
        "\n",
        "Thus, these results continue to prove our hypothesis that minorities are more likely to be stopped. In this case, we can specifically state that Black drivers are more likely to be pulled over despite gender."
      ],
      "metadata": {
        "id": "b9th8HyizR8v"
      }
    },
    {
      "cell_type": "markdown",
      "source": [
        "### Age Difference between Two Major Racial Groups"
      ],
      "metadata": {
        "id": "BQKNsIR9WD_1"
      }
    },
    {
      "cell_type": "markdown",
      "source": [
        "From previous visualization of the normalized proportion bar charts, we discovered that young black drivers have appeared to be typically the most frequent group to be stopped by the police. To test our hypothesis, we compared the African American group with the White group in terms of the drivers' age. The latter group has consisted almost half of the stop observations so it should be representative enough to serve as a baseline for us to compare if there is really a difference in ages of Black drivers from the other groups. To do this, we will perform a student's t test using scipy. \n",
        "- Null hypothesis: The mean age of Black drivers is equal to the mean age of White drivers\n",
        "- Alternative hypothesis: The mean age of Black drivers is significantly larger than the mean age of White drivers\n"
      ],
      "metadata": {
        "id": "Z7l5r_rgWTnd"
      }
    },
    {
      "cell_type": "code",
      "source": [
        "stopAll.groupby('Race_Category').mean()['age'].to_frame()"
      ],
      "metadata": {
        "colab": {
          "base_uri": "https://localhost:8080/",
          "height": 300
        },
        "id": "9vXGVqkpYh8m",
        "outputId": "de685553-1dcc-4e02-f87f-85f86c86f310"
      },
      "execution_count": null,
      "outputs": [
        {
          "output_type": "execute_result",
          "data": {
            "text/plain": [
              "                       age\n",
              "Race_Category             \n",
              "Asian            37.744126\n",
              "Black            35.913788\n",
              "Hawaiian         35.365079\n",
              "Hispanic         35.324839\n",
              "Native American  36.425786\n",
              "Other            35.718977\n",
              "White            38.876168"
            ],
            "text/html": [
              "\n",
              "  <div id=\"df-8bda997f-f7f0-4487-9640-b7b46b5814a5\">\n",
              "    <div class=\"colab-df-container\">\n",
              "      <div>\n",
              "<style scoped>\n",
              "    .dataframe tbody tr th:only-of-type {\n",
              "        vertical-align: middle;\n",
              "    }\n",
              "\n",
              "    .dataframe tbody tr th {\n",
              "        vertical-align: top;\n",
              "    }\n",
              "\n",
              "    .dataframe thead th {\n",
              "        text-align: right;\n",
              "    }\n",
              "</style>\n",
              "<table border=\"1\" class=\"dataframe\">\n",
              "  <thead>\n",
              "    <tr style=\"text-align: right;\">\n",
              "      <th></th>\n",
              "      <th>age</th>\n",
              "    </tr>\n",
              "    <tr>\n",
              "      <th>Race_Category</th>\n",
              "      <th></th>\n",
              "    </tr>\n",
              "  </thead>\n",
              "  <tbody>\n",
              "    <tr>\n",
              "      <th>Asian</th>\n",
              "      <td>37.744126</td>\n",
              "    </tr>\n",
              "    <tr>\n",
              "      <th>Black</th>\n",
              "      <td>35.913788</td>\n",
              "    </tr>\n",
              "    <tr>\n",
              "      <th>Hawaiian</th>\n",
              "      <td>35.365079</td>\n",
              "    </tr>\n",
              "    <tr>\n",
              "      <th>Hispanic</th>\n",
              "      <td>35.324839</td>\n",
              "    </tr>\n",
              "    <tr>\n",
              "      <th>Native American</th>\n",
              "      <td>36.425786</td>\n",
              "    </tr>\n",
              "    <tr>\n",
              "      <th>Other</th>\n",
              "      <td>35.718977</td>\n",
              "    </tr>\n",
              "    <tr>\n",
              "      <th>White</th>\n",
              "      <td>38.876168</td>\n",
              "    </tr>\n",
              "  </tbody>\n",
              "</table>\n",
              "</div>\n",
              "      <button class=\"colab-df-convert\" onclick=\"convertToInteractive('df-8bda997f-f7f0-4487-9640-b7b46b5814a5')\"\n",
              "              title=\"Convert this dataframe to an interactive table.\"\n",
              "              style=\"display:none;\">\n",
              "        \n",
              "  <svg xmlns=\"http://www.w3.org/2000/svg\" height=\"24px\"viewBox=\"0 0 24 24\"\n",
              "       width=\"24px\">\n",
              "    <path d=\"M0 0h24v24H0V0z\" fill=\"none\"/>\n",
              "    <path d=\"M18.56 5.44l.94 2.06.94-2.06 2.06-.94-2.06-.94-.94-2.06-.94 2.06-2.06.94zm-11 1L8.5 8.5l.94-2.06 2.06-.94-2.06-.94L8.5 2.5l-.94 2.06-2.06.94zm10 10l.94 2.06.94-2.06 2.06-.94-2.06-.94-.94-2.06-.94 2.06-2.06.94z\"/><path d=\"M17.41 7.96l-1.37-1.37c-.4-.4-.92-.59-1.43-.59-.52 0-1.04.2-1.43.59L10.3 9.45l-7.72 7.72c-.78.78-.78 2.05 0 2.83L4 21.41c.39.39.9.59 1.41.59.51 0 1.02-.2 1.41-.59l7.78-7.78 2.81-2.81c.8-.78.8-2.07 0-2.86zM5.41 20L4 18.59l7.72-7.72 1.47 1.35L5.41 20z\"/>\n",
              "  </svg>\n",
              "      </button>\n",
              "      \n",
              "  <style>\n",
              "    .colab-df-container {\n",
              "      display:flex;\n",
              "      flex-wrap:wrap;\n",
              "      gap: 12px;\n",
              "    }\n",
              "\n",
              "    .colab-df-convert {\n",
              "      background-color: #E8F0FE;\n",
              "      border: none;\n",
              "      border-radius: 50%;\n",
              "      cursor: pointer;\n",
              "      display: none;\n",
              "      fill: #1967D2;\n",
              "      height: 32px;\n",
              "      padding: 0 0 0 0;\n",
              "      width: 32px;\n",
              "    }\n",
              "\n",
              "    .colab-df-convert:hover {\n",
              "      background-color: #E2EBFA;\n",
              "      box-shadow: 0px 1px 2px rgba(60, 64, 67, 0.3), 0px 1px 3px 1px rgba(60, 64, 67, 0.15);\n",
              "      fill: #174EA6;\n",
              "    }\n",
              "\n",
              "    [theme=dark] .colab-df-convert {\n",
              "      background-color: #3B4455;\n",
              "      fill: #D2E3FC;\n",
              "    }\n",
              "\n",
              "    [theme=dark] .colab-df-convert:hover {\n",
              "      background-color: #434B5C;\n",
              "      box-shadow: 0px 1px 3px 1px rgba(0, 0, 0, 0.15);\n",
              "      filter: drop-shadow(0px 1px 2px rgba(0, 0, 0, 0.3));\n",
              "      fill: #FFFFFF;\n",
              "    }\n",
              "  </style>\n",
              "\n",
              "      <script>\n",
              "        const buttonEl =\n",
              "          document.querySelector('#df-8bda997f-f7f0-4487-9640-b7b46b5814a5 button.colab-df-convert');\n",
              "        buttonEl.style.display =\n",
              "          google.colab.kernel.accessAllowed ? 'block' : 'none';\n",
              "\n",
              "        async function convertToInteractive(key) {\n",
              "          const element = document.querySelector('#df-8bda997f-f7f0-4487-9640-b7b46b5814a5');\n",
              "          const dataTable =\n",
              "            await google.colab.kernel.invokeFunction('convertToInteractive',\n",
              "                                                     [key], {});\n",
              "          if (!dataTable) return;\n",
              "\n",
              "          const docLinkHtml = 'Like what you see? Visit the ' +\n",
              "            '<a target=\"_blank\" href=https://colab.research.google.com/notebooks/data_table.ipynb>data table notebook</a>'\n",
              "            + ' to learn more about interactive tables.';\n",
              "          element.innerHTML = '';\n",
              "          dataTable['output_type'] = 'display_data';\n",
              "          await google.colab.output.renderOutput(dataTable, element);\n",
              "          const docLink = document.createElement('div');\n",
              "          docLink.innerHTML = docLinkHtml;\n",
              "          element.appendChild(docLink);\n",
              "        }\n",
              "      </script>\n",
              "    </div>\n",
              "  </div>\n",
              "  "
            ]
          },
          "metadata": {},
          "execution_count": 61
        }
      ]
    },
    {
      "cell_type": "code",
      "source": [
        "#since t test cannot handle null values\n",
        "black = stopAll.loc[stopAll['Race_Category'] == 'Black', 'age'].dropna()\n",
        "white = stopAll.loc[stopAll['Race_Category'] == 'White', 'age'].dropna()\n",
        "stats.ttest_ind(black, white)"
      ],
      "metadata": {
        "colab": {
          "base_uri": "https://localhost:8080/"
        },
        "id": "_tk7UpmrYaLT",
        "outputId": "41f28092-3153-4ece-9aad-3a45c24d4bfa"
      },
      "execution_count": null,
      "outputs": [
        {
          "output_type": "execute_result",
          "data": {
            "text/plain": [
              "Ttest_indResult(statistic=-37.59461616210613, pvalue=2.1266526172395397e-308)"
            ]
          },
          "metadata": {},
          "execution_count": 62
        }
      ]
    },
    {
      "cell_type": "markdown",
      "source": [
        "The average age of Black drivers being pulled over by the police is at 35.9, which is statistically significantly lower than that of White drivers with a mean age of 38.9 ($p = 2.13 \\times 10^{-308}$). Such disparity in age between the two racial groups could implicate a number of social equality problems, such as bias against younger Black drivers or elder White drivers. These conclusions can not yet be drawn as we related back the data cleaning section where we left out the unfaithful age data untreated, yet the disparity is worth noticing."
      ],
      "metadata": {
        "id": "ufe5ccanbWxY"
      }
    },
    {
      "cell_type": "markdown",
      "source": [
        "#Ethics and Privacy"
      ],
      "metadata": {
        "id": "En4jCNLme1pE"
      }
    },
    {
      "cell_type": "markdown",
      "source": [
        "Due to the nature of the data collected by the San Diego Police Department, some information may indirectly be personally identifiable information. This can include the combination of \n",
        " of vehicle stop for each subject. However, all the data used still remains anonymous. In addition, the datasets are maintained by the City of San Diego and are therefore publicly accessible for others to attempt to recreate this project and our results.\n",
        "\n",
        "\n",
        "There may be some biases in our data and our subsequent analysis: racial demographics in each San Diego area, time of vehicle stop, and subject’s age and sex. As such, these factors will be taken into account while analyzing our data, and we will attempt to determine if there is an association between any of these variables and vehicle stops that may impact the results. This analysis is not influenced by personal biases toward race or the law enforcement system. \n",
        "\n",
        "The results of our analysis are to determine correlation, so we must keep in mind that correlation does not prove causation. We can only show that minority drivers are disproportionately pulled over through our data, but cannot prove that this is because of racial bias. On a similar note, we cannot generalize all vehicle stops to be influenced by racial bias. Our results are not meant to positively or negatively endorse any group or institution, but rather to show how specific factors influence vehicle stops through data.\n",
        "\n",
        "In addition, due to the data being collected for San Diego specifically, the results from our analysis may not be applicable to other regions or states due to a difference in population demographics and police activity. Our data set was also limited to the years 2014 - 2018 and doesn't consider how current events and social movements, like the rise of the Black Lives Matter protests in 2020, may have impacted these results. As such, our data may not accurately represent the current patterns of police vehicle stop activity and shouldn't be used as conclusive evidence. \n",
        "\n",
        "Overall, throughout the completion of the project, our group considered any ethical concerns or privacy issues that may have occured and addressed them accordingly."
      ],
      "metadata": {
        "id": "7Td6LQzoe4mo"
      }
    },
    {
      "cell_type": "markdown",
      "source": [
        "#Conclusion and Discussion"
      ],
      "metadata": {
        "id": "dZqCh4Vpenp1"
      }
    },
    {
      "cell_type": "markdown",
      "source": [
        "Our project's aim is to explore how race and other factors influence vehicle stop decisions in San Diego. We hypothesized that racial minorities are more likely to be stopped by police. To prove this hypothesis, we used data from *data.sandiego.gov* to understand the trend of vehicles being stopped over time (2014 - 2018), and compared it to data from *dof.ca.gov* containing population demographic of San Diego county. \n",
        "\n",
        "Our analysis included visualizing any trends of being stopped over time for each racial group while considering multiple factors: gender, age, and time of stop. By looking at the population demographics, we can observe that the majority of the population in San Diego County are White. We see a similar trend in the second dataset (Vehicle Stops) where majority of drivers getting pulled over were white. However, after normalizing the vehicle stop data to the population demographics, we observe that Black and Native American drivers are more likely to be stopped then drivers of other races, a trend that remains consistent over time. However, the proportion of non-White drivers being stopped appear to be decreasing over time, slowly approaching the proportion of White drivers stopped. \n",
        "\n",
        "When considering how gender could influence these trends, we broke down our data by gender, then by racial group. After normalizing our data, the results indicate that a greater proportion of Black male drivers (proportion = 0.23) are stopped, followed by Native American male drivers (proportion = 0.13). However, the overall racial trends appear similar to what was previously observed, implying that gender most likely doesn't drive the trend.\n",
        "\n",
        "Drivers' ages vary, from 16 years old up to 90 years old, with the majority of the drivers being 20 - 40 years old. Thus, after dividing our dataset into two categories - Young Drivers (16-40) and Old Drivers (40+) - we broke down these subsets by racial group. Our graphs demonstrated that the racial distributions follow the pattern of previous findings for both, indicating the age most likely doesn't have a large influence on the racial trends we've seen.\n",
        "\n",
        "To consider how the time of being stopped may play a role, we split the dataset into four times of the day - Morning, Afternoon, Evening, and Night - to categorize the change of vehicle stops trend. Our results indicate that regardless of time, Black drivers have highest proportion of drivers stopped. The proportions for White, Hispanic, and Asian drivers remain relatively similar and consistent throughout the day. The proportion of Native American drivers stopped are not consistent throughout the day, as there is a notable increase in the evening and in the night. This indicates that the time of day may influence the trends we previously observed, considering how the proportion of Native American drivers stopped in the morning and afternoon are somewhat similar to White and Hispanic drivers.\n",
        "\n",
        "According to our statistical analysis, there is a significant difference between the ages of Black drivers stopped and White drivers stopped. This implies that age may contribute to the large disparity between the proportion of Black drivers stopped and the proportion for non-Black drivers, though further analysis would be required for definitive evidence.\n",
        "\n",
        "Overall, our results support our hypothesis that racial minorites are more likely to be stopped by the police, though this is only true for Black and Native American drivers in the San Diego area. The proportion of Hispanic and Asian drivers appear to be the same as for White drivers. However, there are some limitations to our analysis since we didn't consider police presence. If there's a greater police presence in communities with a higher Black or Native American population, this would contribute to the trends observed. But since we do not have any data about police presence in corresponding area codes, this analysis could not be conducted. Another limitation is officer information. We do not know which officer stopped which drivers, and the trends observed may be influenced by some group of specific officers' actions. For others who want to further explore this question, we recommend creating a geospatial analysis on population and police data in specific locations in San Diego.\n",
        "\n",
        "Our analysis demonstrates that there are racial disparities in police vehicular stops for the San Diego area, and that part of this may be influenced by the time of day these stops occur. We hope this analysis will prompt further research about the cause for these trends we observed and to raise awareness about possible problems regarding systemic racism in our local communities and incentivize more action to address how biases can affect day-to-day life.\n",
        "\n"
      ],
      "metadata": {
        "id": "Pd3MKU2teuzb"
      }
    },
    {
      "cell_type": "markdown",
      "source": [
        "# Team Contributions"
      ],
      "metadata": {
        "id": "7v1yIiEyeoR2"
      }
    },
    {
      "cell_type": "markdown",
      "source": [
        "- Man Jiang: background and prior work, data cleaning, statistical analysis\n",
        "- Anya Bodhisartha: background and prior work, hypothesis, EDA, conclusion & discussion\n",
        "- Jiliana Tiu: background and prior work, analysis descriptions, ethics & privacy, conclusion & discussion\n",
        "- Jingyue Xu: background and prior work, compile datasets, data cleaning, EDA \n",
        "- Divya Shetty: data cleaning, EDA, ethics & privacy, conclusion & discussion"
      ],
      "metadata": {
        "id": "8sokC_Quexm_"
      }
    }
  ],
  "metadata": {
    "kernelspec": {
      "display_name": "Python 3",
      "language": "python",
      "name": "python3"
    },
    "language_info": {
      "codemirror_mode": {
        "name": "ipython",
        "version": 3
      },
      "file_extension": ".py",
      "mimetype": "text/x-python",
      "name": "python",
      "nbconvert_exporter": "python",
      "pygments_lexer": "ipython3",
      "version": "3.7.9"
    },
    "colab": {
      "name": "DataCheckpoint_group022.ipynb",
      "provenance": [],
      "collapsed_sections": [],
      "toc_visible": true
    }
  },
  "nbformat": 4,
  "nbformat_minor": 0
}
